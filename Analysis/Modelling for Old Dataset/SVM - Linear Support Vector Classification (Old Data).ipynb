{
 "cells": [
  {
   "cell_type": "code",
   "execution_count": 1,
   "metadata": {},
   "outputs": [],
   "source": [
    "# Packages for data \n",
    "import pandas as pd\n",
    "import numpy as np\n",
    "import pickle\n",
    "\n",
    "# Packages for machine learning modelling\n",
    "from sklearn.model_selection import train_test_split\n",
    "from sklearn.feature_extraction.text import CountVectorizer, TfidfVectorizer\n",
    "from sklearn.naive_bayes import BernoulliNB\n",
    "from sklearn.linear_model import LogisticRegression\n",
    "from sklearn.svm import LinearSVC\n",
    "\n",
    "from sklearn.metrics import classification_report,confusion_matrix, ConfusionMatrixDisplay, accuracy_score\n",
    "# precision_score, recall_score, f1_score\n",
    "\n",
    "# Packages for visualisation \n",
    "import matplotlib.pyplot as plt\n",
    "\n",
    "# Packages for MLP\n",
    "import nltk\n"
   ]
  },
  {
   "cell_type": "markdown",
   "metadata": {},
   "source": [
    "# Train-test-split"
   ]
  },
  {
   "cell_type": "code",
   "execution_count": 2,
   "metadata": {},
   "outputs": [],
   "source": [
    "true_data = pd.read_csv(\"clean data/true_clean_data.csv\", index_col=0)\n",
    "fake_data = pd.read_csv(\"clean data/fake_clean_data.csv\", index_col=0)"
   ]
  },
  {
   "cell_type": "code",
   "execution_count": 3,
   "metadata": {},
   "outputs": [],
   "source": [
    "true_X = true_data[\"text_preprocessed\"].values\n",
    "true_y = true_data[\"class_label\"].values\n",
    "\n",
    "fake_X = fake_data[\"text_preprocessed\"].values\n",
    "fake_y = fake_data[\"class_label\"].values"
   ]
  },
  {
   "cell_type": "code",
   "execution_count": 4,
   "metadata": {},
   "outputs": [],
   "source": [
    "# Splitting true and fake data into training and test subsets\n",
    "true_X_train, true_X_test, true_y_train, true_y_test = train_test_split(true_X, true_y, test_size = 0.2, random_state=99)\n",
    "fake_X_train, fake_X_test, fake_y_train, fake_y_test = train_test_split(fake_X, fake_y, test_size = 0.2, random_state=99)\n",
    "\n",
    "# Splitting training data into train and validation subsets\n",
    "true_X_train, true_X_val, true_y_train, true_y_val = train_test_split(true_X_train, true_y_train, test_size = 0.2, random_state=99)\n",
    "fake_X_train, fake_X_val, fake_y_train, fake_y_val = train_test_split(fake_X_train, fake_y_train, test_size = 0.2, random_state=99)"
   ]
  },
  {
   "cell_type": "code",
   "execution_count": 5,
   "metadata": {},
   "outputs": [],
   "source": [
    "# Text \n",
    "X_train_text = np.concatenate((true_X_train,fake_X_train))\n",
    "X_val_text = np.concatenate((true_X_val, fake_X_val))\n",
    "X_test_text = np.concatenate((true_X_test, fake_X_test))\n",
    "\n",
    "# Labels\n",
    "y_train = np.concatenate((true_y_train, fake_y_train))\n",
    "y_val = np.concatenate((true_y_val, fake_y_val))\n",
    "y_test = np.concatenate((true_y_test, fake_y_test))"
   ]
  },
  {
   "cell_type": "code",
   "execution_count": 6,
   "metadata": {},
   "outputs": [
    {
     "name": "stdout",
     "output_type": "stream",
     "text": [
      "44898\n",
      "44898\n"
     ]
    }
   ],
   "source": [
    "print(true_data.shape[0] + fake_data.shape[0])\n",
    "print(len(X_train_text) + len(X_val_text) + len(X_test_text))"
   ]
  },
  {
   "cell_type": "markdown",
   "metadata": {},
   "source": [
    "# Creating the Base Model using Linear Support Vector Classification\n",
    "\n",
    "## Using CountVectorizer with Bag of Words, Unigrams\n",
    "\n",
    "vectorizer = CountVectorizer(stop_words='english', ngram_range=(1,1))\n",
    "vectorizer.fit(X_train_text)\n",
    "\n",
    "X_train = vectorizer.transform(X_train_text)\n",
    "X_val = vectorizer.transform(X_val_text)\n",
    "X_test = vectorizer.transform(X_test_text)"
   ]
  },
  {
   "cell_type": "code",
   "execution_count": 8,
   "metadata": {},
   "outputs": [
    {
     "name": "stdout",
     "output_type": "stream",
     "text": [
      "  (0, 1020)\t1\n",
      "  (0, 1267)\t1\n",
      "  (0, 2929)\t1\n",
      "  (0, 3406)\t1\n",
      "  (0, 6442)\t1\n",
      "  (0, 6663)\t1\n",
      "  (0, 6789)\t1\n",
      "  (0, 10164)\t1\n",
      "  (0, 11894)\t1\n",
      "  (0, 11979)\t1\n",
      "  (0, 13184)\t1\n",
      "  (0, 14018)\t1\n",
      "  (0, 14352)\t1\n",
      "  (0, 17093)\t1\n",
      "  (0, 19614)\t1\n",
      "  (0, 20249)\t1\n",
      "  (0, 20911)\t2\n",
      "  (0, 21401)\t2\n",
      "  (0, 21930)\t1\n",
      "  (0, 22659)\t2\n",
      "  (0, 23359)\t3\n",
      "  (0, 23376)\t1\n",
      "  (0, 26317)\t2\n",
      "  (0, 28545)\t4\n",
      "  (0, 29933)\t1\n",
      "  :\t:\n",
      "  (28732, 168212)\t1\n",
      "  (28732, 170249)\t1\n",
      "  (28732, 170567)\t1\n",
      "  (28732, 170803)\t1\n",
      "  (28732, 173947)\t2\n",
      "  (28732, 174291)\t1\n",
      "  (28732, 174384)\t2\n",
      "  (28732, 174624)\t1\n",
      "  (28732, 175075)\t2\n",
      "  (28732, 175145)\t1\n",
      "  (28732, 175393)\t1\n",
      "  (28732, 175490)\t1\n",
      "  (28732, 175940)\t1\n",
      "  (28732, 176175)\t1\n",
      "  (28732, 178226)\t1\n",
      "  (28732, 178340)\t1\n",
      "  (28732, 178750)\t1\n",
      "  (28732, 178789)\t1\n",
      "  (28732, 178935)\t1\n",
      "  (28732, 178980)\t1\n",
      "  (28732, 179709)\t2\n",
      "  (28732, 179869)\t1\n",
      "  (28732, 180841)\t1\n",
      "  (28732, 181109)\t1\n",
      "  (28732, 181342)\t1\n"
     ]
    }
   ],
   "source": [
    "# Sparse vector of frequency of each word appearing in a text article\n",
    "print(X_train)"
   ]
  },
  {
   "cell_type": "code",
   "execution_count": 9,
   "metadata": {},
   "outputs": [
    {
     "name": "stderr",
     "output_type": "stream",
     "text": [
      "C:\\Users\\ASUS User\\Anaconda3\\lib\\site-packages\\sklearn\\svm\\_base.py:986: ConvergenceWarning: Liblinear failed to converge, increase the number of iterations.\n",
      "  \"the number of iterations.\", ConvergenceWarning)\n"
     ]
    },
    {
     "data": {
      "text/plain": [
       "LinearSVC()"
      ]
     },
     "execution_count": 9,
     "metadata": {},
     "output_type": "execute_result"
    }
   ],
   "source": [
    "svm_clf = LinearSVC()\n",
    "svm_clf.fit(X_train, y_train)"
   ]
  },
  {
   "cell_type": "code",
   "execution_count": 10,
   "metadata": {},
   "outputs": [
    {
     "name": "stdout",
     "output_type": "stream",
     "text": [
      "              precision    recall  f1-score   support\n",
      "\n",
      "           0       0.99      1.00      1.00      3427\n",
      "           1       1.00      0.99      1.00      3757\n",
      "\n",
      "    accuracy                           1.00      7184\n",
      "   macro avg       1.00      1.00      1.00      7184\n",
      "weighted avg       1.00      1.00      1.00      7184\n",
      "\n"
     ]
    }
   ],
   "source": [
    "y_val_pred = svm_clf.predict(X_val)\n",
    "# accuracy_score(y_val, y_val_pred)\n",
    "print(classification_report(y_val, y_val_pred))"
   ]
  },
  {
   "cell_type": "code",
   "execution_count": 11,
   "metadata": {},
   "outputs": [
    {
     "name": "stdout",
     "output_type": "stream",
     "text": [
      "              precision    recall  f1-score   support\n",
      "\n",
      "           0       0.99      1.00      0.99      4284\n",
      "           1       1.00      0.99      1.00      4697\n",
      "\n",
      "    accuracy                           1.00      8981\n",
      "   macro avg       1.00      1.00      1.00      8981\n",
      "weighted avg       1.00      1.00      1.00      8981\n",
      "\n"
     ]
    }
   ],
   "source": [
    "y_test_pred = svm_clf.predict(X_test)\n",
    "print(classification_report(y_test, y_test_pred))"
   ]
  },
  {
   "cell_type": "markdown",
   "metadata": {},
   "source": [
    "## Using CountVectorizer with Bag of Words, Unigrams + Bigrams"
   ]
  },
  {
   "cell_type": "code",
   "execution_count": 12,
   "metadata": {},
   "outputs": [],
   "source": [
    "vectorizer2 = CountVectorizer(stop_words='english', ngram_range=(1,2))\n",
    "vectorizer2.fit(X_train_text)\n",
    "\n",
    "X_train = vectorizer2.transform(X_train_text)\n",
    "X_val = vectorizer2.transform(X_val_text)\n",
    "X_test = vectorizer2.transform(X_test_text)"
   ]
  },
  {
   "cell_type": "code",
   "execution_count": 13,
   "metadata": {},
   "outputs": [
    {
     "name": "stdout",
     "output_type": "stream",
     "text": [
      "              precision    recall  f1-score   support\n",
      "\n",
      "           0       0.99      1.00      1.00      3427\n",
      "           1       1.00      0.99      1.00      3757\n",
      "\n",
      "    accuracy                           1.00      7184\n",
      "   macro avg       1.00      1.00      1.00      7184\n",
      "weighted avg       1.00      1.00      1.00      7184\n",
      "\n"
     ]
    },
    {
     "name": "stderr",
     "output_type": "stream",
     "text": [
      "C:\\Users\\ASUS User\\Anaconda3\\lib\\site-packages\\sklearn\\svm\\_base.py:986: ConvergenceWarning: Liblinear failed to converge, increase the number of iterations.\n",
      "  \"the number of iterations.\", ConvergenceWarning)\n"
     ]
    }
   ],
   "source": [
    "# Validation Data\n",
    "svm_clf.fit(X_train, y_train)\n",
    "\n",
    "y_val_pred2 = svm_clf.predict(X_val)\n",
    "print(classification_report(y_val, y_val_pred2))"
   ]
  },
  {
   "cell_type": "code",
   "execution_count": 14,
   "metadata": {},
   "outputs": [
    {
     "name": "stdout",
     "output_type": "stream",
     "text": [
      "              precision    recall  f1-score   support\n",
      "\n",
      "           0       0.99      1.00      1.00      4284\n",
      "           1       1.00      1.00      1.00      4697\n",
      "\n",
      "    accuracy                           1.00      8981\n",
      "   macro avg       1.00      1.00      1.00      8981\n",
      "weighted avg       1.00      1.00      1.00      8981\n",
      "\n"
     ]
    },
    {
     "name": "stderr",
     "output_type": "stream",
     "text": [
      "C:\\Users\\ASUS User\\Anaconda3\\lib\\site-packages\\sklearn\\svm\\_base.py:986: ConvergenceWarning: Liblinear failed to converge, increase the number of iterations.\n",
      "  \"the number of iterations.\", ConvergenceWarning)\n"
     ]
    }
   ],
   "source": [
    "# Test Data\n",
    "svm_clf.fit(X_train, y_train)\n",
    "\n",
    "y_test_pred2 = svm_clf.predict(X_test)\n",
    "print(classification_report(y_test, y_test_pred2))"
   ]
  },
  {
   "cell_type": "markdown",
   "metadata": {},
   "source": [
    "## Using CountVectorizer with Bag of Words, Bigrams Only"
   ]
  },
  {
   "cell_type": "code",
   "execution_count": 15,
   "metadata": {},
   "outputs": [],
   "source": [
    "vectorizer3 = CountVectorizer(stop_words='english', ngram_range=(2,2))\n",
    "vectorizer3.fit(X_train_text)\n",
    "\n",
    "X_train = vectorizer3.transform(X_train_text)\n",
    "X_val = vectorizer3.transform(X_val_text)\n",
    "X_test = vectorizer3.transform(X_test_text)"
   ]
  },
  {
   "cell_type": "code",
   "execution_count": 16,
   "metadata": {},
   "outputs": [
    {
     "name": "stdout",
     "output_type": "stream",
     "text": [
      "              precision    recall  f1-score   support\n",
      "\n",
      "           0       0.98      0.97      0.98      3427\n",
      "           1       0.97      0.99      0.98      3757\n",
      "\n",
      "    accuracy                           0.98      7184\n",
      "   macro avg       0.98      0.98      0.98      7184\n",
      "weighted avg       0.98      0.98      0.98      7184\n",
      "\n"
     ]
    },
    {
     "name": "stderr",
     "output_type": "stream",
     "text": [
      "C:\\Users\\ASUS User\\Anaconda3\\lib\\site-packages\\sklearn\\svm\\_base.py:986: ConvergenceWarning: Liblinear failed to converge, increase the number of iterations.\n",
      "  \"the number of iterations.\", ConvergenceWarning)\n"
     ]
    }
   ],
   "source": [
    "# Validation Data\n",
    "svm_clf.fit(X_train, y_train)\n",
    "\n",
    "y_val_pred3 = svm_clf.predict(X_val)\n",
    "print(classification_report(y_val, y_val_pred3))"
   ]
  },
  {
   "cell_type": "code",
   "execution_count": 17,
   "metadata": {},
   "outputs": [
    {
     "name": "stdout",
     "output_type": "stream",
     "text": [
      "              precision    recall  f1-score   support\n",
      "\n",
      "           0       0.99      0.97      0.98      4284\n",
      "           1       0.97      0.99      0.98      4697\n",
      "\n",
      "    accuracy                           0.98      8981\n",
      "   macro avg       0.98      0.98      0.98      8981\n",
      "weighted avg       0.98      0.98      0.98      8981\n",
      "\n"
     ]
    },
    {
     "name": "stderr",
     "output_type": "stream",
     "text": [
      "C:\\Users\\ASUS User\\Anaconda3\\lib\\site-packages\\sklearn\\svm\\_base.py:986: ConvergenceWarning: Liblinear failed to converge, increase the number of iterations.\n",
      "  \"the number of iterations.\", ConvergenceWarning)\n"
     ]
    }
   ],
   "source": [
    "# Test Data\n",
    "svm_clf.fit(X_train, y_train)\n",
    "\n",
    "y_test_pred3 = svm_clf.predict(X_test)\n",
    "print(classification_report(y_test, y_test_pred3))"
   ]
  },
  {
   "cell_type": "markdown",
   "metadata": {},
   "source": [
    "## Using Tf-Idf and Unigrams"
   ]
  },
  {
   "cell_type": "code",
   "execution_count": 18,
   "metadata": {},
   "outputs": [
    {
     "name": "stdout",
     "output_type": "stream",
     "text": [
      "Model with unigram\n",
      "Testing using validation data:\n",
      "              precision    recall  f1-score   support\n",
      "\n",
      "           0       0.99      1.00      0.99      3427\n",
      "           1       1.00      0.99      0.99      3757\n",
      "\n",
      "    accuracy                           0.99      7184\n",
      "   macro avg       0.99      0.99      0.99      7184\n",
      "weighted avg       0.99      0.99      0.99      7184\n",
      "\n",
      "------------------------------------------\n",
      "Testing using test data:\n",
      "              precision    recall  f1-score   support\n",
      "\n",
      "           0       0.99      0.99      0.99      4284\n",
      "           1       1.00      0.99      0.99      4697\n",
      "\n",
      "    accuracy                           0.99      8981\n",
      "   macro avg       0.99      0.99      0.99      8981\n",
      "weighted avg       0.99      0.99      0.99      8981\n",
      "\n",
      "------------------------------------------\n",
      "------------------------------------------\n",
      "Model with unigram and bigram\n",
      "Testing using validation data:\n",
      "              precision    recall  f1-score   support\n",
      "\n",
      "           0       0.99      1.00      0.99      3427\n",
      "           1       1.00      0.99      0.99      3757\n",
      "\n",
      "    accuracy                           0.99      7184\n",
      "   macro avg       0.99      0.99      0.99      7184\n",
      "weighted avg       0.99      0.99      0.99      7184\n",
      "\n",
      "------------------------------------------\n",
      "Testing using test data:\n",
      "              precision    recall  f1-score   support\n",
      "\n",
      "           0       0.99      1.00      0.99      4284\n",
      "           1       1.00      0.99      0.99      4697\n",
      "\n",
      "    accuracy                           0.99      8981\n",
      "   macro avg       0.99      0.99      0.99      8981\n",
      "weighted avg       0.99      0.99      0.99      8981\n",
      "\n",
      "------------------------------------------\n",
      "------------------------------------------\n",
      "Model with bigram\n",
      "Testing using validation data:\n",
      "              precision    recall  f1-score   support\n",
      "\n",
      "           0       0.98      0.99      0.99      3427\n",
      "           1       0.99      0.99      0.99      3757\n",
      "\n",
      "    accuracy                           0.99      7184\n",
      "   macro avg       0.99      0.99      0.99      7184\n",
      "weighted avg       0.99      0.99      0.99      7184\n",
      "\n",
      "------------------------------------------\n",
      "Testing using test data:\n",
      "              precision    recall  f1-score   support\n",
      "\n",
      "           0       0.99      0.99      0.99      4284\n",
      "           1       0.99      0.99      0.99      4697\n",
      "\n",
      "    accuracy                           0.99      8981\n",
      "   macro avg       0.99      0.99      0.99      8981\n",
      "weighted avg       0.99      0.99      0.99      8981\n",
      "\n",
      "------------------------------------------\n",
      "------------------------------------------\n"
     ]
    }
   ],
   "source": [
    "tfidf_params = {'unigram':(1,1), 'unigram and bigram': (1,2), 'bigram':(2,2)}\n",
    "\n",
    "for ngram, values in tfidf_params.items():\n",
    "    tfidf_vectorizer = TfidfVectorizer(analyzer='word', stop_words='english', ngram_range=values)\n",
    "    tfidf_vectorizer.fit(X_train_text)\n",
    "\n",
    "    X_train = tfidf_vectorizer.transform(X_train_text)\n",
    "    X_val = tfidf_vectorizer.transform(X_val_text)\n",
    "    X_test = tfidf_vectorizer.transform(X_test_text)\n",
    "\n",
    "    svm_clf = LinearSVC()\n",
    "    print(f\"Model with {ngram}\")\n",
    "    svm_clf.fit(X_train, y_train)\n",
    "\n",
    "    # Validation Data\n",
    "    print(\"Testing using validation data:\")    \n",
    "    y_val_pred = svm_clf.predict(X_val)\n",
    "    print(classification_report(y_val, y_val_pred))\n",
    "    print(\"------------------------------------------\")\n",
    "\n",
    "    # Test Data\n",
    "    print(\"Testing using test data:\")\n",
    "    y_test_pred = svm_clf.predict(X_test)\n",
    "    print(classification_report(y_test, y_test_pred))\n",
    "    print(\"------------------------------------------\")\n",
    "    print(\"------------------------------------------\")"
   ]
  },
  {
   "cell_type": "code",
   "execution_count": 45,
   "metadata": {},
   "outputs": [],
   "source": [
    "# Ignore first\n",
    "\n",
    "# best_config = {\n",
    "#     # 'Max features': 0, \n",
    "#     'Best model': None,\n",
    "#     'Accuracy': 0, \n",
    "#     'Precision': 0, \n",
    "#     'Recall': 0, \n",
    "#     'F1': 0\n",
    "# }\n",
    "\n",
    "# # for n in range(500, 7000, 50):\n",
    "# vectorizer = CountVectorizer(max_features=1650, max_df=0.15) # max_features=500, min_df=0.01\n",
    "# vectorizer.fit(sentences)\n",
    "# X_train = vectorizer.transform(sentences)\n",
    "\n",
    "# validation_X_test = vectorizer.transform(validation_sentences)\n",
    "\n",
    "# for model_name in models_dict:\n",
    "#     model = models_dict[model_name]\n",
    "#     model.fit(X_train, y)\n",
    "#     predictions = model.predict(validation_X_test)\n",
    "\n",
    "#     acc = accuracy_score(validation_y,predictions)  # always true label first, then your predicted labels!\n",
    "#     precision = precision_score(validation_y,predictions) \n",
    "#     recall = recall_score(validation_y,predictions) \n",
    "#     f1 = f1_score(validation_y,predictions)\n",
    "\n",
    "#     if f1 > best_config['F1']:\n",
    "#         best_config['Best model'] = model_name\n",
    "#         best_config['Accuracy'] = round(acc, 3)\n",
    "#         best_config['Precision'] = round(precision, 3)\n",
    "#         best_config['Recall'] = round(recall, 3)\n",
    "#         best_config['F1'] = round(f1, 3)\n",
    "\n",
    "# for k, v in best_config.items():\n",
    "#     print(f'{k}: {v}')"
   ]
  }
 ],
 "metadata": {
  "interpreter": {
   "hash": "5f292722d6d50c2426abae6fd15a85386b49c5393ec98f1c35f79e4e4dd7448b"
  },
  "kernelspec": {
   "display_name": "Python 3",
   "language": "python",
   "name": "python3"
  },
  "language_info": {
   "codemirror_mode": {
    "name": "ipython",
    "version": 3
   },
   "file_extension": ".py",
   "mimetype": "text/x-python",
   "name": "python",
   "nbconvert_exporter": "python",
   "pygments_lexer": "ipython3",
   "version": "3.7.3"
  }
 },
 "nbformat": 4,
 "nbformat_minor": 2
}
