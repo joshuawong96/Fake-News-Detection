{
 "cells": [
  {
   "cell_type": "markdown",
   "metadata": {},
   "source": [
    "# Imports"
   ]
  },
  {
   "cell_type": "code",
   "execution_count": 1,
   "metadata": {},
   "outputs": [],
   "source": [
    "from utils import *"
   ]
  },
  {
   "cell_type": "markdown",
   "metadata": {},
   "source": [
    "# Loading Datasets"
   ]
  },
  {
   "cell_type": "code",
   "execution_count": 2,
   "metadata": {},
   "outputs": [
    {
     "data": {
      "text/plain": [
       "['all_data_preprocessed.csv',\n",
       " 'all_data_preprocessed_w_lemmatization.csv',\n",
       " 'all_data_preprocessed_w_lemmatization.zip',\n",
       " 'dataset_1',\n",
       " 'dataset_2',\n",
       " 'test_data.csv',\n",
       " 'train_data.csv',\n",
       " 'train_data.zip',\n",
       " 'validation_data.csv']"
      ]
     },
     "execution_count": 2,
     "metadata": {},
     "output_type": "execute_result"
    }
   ],
   "source": [
    "# path = '/Users/joshuawong/Desktop/dataset_1'\n",
    "path = 'C:/Users/user/Documents/GitHub/Fake-News-Detection/Data' #lingjia\n",
    "\n",
    "os.chdir(path)\n",
    "os.listdir()"
   ]
  },
  {
   "cell_type": "markdown",
   "metadata": {},
   "source": [
    "## Reading Dataset 1: Fake and real news from Kaggle "
   ]
  },
  {
   "cell_type": "code",
   "execution_count": 8,
   "metadata": {},
   "outputs": [
    {
     "name": "stdout",
     "output_type": "stream",
     "text": [
      "Number of fake articles: 23481\n",
      "Number of true articles: 21417\n"
     ]
    }
   ],
   "source": [
    "# Reading CSV files\n",
    "fake = pd.read_csv(path + '/dataset_1/Fake.csv')\n",
    "true = pd.read_csv(path + '/dataset_1/True.csv')\n",
    "\n",
    "# Size of each class\n",
    "print(\"Number of fake articles:\", len(fake))\n",
    "print(\"Number of true articles:\", len(true))\n",
    "\n",
    "# Defing new column with class label\n",
    "fake['class_label'] = 1\n",
    "true['class_label'] = 0"
   ]
  },
  {
   "cell_type": "code",
   "execution_count": 9,
   "metadata": {},
   "outputs": [
    {
     "data": {
      "text/html": [
       "<div>\n",
       "<style scoped>\n",
       "    .dataframe tbody tr th:only-of-type {\n",
       "        vertical-align: middle;\n",
       "    }\n",
       "\n",
       "    .dataframe tbody tr th {\n",
       "        vertical-align: top;\n",
       "    }\n",
       "\n",
       "    .dataframe thead th {\n",
       "        text-align: right;\n",
       "    }\n",
       "</style>\n",
       "<table border=\"1\" class=\"dataframe\">\n",
       "  <thead>\n",
       "    <tr style=\"text-align: right;\">\n",
       "      <th></th>\n",
       "      <th>text</th>\n",
       "      <th>class_label</th>\n",
       "    </tr>\n",
       "  </thead>\n",
       "  <tbody>\n",
       "    <tr>\n",
       "      <th>0</th>\n",
       "      <td>Donald Trump Sends Out Embarrassing New Year’...</td>\n",
       "      <td>1</td>\n",
       "    </tr>\n",
       "    <tr>\n",
       "      <th>1</th>\n",
       "      <td>Drunk Bragging Trump Staffer Started Russian ...</td>\n",
       "      <td>1</td>\n",
       "    </tr>\n",
       "    <tr>\n",
       "      <th>2</th>\n",
       "      <td>Sheriff David Clarke Becomes An Internet Joke...</td>\n",
       "      <td>1</td>\n",
       "    </tr>\n",
       "    <tr>\n",
       "      <th>3</th>\n",
       "      <td>Trump Is So Obsessed He Even Has Obama’s Name...</td>\n",
       "      <td>1</td>\n",
       "    </tr>\n",
       "    <tr>\n",
       "      <th>4</th>\n",
       "      <td>Pope Francis Just Called Out Donald Trump Dur...</td>\n",
       "      <td>1</td>\n",
       "    </tr>\n",
       "  </tbody>\n",
       "</table>\n",
       "</div>"
      ],
      "text/plain": [
       "                                                text  class_label\n",
       "0   Donald Trump Sends Out Embarrassing New Year’...            1\n",
       "1   Drunk Bragging Trump Staffer Started Russian ...            1\n",
       "2   Sheriff David Clarke Becomes An Internet Joke...            1\n",
       "3   Trump Is So Obsessed He Even Has Obama’s Name...            1\n",
       "4   Pope Francis Just Called Out Donald Trump Dur...            1"
      ]
     },
     "execution_count": 9,
     "metadata": {},
     "output_type": "execute_result"
    }
   ],
   "source": [
    "# Combine title and text columns\n",
    "fake['text'] = fake['title'] + ' ' + fake['text']\n",
    "true['text'] = true['title'] + ' ' + true['text']\n",
    "\n",
    "# Drop date and title columns\n",
    "fake = fake.drop(columns=['date', 'title', 'subject'])\n",
    "true = true.drop(columns=['date', 'title', 'subject'])\n",
    "fake.head(5)"
   ]
  },
  {
   "cell_type": "markdown",
   "metadata": {},
   "source": [
    "## Reading Dataset 2: "
   ]
  },
  {
   "cell_type": "code",
   "execution_count": 10,
   "metadata": {},
   "outputs": [
    {
     "data": {
      "text/html": [
       "<div>\n",
       "<style scoped>\n",
       "    .dataframe tbody tr th:only-of-type {\n",
       "        vertical-align: middle;\n",
       "    }\n",
       "\n",
       "    .dataframe tbody tr th {\n",
       "        vertical-align: top;\n",
       "    }\n",
       "\n",
       "    .dataframe thead th {\n",
       "        text-align: right;\n",
       "    }\n",
       "</style>\n",
       "<table border=\"1\" class=\"dataframe\">\n",
       "  <thead>\n",
       "    <tr style=\"text-align: right;\">\n",
       "      <th></th>\n",
       "      <th>id</th>\n",
       "      <th>title</th>\n",
       "      <th>author</th>\n",
       "      <th>text</th>\n",
       "      <th>label</th>\n",
       "    </tr>\n",
       "  </thead>\n",
       "  <tbody>\n",
       "    <tr>\n",
       "      <th>0</th>\n",
       "      <td>0</td>\n",
       "      <td>House Dem Aide: We Didn’t Even See Comey’s Let...</td>\n",
       "      <td>Darrell Lucus</td>\n",
       "      <td>House Dem Aide: We Didn’t Even See Comey’s Let...</td>\n",
       "      <td>1</td>\n",
       "    </tr>\n",
       "  </tbody>\n",
       "</table>\n",
       "</div>"
      ],
      "text/plain": [
       "   id                                              title         author  \\\n",
       "0   0  House Dem Aide: We Didn’t Even See Comey’s Let...  Darrell Lucus   \n",
       "\n",
       "                                                text  label  \n",
       "0  House Dem Aide: We Didn’t Even See Comey’s Let...      1  "
      ]
     },
     "execution_count": 10,
     "metadata": {},
     "output_type": "execute_result"
    }
   ],
   "source": [
    "data2= pd.read_csv(path + \"/dataset_2/train.csv\")\n",
    "# data2_test = pd.read_csv(path + \"/dataset_2/test.csv\")\n",
    "\n",
    "data2.head(1)"
   ]
  },
  {
   "cell_type": "code",
   "execution_count": 6,
   "metadata": {},
   "outputs": [
    {
     "name": "stdout",
     "output_type": "stream",
     "text": [
      "Size of dataset2: 20800\n"
     ]
    },
    {
     "data": {
      "text/plain": [
       "1    10413\n",
       "0    10387\n",
       "Name: label, dtype: int64"
      ]
     },
     "execution_count": 6,
     "metadata": {},
     "output_type": "execute_result"
    }
   ],
   "source": [
    "print(\"Size of dataset2:\", len(data2))\n",
    "data2[\"label\"].value_counts()"
   ]
  },
  {
   "cell_type": "code",
   "execution_count": 11,
   "metadata": {},
   "outputs": [
    {
     "data": {
      "text/html": [
       "<div>\n",
       "<style scoped>\n",
       "    .dataframe tbody tr th:only-of-type {\n",
       "        vertical-align: middle;\n",
       "    }\n",
       "\n",
       "    .dataframe tbody tr th {\n",
       "        vertical-align: top;\n",
       "    }\n",
       "\n",
       "    .dataframe thead th {\n",
       "        text-align: right;\n",
       "    }\n",
       "</style>\n",
       "<table border=\"1\" class=\"dataframe\">\n",
       "  <thead>\n",
       "    <tr style=\"text-align: right;\">\n",
       "      <th></th>\n",
       "      <th>text</th>\n",
       "      <th>label</th>\n",
       "    </tr>\n",
       "  </thead>\n",
       "  <tbody>\n",
       "    <tr>\n",
       "      <th>0</th>\n",
       "      <td>House Dem Aide: We Didn’t Even See Comey’s Let...</td>\n",
       "      <td>1</td>\n",
       "    </tr>\n",
       "    <tr>\n",
       "      <th>1</th>\n",
       "      <td>FLYNN: Hillary Clinton, Big Woman on Campus - ...</td>\n",
       "      <td>0</td>\n",
       "    </tr>\n",
       "    <tr>\n",
       "      <th>2</th>\n",
       "      <td>Why the Truth Might Get You FiredWhy the Truth...</td>\n",
       "      <td>1</td>\n",
       "    </tr>\n",
       "    <tr>\n",
       "      <th>3</th>\n",
       "      <td>15 Civilians Killed In Single US Airstrike Hav...</td>\n",
       "      <td>1</td>\n",
       "    </tr>\n",
       "    <tr>\n",
       "      <th>4</th>\n",
       "      <td>Iranian woman jailed for fictional unpublished...</td>\n",
       "      <td>1</td>\n",
       "    </tr>\n",
       "  </tbody>\n",
       "</table>\n",
       "</div>"
      ],
      "text/plain": [
       "                                                text  label\n",
       "0  House Dem Aide: We Didn’t Even See Comey’s Let...      1\n",
       "1  FLYNN: Hillary Clinton, Big Woman on Campus - ...      0\n",
       "2  Why the Truth Might Get You FiredWhy the Truth...      1\n",
       "3  15 Civilians Killed In Single US Airstrike Hav...      1\n",
       "4  Iranian woman jailed for fictional unpublished...      1"
      ]
     },
     "execution_count": 11,
     "metadata": {},
     "output_type": "execute_result"
    }
   ],
   "source": [
    "data2[\"text\"] = data2[\"title\"] + data2[\"text\"]\n",
    "\n",
    "data2 = data2.drop([\"id\", \"title\", \"author\"], axis=1)\n",
    "data2.head(5)"
   ]
  },
  {
   "cell_type": "code",
   "execution_count": 12,
   "metadata": {},
   "outputs": [],
   "source": [
    "data2.rename(columns={\"label\": \"class_label\"}, inplace=True)"
   ]
  },
  {
   "cell_type": "code",
   "execution_count": 9,
   "metadata": {},
   "outputs": [],
   "source": [
    "# for row in data2.text:\n",
    "#     try:\n",
    "#         tokenised = row.split(\" \")\n",
    "#         if len(tokenised) < 0:\n",
    "#             print(tokenised)\n",
    "#     except:\n",
    "#         print(row)"
   ]
  },
  {
   "cell_type": "code",
   "execution_count": 10,
   "metadata": {},
   "outputs": [
    {
     "name": "stdout",
     "output_type": "stream",
     "text": [
      "<class 'pandas.core.frame.DataFrame'>\n",
      "RangeIndex: 20800 entries, 0 to 20799\n",
      "Data columns (total 2 columns):\n",
      " #   Column       Non-Null Count  Dtype \n",
      "---  ------       --------------  ----- \n",
      " 0   text         20203 non-null  object\n",
      " 1   class_label  20800 non-null  int64 \n",
      "dtypes: int64(1), object(1)\n",
      "memory usage: 325.1+ KB\n"
     ]
    }
   ],
   "source": [
    "data2.info()"
   ]
  },
  {
   "cell_type": "code",
   "execution_count": 13,
   "metadata": {},
   "outputs": [
    {
     "data": {
      "text/plain": [
       "20203"
      ]
     },
     "execution_count": 13,
     "metadata": {},
     "output_type": "execute_result"
    }
   ],
   "source": [
    "# Dropping all rows where article has no text \n",
    "data2.dropna(inplace=True)\n",
    "\n",
    "len(data2)"
   ]
  },
  {
   "cell_type": "code",
   "execution_count": 12,
   "metadata": {},
   "outputs": [
    {
     "data": {
      "text/html": [
       "<div>\n",
       "<style scoped>\n",
       "    .dataframe tbody tr th:only-of-type {\n",
       "        vertical-align: middle;\n",
       "    }\n",
       "\n",
       "    .dataframe tbody tr th {\n",
       "        vertical-align: top;\n",
       "    }\n",
       "\n",
       "    .dataframe thead th {\n",
       "        text-align: right;\n",
       "    }\n",
       "</style>\n",
       "<table border=\"1\" class=\"dataframe\">\n",
       "  <thead>\n",
       "    <tr style=\"text-align: right;\">\n",
       "      <th></th>\n",
       "      <th>text</th>\n",
       "      <th>class_label</th>\n",
       "    </tr>\n",
       "  </thead>\n",
       "  <tbody>\n",
       "    <tr>\n",
       "      <th>0</th>\n",
       "      <td>House Dem Aide: We Didn’t Even See Comey’s Let...</td>\n",
       "      <td>1</td>\n",
       "    </tr>\n",
       "    <tr>\n",
       "      <th>1</th>\n",
       "      <td>FLYNN: Hillary Clinton, Big Woman on Campus - ...</td>\n",
       "      <td>0</td>\n",
       "    </tr>\n",
       "    <tr>\n",
       "      <th>2</th>\n",
       "      <td>Why the Truth Might Get You FiredWhy the Truth...</td>\n",
       "      <td>1</td>\n",
       "    </tr>\n",
       "    <tr>\n",
       "      <th>3</th>\n",
       "      <td>15 Civilians Killed In Single US Airstrike Hav...</td>\n",
       "      <td>1</td>\n",
       "    </tr>\n",
       "    <tr>\n",
       "      <th>4</th>\n",
       "      <td>Iranian woman jailed for fictional unpublished...</td>\n",
       "      <td>1</td>\n",
       "    </tr>\n",
       "  </tbody>\n",
       "</table>\n",
       "</div>"
      ],
      "text/plain": [
       "                                                text  class_label\n",
       "0  House Dem Aide: We Didn’t Even See Comey’s Let...            1\n",
       "1  FLYNN: Hillary Clinton, Big Woman on Campus - ...            0\n",
       "2  Why the Truth Might Get You FiredWhy the Truth...            1\n",
       "3  15 Civilians Killed In Single US Airstrike Hav...            1\n",
       "4  Iranian woman jailed for fictional unpublished...            1"
      ]
     },
     "execution_count": 12,
     "metadata": {},
     "output_type": "execute_result"
    }
   ],
   "source": [
    "data2.head(5)"
   ]
  },
  {
   "cell_type": "markdown",
   "metadata": {},
   "source": [
    "# Preprocessing"
   ]
  },
  {
   "cell_type": "code",
   "execution_count": 13,
   "metadata": {},
   "outputs": [
    {
     "name": "stdout",
     "output_type": "stream",
     "text": [
      "Before preprocessing:\n",
      "As U.S. budget fight looms, Republicans flip their fiscal script WASHINGTON (Reuters) - The head of a conservative Republican faction in the U.S. Congress, who voted this month for a huge expansion of\n",
      "--------------------------------------------------------------------------------\n",
      "\n",
      "After preprocessing:\n",
      "us budget fight loom republican flip fiscal script washington reuter head conserv republican faction us congress vote month huge expans nation debt pay tax cut call fiscal conserv sunday urg budget re\n"
     ]
    }
   ],
   "source": [
    "# Testing preprocessing function for wordclouds, which require a string as input\n",
    "text = true['text'].iloc[0] # Declare sample text for preprocessing from df\n",
    "\n",
    "print(\"Before preprocessing:\")\n",
    "print(text[:200]) # Uncomment to see original text\n",
    "print(\"--------------------------------------------------------------------------------\\n\")\n",
    "\n",
    "# Pre-processing steps\n",
    "remove_punctuations = ''.join([word for word in text if word not in string.punctuation and word not in ['“', '”', '’', '‘']])\n",
    "lowercase = remove_punctuations.lower()\n",
    "tokenize = word_tokenize(lowercase)\n",
    "stopwords_removed = [word for word in tokenize if word not in STOPWORDS]\n",
    "stemmed = [PorterStemmer().stem(word) for word in stopwords_removed]\n",
    "# lemmatized = [WordNetLemmatizer().lemmatize(word) for word in stopwords_removed]\n",
    "preprocessed_text = \" \".join(stemmed) # Join back all tokenized words into a string\n",
    "\n",
    "print(\"After preprocessing:\")\n",
    "print(preprocessed_text[:200]) # Uncomment to see original text\n",
    "# Once satisfied, make into function"
   ]
  },
  {
   "cell_type": "code",
   "execution_count": 14,
   "metadata": {},
   "outputs": [],
   "source": [
    "def preprocess(text):\n",
    "    remove_punctuations = ''.join([word for word in text if word not in string.punctuation and word not in ['“', '”', '’', '‘']])\n",
    "    lowercase = remove_punctuations.lower()\n",
    "    tokenized = word_tokenize(lowercase)\n",
    "    stopwords_removed = [word for word in tokenized if word not in STOPWORDS]\n",
    "    stemmed = [PorterStemmer().stem(word) for word in stopwords_removed]\n",
    "    preprocessed_text = \" \".join(stemmed)\n",
    "    return preprocessed_text"
   ]
  },
  {
   "cell_type": "code",
   "execution_count": 14,
   "metadata": {},
   "outputs": [],
   "source": [
    "# Preprocessing function to include lemmatization\n",
    "def preprocess2(text):\n",
    "    remove_punctuations = ''.join([word for word in text if word not in string.punctuation and word not in ['“', '”', '’', '‘']])\n",
    "    lowercase = remove_punctuations.lower()\n",
    "    tokenized = word_tokenize(lowercase)\n",
    "    stopwords_removed = [word for word in tokenized if word not in STOPWORDS]\n",
    "    stemmed = [PorterStemmer().stem(word) for word in stopwords_removed]\n",
    "    lemmatized = [WordNetLemmatizer().lemmatize(word) for word in stemmed]\n",
    "    preprocessed_text = \" \".join(lemmatized)\n",
    "    return preprocessed_text"
   ]
  },
  {
   "cell_type": "code",
   "execution_count": 16,
   "metadata": {},
   "outputs": [],
   "source": [
    "# Apply function to text column and create new column for use later with wordclouds\n",
    "fake['text_preprocessed'] = fake['text'].apply(preprocess)\n",
    "true['text_preprocessed'] = true['text'].apply(preprocess)"
   ]
  },
  {
   "cell_type": "code",
   "execution_count": 17,
   "metadata": {},
   "outputs": [],
   "source": [
    "data2['text_preprocessed'] = data2['text'].apply(preprocess)"
   ]
  },
  {
   "cell_type": "code",
   "execution_count": 21,
   "metadata": {},
   "outputs": [
    {
     "data": {
      "text/plain": [
       "0        donald trump send embarrass new year eve messa...\n",
       "1        drunk brag trump staffer start russian collus ...\n",
       "2        sheriff david clark becom internet joke threat...\n",
       "3        trump ob even obama name code websit imag chri...\n",
       "4        pope franci call donald trump christma speech ...\n",
       "                               ...                        \n",
       "20795    rapper ti trump poster child white supremacyra...\n",
       "20796    nfl playoff schedul matchup odd new york times...\n",
       "20797    maci said receiv takeov approach hudson bay ne...\n",
       "20798    nato russia hold parallel exercis balkansnato ...\n",
       "20799    keep f35 aliv david swanson author activist jo...\n",
       "Name: text_preprocessed, Length: 65101, dtype: object"
      ]
     },
     "execution_count": 21,
     "metadata": {},
     "output_type": "execute_result"
    }
   ],
   "source": [
    "data_all = pd.concat([fake, true, data2])\n",
    "data_all['text_preprocessed']"
   ]
  },
  {
   "cell_type": "code",
   "execution_count": 22,
   "metadata": {},
   "outputs": [],
   "source": [
    "data_all2.to_csv(\"all_data_preprocessed_w_lemmatization.csv\")"
   ]
  },
  {
   "cell_type": "markdown",
   "metadata": {},
   "source": [
    "## Combing both datasets together"
   ]
  },
  {
   "cell_type": "code",
   "execution_count": 18,
   "metadata": {},
   "outputs": [
    {
     "data": {
      "text/html": [
       "<div>\n",
       "<style scoped>\n",
       "    .dataframe tbody tr th:only-of-type {\n",
       "        vertical-align: middle;\n",
       "    }\n",
       "\n",
       "    .dataframe tbody tr th {\n",
       "        vertical-align: top;\n",
       "    }\n",
       "\n",
       "    .dataframe thead th {\n",
       "        text-align: right;\n",
       "    }\n",
       "</style>\n",
       "<table border=\"1\" class=\"dataframe\">\n",
       "  <thead>\n",
       "    <tr style=\"text-align: right;\">\n",
       "      <th></th>\n",
       "      <th>text</th>\n",
       "      <th>class_label</th>\n",
       "      <th>text_preprocessed</th>\n",
       "    </tr>\n",
       "  </thead>\n",
       "  <tbody>\n",
       "    <tr>\n",
       "      <th>0</th>\n",
       "      <td>Donald Trump Sends Out Embarrassing New Year’...</td>\n",
       "      <td>1</td>\n",
       "      <td>donald trump send embarrass new year eve messa...</td>\n",
       "    </tr>\n",
       "    <tr>\n",
       "      <th>1</th>\n",
       "      <td>Drunk Bragging Trump Staffer Started Russian ...</td>\n",
       "      <td>1</td>\n",
       "      <td>drunk brag trump staffer start russian collus ...</td>\n",
       "    </tr>\n",
       "    <tr>\n",
       "      <th>2</th>\n",
       "      <td>Sheriff David Clarke Becomes An Internet Joke...</td>\n",
       "      <td>1</td>\n",
       "      <td>sheriff david clark becom internet joke threat...</td>\n",
       "    </tr>\n",
       "    <tr>\n",
       "      <th>3</th>\n",
       "      <td>Trump Is So Obsessed He Even Has Obama’s Name...</td>\n",
       "      <td>1</td>\n",
       "      <td>trump obsess even obama name code websit imag ...</td>\n",
       "    </tr>\n",
       "    <tr>\n",
       "      <th>4</th>\n",
       "      <td>Pope Francis Just Called Out Donald Trump Dur...</td>\n",
       "      <td>1</td>\n",
       "      <td>pope franci call donald trump christma speech ...</td>\n",
       "    </tr>\n",
       "  </tbody>\n",
       "</table>\n",
       "</div>"
      ],
      "text/plain": [
       "                                                text  class_label  \\\n",
       "0   Donald Trump Sends Out Embarrassing New Year’...            1   \n",
       "1   Drunk Bragging Trump Staffer Started Russian ...            1   \n",
       "2   Sheriff David Clarke Becomes An Internet Joke...            1   \n",
       "3   Trump Is So Obsessed He Even Has Obama’s Name...            1   \n",
       "4   Pope Francis Just Called Out Donald Trump Dur...            1   \n",
       "\n",
       "                                   text_preprocessed  \n",
       "0  donald trump send embarrass new year eve messa...  \n",
       "1  drunk brag trump staffer start russian collus ...  \n",
       "2  sheriff david clark becom internet joke threat...  \n",
       "3  trump obsess even obama name code websit imag ...  \n",
       "4  pope franci call donald trump christma speech ...  "
      ]
     },
     "execution_count": 18,
     "metadata": {},
     "output_type": "execute_result"
    }
   ],
   "source": [
    "data_all = pd.concat([fake, true, data2])\n",
    "data_all.head()"
   ]
  },
  {
   "cell_type": "code",
   "execution_count": 19,
   "metadata": {},
   "outputs": [
    {
     "name": "stdout",
     "output_type": "stream",
     "text": [
      "65101\n",
      "65101\n"
     ]
    }
   ],
   "source": [
    "print(len(fake)+len(true)+len(data2))\n",
    "print(len(data_all))"
   ]
  },
  {
   "cell_type": "code",
   "execution_count": null,
   "metadata": {},
   "outputs": [],
   "source": [
    "data_all.to_csv(\"../Data/all_data_preprocessed.csv\")"
   ]
  },
  {
   "cell_type": "markdown",
   "metadata": {},
   "source": [
    "# Train-Validation-Test Split"
   ]
  },
  {
   "cell_type": "code",
   "execution_count": 19,
   "metadata": {},
   "outputs": [],
   "source": [
    "from sklearn.model_selection import train_test_split"
   ]
  },
  {
   "cell_type": "code",
   "execution_count": 20,
   "metadata": {},
   "outputs": [],
   "source": [
    "# Splitting the dataset to train and test subsets\n",
    "train, test = train_test_split(data_all, test_size=0.20, stratify=data_all['class_label'], shuffle=True)\n",
    "\n",
    "# Splitting train to training and validation subsets\n",
    "train, val = train_test_split(train, test_size=0.25, stratify=train['class_label'], shuffle=True)"
   ]
  },
  {
   "cell_type": "code",
   "execution_count": 31,
   "metadata": {},
   "outputs": [
    {
     "name": "stdout",
     "output_type": "stream",
     "text": [
      "Ratio of class labels for training dataset:\n",
      " 0.9551506657323056 \n",
      " 1    19978\n",
      "0    19082\n",
      "Name: class_label, dtype: int64\n",
      "------------------------------------\n",
      "Ratio of class labels for validation dataset:\n",
      " 0.9552485358161886 \n",
      " 1    6659\n",
      "0    6361\n",
      "Name: class_label, dtype: int64\n",
      "------------------------------------\n",
      "Ratio of class labels for test dataset:\n",
      " 0.9551051051051052 \n",
      " 1    6660\n",
      "0    6361\n",
      "Name: class_label, dtype: int64\n"
     ]
    }
   ],
   "source": [
    "print(\"Ratio of class labels for training dataset:\\n\", train['class_label'].value_counts()[0]/train['class_label'].value_counts()[1], \"\\n\", train['class_label'].value_counts())\n",
    "print(\"------------------------------------\")\n",
    "\n",
    "print(\"Ratio of class labels for validation dataset:\\n\", val['class_label'].value_counts()[0]/val['class_label'].value_counts()[1], \"\\n\", val['class_label'].value_counts())\n",
    "print(\"------------------------------------\")\n",
    "\n",
    "print(\"Ratio of class labels for test dataset:\\n\", test['class_label'].value_counts()[0]/test['class_label'].value_counts()[1],\"\\n\", test['class_label'].value_counts())\n"
   ]
  },
  {
   "cell_type": "code",
   "execution_count": 30,
   "metadata": {},
   "outputs": [],
   "source": [
    "train.to_csv(\"../Data/train_data.csv\")\n",
    "val.to_csv(\"../Data/validation_data.csv\")\n",
    "test.to_csv(\"../Data/test_data.csv\")"
   ]
  }
 ],
 "metadata": {
  "interpreter": {
   "hash": "5f292722d6d50c2426abae6fd15a85386b49c5393ec98f1c35f79e4e4dd7448b"
  },
  "kernelspec": {
   "display_name": "Python 3.7.3 64-bit ('base': conda)",
   "name": "python3"
  },
  "language_info": {
   "codemirror_mode": {
    "name": "ipython",
    "version": 3
   },
   "file_extension": ".py",
   "mimetype": "text/x-python",
   "name": "python",
   "nbconvert_exporter": "python",
   "pygments_lexer": "ipython3",
   "version": "3.7.3"
  },
  "orig_nbformat": 4
 },
 "nbformat": 4,
 "nbformat_minor": 2
}
