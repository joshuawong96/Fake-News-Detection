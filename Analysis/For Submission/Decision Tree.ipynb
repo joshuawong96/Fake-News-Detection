{
 "cells": [
  {
   "cell_type": "code",
   "execution_count": null,
   "metadata": {},
   "outputs": [],
   "source": [
    "from utils import *"
   ]
  },
  {
   "cell_type": "markdown",
   "metadata": {},
   "source": [
    "# Modelling with Dataset 1\n",
    "## Reading the Dataset 1"
   ]
  },
  {
   "cell_type": "code",
   "execution_count": 4,
   "metadata": {},
   "outputs": [
    {
     "data": {
      "text/html": [
       "<div>\n",
       "<style scoped>\n",
       "    .dataframe tbody tr th:only-of-type {\n",
       "        vertical-align: middle;\n",
       "    }\n",
       "\n",
       "    .dataframe tbody tr th {\n",
       "        vertical-align: top;\n",
       "    }\n",
       "\n",
       "    .dataframe thead th {\n",
       "        text-align: right;\n",
       "    }\n",
       "</style>\n",
       "<table border=\"1\" class=\"dataframe\">\n",
       "  <thead>\n",
       "    <tr style=\"text-align: right;\">\n",
       "      <th></th>\n",
       "      <th>text</th>\n",
       "      <th>subject</th>\n",
       "      <th>class_label</th>\n",
       "      <th>text_preprocessed</th>\n",
       "    </tr>\n",
       "  </thead>\n",
       "  <tbody>\n",
       "    <tr>\n",
       "      <th>0</th>\n",
       "      <td>As U.S. budget fight looms, Republicans flip t...</td>\n",
       "      <td>politicsNews</td>\n",
       "      <td>0</td>\n",
       "      <td>us budget fight looms republicans flip fiscal ...</td>\n",
       "    </tr>\n",
       "    <tr>\n",
       "      <th>1</th>\n",
       "      <td>U.S. military to accept transgender recruits o...</td>\n",
       "      <td>politicsNews</td>\n",
       "      <td>0</td>\n",
       "      <td>us military accept transgender recruits monday...</td>\n",
       "    </tr>\n",
       "    <tr>\n",
       "      <th>2</th>\n",
       "      <td>Senior U.S. Republican senator: 'Let Mr. Muell...</td>\n",
       "      <td>politicsNews</td>\n",
       "      <td>0</td>\n",
       "      <td>senior us republican senator let mr mueller jo...</td>\n",
       "    </tr>\n",
       "    <tr>\n",
       "      <th>3</th>\n",
       "      <td>FBI Russia probe helped by Australian diplomat...</td>\n",
       "      <td>politicsNews</td>\n",
       "      <td>0</td>\n",
       "      <td>fbi russia probe helped australian diplomat ti...</td>\n",
       "    </tr>\n",
       "    <tr>\n",
       "      <th>4</th>\n",
       "      <td>Trump wants Postal Service to charge 'much mor...</td>\n",
       "      <td>politicsNews</td>\n",
       "      <td>0</td>\n",
       "      <td>trump wants postal service charge much amazon ...</td>\n",
       "    </tr>\n",
       "  </tbody>\n",
       "</table>\n",
       "</div>"
      ],
      "text/plain": [
       "                                                text       subject  \\\n",
       "0  As U.S. budget fight looms, Republicans flip t...  politicsNews   \n",
       "1  U.S. military to accept transgender recruits o...  politicsNews   \n",
       "2  Senior U.S. Republican senator: 'Let Mr. Muell...  politicsNews   \n",
       "3  FBI Russia probe helped by Australian diplomat...  politicsNews   \n",
       "4  Trump wants Postal Service to charge 'much mor...  politicsNews   \n",
       "\n",
       "   class_label                                  text_preprocessed  \n",
       "0            0  us budget fight looms republicans flip fiscal ...  \n",
       "1            0  us military accept transgender recruits monday...  \n",
       "2            0  senior us republican senator let mr mueller jo...  \n",
       "3            0  fbi russia probe helped australian diplomat ti...  \n",
       "4            0  trump wants postal service charge much amazon ...  "
      ]
     },
     "execution_count": 4,
     "metadata": {},
     "output_type": "execute_result"
    }
   ],
   "source": [
    "# Import data\n",
    "true_data = pd.read_csv(\"../../Data/dataset_1/clean_data/true_clean_data.csv\", index_col=0)\n",
    "fake_data = pd.read_csv(\"../../Data/dataset_1/clean_data/fake_clean_data.csv\", index_col=0)\n",
    "\n",
    "true_data.head()"
   ]
  },
  {
   "cell_type": "markdown",
   "metadata": {},
   "source": [
    "## Train-Test-Split"
   ]
  },
  {
   "cell_type": "code",
   "execution_count": 5,
   "metadata": {},
   "outputs": [],
   "source": [
    "true_X = true_data[\"text_preprocessed\"].values\n",
    "true_y = true_data[\"class_label\"].values\n",
    "\n",
    "fake_X = fake_data[\"text_preprocessed\"].values\n",
    "fake_y = fake_data[\"class_label\"].values"
   ]
  },
  {
   "cell_type": "code",
   "execution_count": 6,
   "metadata": {},
   "outputs": [],
   "source": [
    "# Splitting true and fake data into training and test subsets\n",
    "true_X_train, true_X_test, true_y_train, true_y_test = train_test_split(true_X, true_y, test_size = 0.2, random_state=99)\n",
    "fake_X_train, fake_X_test, fake_y_train, fake_y_test = train_test_split(fake_X, fake_y, test_size = 0.2, random_state=99)\n",
    "\n",
    "# Splitting training data into train and validation subsets\n",
    "true_X_train, true_X_val, true_y_train, true_y_val = train_test_split(true_X_train, true_y_train, test_size = 0.2, random_state=99)\n",
    "fake_X_train, fake_X_val, fake_y_train, fake_y_val = train_test_split(fake_X_train, fake_y_train, test_size = 0.2, random_state=99)"
   ]
  },
  {
   "cell_type": "code",
   "execution_count": 7,
   "metadata": {},
   "outputs": [],
   "source": [
    "# Text \n",
    "X_train_text = np.concatenate((true_X_train,fake_X_train))\n",
    "X_val_text = np.concatenate((true_X_val, fake_X_val))\n",
    "X_test_text = np.concatenate((true_X_test, fake_X_test))\n",
    "\n",
    "# Labels\n",
    "y_train = np.concatenate((true_y_train, fake_y_train))\n",
    "y_val = np.concatenate((true_y_val, fake_y_val))\n",
    "y_test = np.concatenate((true_y_test, fake_y_test))"
   ]
  },
  {
   "cell_type": "markdown",
   "metadata": {},
   "source": [
    "## Using CountVectoriser with Bag of Words, Unigrams"
   ]
  },
  {
   "cell_type": "code",
   "execution_count": 8,
   "metadata": {},
   "outputs": [],
   "source": [
    "vectorizer = CountVectorizer(stop_words='english', ngram_range=(1,1))\n",
    "vectorizer.fit(X_train_text)\n",
    "\n",
    "X_train = vectorizer.transform(X_train_text)\n",
    "X_val = vectorizer.transform(X_val_text)\n",
    "X_test = vectorizer.transform(X_test_text)"
   ]
  },
  {
   "cell_type": "code",
   "execution_count": 9,
   "metadata": {},
   "outputs": [
    {
     "data": {
      "text/plain": [
       "DecisionTreeClassifier(random_state=0)"
      ]
     },
     "execution_count": 9,
     "metadata": {},
     "output_type": "execute_result"
    }
   ],
   "source": [
    "# initialise Decision Tree\n",
    "clf = DecisionTreeClassifier(criterion='gini',random_state=0) \n",
    "\n",
    "# train model\n",
    "clf.fit(X_train, y_train)"
   ]
  },
  {
   "cell_type": "code",
   "execution_count": 10,
   "metadata": {},
   "outputs": [
    {
     "name": "stdout",
     "output_type": "stream",
     "text": [
      "              precision    recall  f1-score   support\n",
      "\n",
      "           0       0.99      1.00      1.00      3427\n",
      "           1       1.00      0.99      1.00      3757\n",
      "\n",
      "    accuracy                           1.00      7184\n",
      "   macro avg       1.00      1.00      1.00      7184\n",
      "weighted avg       1.00      1.00      1.00      7184\n",
      "\n"
     ]
    }
   ],
   "source": [
    "y_val_pred = clf.predict(X_val)\n",
    "print(classification_report(y_val, y_val_pred))"
   ]
  },
  {
   "cell_type": "code",
   "execution_count": 11,
   "metadata": {},
   "outputs": [
    {
     "name": "stdout",
     "output_type": "stream",
     "text": [
      "              precision    recall  f1-score   support\n",
      "\n",
      "           0       1.00      1.00      1.00      4284\n",
      "           1       1.00      1.00      1.00      4697\n",
      "\n",
      "    accuracy                           1.00      8981\n",
      "   macro avg       1.00      1.00      1.00      8981\n",
      "weighted avg       1.00      1.00      1.00      8981\n",
      "\n"
     ]
    }
   ],
   "source": [
    "y_test_pred = clf.predict(X_test)\n",
    "print(classification_report(y_test, y_test_pred))"
   ]
  },
  {
   "cell_type": "markdown",
   "metadata": {},
   "source": [
    "## Using CountVectoriser with Bag of Words, Unigrams + Bigrams"
   ]
  },
  {
   "cell_type": "code",
   "execution_count": 12,
   "metadata": {},
   "outputs": [],
   "source": [
    "vectorizer = CountVectorizer(stop_words='english', ngram_range=(1,2))\n",
    "vectorizer.fit(X_train_text)\n",
    "\n",
    "X_train = vectorizer.transform(X_train_text)\n",
    "X_val = vectorizer.transform(X_val_text)\n",
    "X_test = vectorizer.transform(X_test_text)"
   ]
  },
  {
   "cell_type": "code",
   "execution_count": 13,
   "metadata": {},
   "outputs": [
    {
     "data": {
      "text/plain": [
       "DecisionTreeClassifier(random_state=0)"
      ]
     },
     "execution_count": 13,
     "metadata": {},
     "output_type": "execute_result"
    }
   ],
   "source": [
    "# train model\n",
    "clf.fit(X_train, y_train)"
   ]
  },
  {
   "cell_type": "code",
   "execution_count": 14,
   "metadata": {},
   "outputs": [
    {
     "name": "stdout",
     "output_type": "stream",
     "text": [
      "              precision    recall  f1-score   support\n",
      "\n",
      "           0       0.99      1.00      1.00      3427\n",
      "           1       1.00      0.99      1.00      3757\n",
      "\n",
      "    accuracy                           1.00      7184\n",
      "   macro avg       1.00      1.00      1.00      7184\n",
      "weighted avg       1.00      1.00      1.00      7184\n",
      "\n"
     ]
    }
   ],
   "source": [
    "y_val_pred = clf.predict(X_val)\n",
    "print(classification_report(y_val, y_val_pred))"
   ]
  },
  {
   "cell_type": "code",
   "execution_count": 15,
   "metadata": {},
   "outputs": [
    {
     "name": "stdout",
     "output_type": "stream",
     "text": [
      "              precision    recall  f1-score   support\n",
      "\n",
      "           0       1.00      1.00      1.00      4284\n",
      "           1       1.00      1.00      1.00      4697\n",
      "\n",
      "    accuracy                           1.00      8981\n",
      "   macro avg       1.00      1.00      1.00      8981\n",
      "weighted avg       1.00      1.00      1.00      8981\n",
      "\n"
     ]
    }
   ],
   "source": [
    "y_test_pred = clf.predict(X_test)\n",
    "print(classification_report(y_test, y_test_pred))"
   ]
  },
  {
   "cell_type": "markdown",
   "metadata": {},
   "source": [
    "## Using CountVectoriser with Bag of Words, Bigrams"
   ]
  },
  {
   "cell_type": "code",
   "execution_count": 16,
   "metadata": {},
   "outputs": [],
   "source": [
    "vectorizer = CountVectorizer(stop_words='english', ngram_range=(2,2))\n",
    "vectorizer.fit(X_train_text)\n",
    "\n",
    "X_train = vectorizer.transform(X_train_text)\n",
    "X_val = vectorizer.transform(X_val_text)\n",
    "X_test = vectorizer.transform(X_test_text)"
   ]
  },
  {
   "cell_type": "code",
   "execution_count": 17,
   "metadata": {},
   "outputs": [
    {
     "data": {
      "text/plain": [
       "DecisionTreeClassifier(random_state=0)"
      ]
     },
     "execution_count": 17,
     "metadata": {},
     "output_type": "execute_result"
    }
   ],
   "source": [
    "# initialise Decision Tree\n",
    "clf = DecisionTreeClassifier(criterion='gini',random_state=0) \n",
    "\n",
    "# train model\n",
    "clf.fit(X_train, y_train)"
   ]
  },
  {
   "cell_type": "code",
   "execution_count": 18,
   "metadata": {},
   "outputs": [
    {
     "name": "stdout",
     "output_type": "stream",
     "text": [
      "              precision    recall  f1-score   support\n",
      "\n",
      "           0       0.95      0.95      0.95      3427\n",
      "           1       0.95      0.96      0.95      3757\n",
      "\n",
      "    accuracy                           0.95      7184\n",
      "   macro avg       0.95      0.95      0.95      7184\n",
      "weighted avg       0.95      0.95      0.95      7184\n",
      "\n"
     ]
    }
   ],
   "source": [
    "y_val_pred = clf.predict(X_val)\n",
    "print(classification_report(y_val, y_val_pred))"
   ]
  },
  {
   "cell_type": "code",
   "execution_count": 19,
   "metadata": {},
   "outputs": [
    {
     "name": "stdout",
     "output_type": "stream",
     "text": [
      "              precision    recall  f1-score   support\n",
      "\n",
      "           0       0.95      0.95      0.95      4284\n",
      "           1       0.96      0.96      0.96      4697\n",
      "\n",
      "    accuracy                           0.95      8981\n",
      "   macro avg       0.95      0.95      0.95      8981\n",
      "weighted avg       0.95      0.95      0.95      8981\n",
      "\n"
     ]
    }
   ],
   "source": [
    "y_test_pred = clf.predict(X_test)\n",
    "print(classification_report(y_test, y_test_pred))"
   ]
  },
  {
   "cell_type": "markdown",
   "metadata": {},
   "source": [
    "## Using Tf-ldf and Unigrams"
   ]
  },
  {
   "cell_type": "code",
   "execution_count": 55,
   "metadata": {},
   "outputs": [
    {
     "name": "stdout",
     "output_type": "stream",
     "text": [
      "Model with unigram\n",
      "Testing using validation data:\n",
      "              precision    recall  f1-score   support\n",
      "\n",
      "           0       0.99      0.99      0.99      3427\n",
      "           1       0.99      0.99      0.99      3757\n",
      "\n",
      "    accuracy                           0.99      7184\n",
      "   macro avg       0.99      0.99      0.99      7184\n",
      "weighted avg       0.99      0.99      0.99      7184\n",
      "\n",
      "------------------------------------------\n",
      "Testing using test data:\n",
      "              precision    recall  f1-score   support\n",
      "\n",
      "           0       1.00      0.99      1.00      4284\n",
      "           1       0.99      1.00      1.00      4697\n",
      "\n",
      "    accuracy                           1.00      8981\n",
      "   macro avg       1.00      1.00      1.00      8981\n",
      "weighted avg       1.00      1.00      1.00      8981\n",
      "\n",
      "------------------------------------------\n",
      "------------------------------------------\n",
      "Model with unigram and bigram\n",
      "Testing using validation data:\n",
      "              precision    recall  f1-score   support\n",
      "\n",
      "           0       0.99      0.99      0.99      3427\n",
      "           1       0.99      0.99      0.99      3757\n",
      "\n",
      "    accuracy                           0.99      7184\n",
      "   macro avg       0.99      0.99      0.99      7184\n",
      "weighted avg       0.99      0.99      0.99      7184\n",
      "\n",
      "------------------------------------------\n",
      "Testing using test data:\n",
      "              precision    recall  f1-score   support\n",
      "\n",
      "           0       1.00      0.99      0.99      4284\n",
      "           1       0.99      1.00      1.00      4697\n",
      "\n",
      "    accuracy                           1.00      8981\n",
      "   macro avg       1.00      1.00      1.00      8981\n",
      "weighted avg       1.00      1.00      1.00      8981\n",
      "\n",
      "------------------------------------------\n",
      "------------------------------------------\n",
      "Model with bigram\n",
      "Testing using validation data:\n",
      "              precision    recall  f1-score   support\n",
      "\n",
      "           0       0.94      0.95      0.94      3427\n",
      "           1       0.95      0.94      0.95      3757\n",
      "\n",
      "    accuracy                           0.95      7184\n",
      "   macro avg       0.95      0.95      0.95      7184\n",
      "weighted avg       0.95      0.95      0.95      7184\n",
      "\n",
      "------------------------------------------\n",
      "Testing using test data:\n",
      "              precision    recall  f1-score   support\n",
      "\n",
      "           0       0.94      0.95      0.94      4284\n",
      "           1       0.95      0.94      0.95      4697\n",
      "\n",
      "    accuracy                           0.94      8981\n",
      "   macro avg       0.94      0.94      0.94      8981\n",
      "weighted avg       0.94      0.94      0.94      8981\n",
      "\n",
      "------------------------------------------\n",
      "------------------------------------------\n"
     ]
    }
   ],
   "source": [
    "tfidf_params = {'unigram':(1,1), 'unigram and bigram': (1,2), 'bigram':(2,2)}\n",
    "\n",
    "for ngram, values in tfidf_params.items():\n",
    "    tfidf_vectorizer = TfidfVectorizer(analyzer='word', stop_words='english', ngram_range=values)\n",
    "    tfidf_vectorizer.fit(X_train_text)\n",
    "\n",
    "    X_train = tfidf_vectorizer.transform(X_train_text)\n",
    "    X_val = tfidf_vectorizer.transform(X_val_text)\n",
    "    X_test = tfidf_vectorizer.transform(X_test_text)\n",
    "\n",
    "    print(f\"Model with {ngram}\")\n",
    "    clf.fit(X_train, y_train)\n",
    "\n",
    "    # Validation Data\n",
    "    print(\"Testing using validation data:\")    \n",
    "    y_val_pred = clf.predict(X_val)\n",
    "    print(classification_report(y_val, y_val_pred))\n",
    "    print(\"------------------------------------------\")\n",
    "\n",
    "    # Test Data\n",
    "    print(\"Testing using test data:\")\n",
    "    y_test_pred = clf.predict(X_test)\n",
    "    print(classification_report(y_test, y_test_pred))\n",
    "    print(\"------------------------------------------\")\n",
    "    print(\"------------------------------------------\")"
   ]
  },
  {
   "cell_type": "markdown",
   "metadata": {},
   "source": [
    "# Modelling with Combined Datasets (Dataset 1 & Dataset 2)\n",
    "## Reading the Combined Dataset"
   ]
  },
  {
   "cell_type": "code",
   "execution_count": null,
   "metadata": {},
   "outputs": [],
   "source": [
    "train_data = pd.read_csv(\"../../Data/Combined data/train_data.csv\")\n",
    "val_data = pd.read_csv(\"../../Data/Combined data/validation_data.csv\")\n",
    "test_data = pd.read_csv(\"../../Data/Combined data/test_data.csv\")\n",
    "\n",
    "train_data.sample(5)"
   ]
  },
  {
   "cell_type": "code",
   "execution_count": null,
   "metadata": {},
   "outputs": [],
   "source": [
    "X_train_text = train_data[\"text_preprocessed\"].values\n",
    "y_train = train_data[\"class_label\"].values\n",
    "\n",
    "X_val_text = val_data[\"text_preprocessed\"].values\n",
    "y_val = val_data[\"class_label\"].values\n",
    "\n",
    "X_test_text = test_data[\"text_preprocessed\"].values\n",
    "y_test = test_data[\"class_label\"].values"
   ]
  },
  {
   "cell_type": "markdown",
   "metadata": {},
   "source": [
    "## Using CountVectoriser with Bag of Words, Unigrams"
   ]
  },
  {
   "cell_type": "code",
   "execution_count": null,
   "metadata": {},
   "outputs": [],
   "source": [
    "vectorizer = CountVectorizer(stop_words='english', ngram_range=(1,1))\n",
    "vectorizer.fit(X_train_text)\n",
    "\n",
    "X_train = vectorizer.transform(X_train_text)\n",
    "X_val = vectorizer.transform(X_val_text)\n",
    "X_test = vectorizer.transform(X_test_text)"
   ]
  },
  {
   "cell_type": "code",
   "execution_count": null,
   "metadata": {},
   "outputs": [],
   "source": [
    "print(\"number of features used:\", len(vectorizer.get_feature_names()))"
   ]
  },
  {
   "cell_type": "code",
   "execution_count": null,
   "metadata": {},
   "outputs": [],
   "source": [
    "# Sparse vector of frequency of each word appearing in a text article\n",
    "print(X_train)"
   ]
  },
  {
   "cell_type": "code",
   "execution_count": null,
   "metadata": {},
   "outputs": [],
   "source": [
    "# train model\n",
    "clf.fit(X_train, y_train)"
   ]
  },
  {
   "cell_type": "code",
   "execution_count": null,
   "metadata": {},
   "outputs": [],
   "source": [
    "y_val_pred = clf.predict(X_val)\n",
    "print(classification_report(y_val, y_val_pred))"
   ]
  },
  {
   "cell_type": "code",
   "execution_count": null,
   "metadata": {},
   "outputs": [],
   "source": [
    "y_test_pred = clf.predict(X_test)\n",
    "print(classification_report(y_test, y_test_pred))"
   ]
  },
  {
   "cell_type": "markdown",
   "metadata": {},
   "source": [
    "## Using CountVectoriser with Bag of Words, Unigrams + Bigrams"
   ]
  },
  {
   "cell_type": "code",
   "execution_count": null,
   "metadata": {},
   "outputs": [],
   "source": [
    "vectorizer5 = CountVectorizer(stop_words='english', ngram_range=(1,2))\n",
    "vectorizer5.fit(X_train_text)\n",
    "\n",
    "X_train = vectorizer5.transform(X_train_text)\n",
    "X_val = vectorizer5.transform(X_val_text)\n",
    "X_test = vectorizer5.transform(X_test_text)"
   ]
  },
  {
   "cell_type": "code",
   "execution_count": null,
   "metadata": {},
   "outputs": [],
   "source": [
    "# train model\n",
    "clf.fit(X_train, y_train)"
   ]
  },
  {
   "cell_type": "code",
   "execution_count": null,
   "metadata": {},
   "outputs": [],
   "source": [
    "y_val_pred = clf.predict(X_val)\n",
    "print(classification_report(y_val, y_val_pred))"
   ]
  },
  {
   "cell_type": "code",
   "execution_count": null,
   "metadata": {},
   "outputs": [],
   "source": [
    "y_test_pred = clf.predict(X_test)\n",
    "print(classification_report(y_test, y_test_pred))"
   ]
  },
  {
   "cell_type": "markdown",
   "metadata": {},
   "source": [
    "## Using CountVectorizer with Bag of Word, Bigrams only"
   ]
  },
  {
   "cell_type": "code",
   "execution_count": null,
   "metadata": {},
   "outputs": [],
   "source": [
    "vectorizer3 = CountVectorizer(stop_words='english', ngram_range=(2,2))\n",
    "vectorizer3.fit(X_train_text)\n",
    "\n",
    "X_train = vectorizer3.transform(X_train_text)\n",
    "X_val = vectorizer3.transform(X_val_text)\n",
    "X_test = vectorizer3.transform(X_test_text)"
   ]
  },
  {
   "cell_type": "code",
   "execution_count": null,
   "metadata": {},
   "outputs": [],
   "source": [
    "# train model\n",
    "clf.fit(X_train, y_train)"
   ]
  },
  {
   "cell_type": "code",
   "execution_count": null,
   "metadata": {},
   "outputs": [],
   "source": [
    "y_val_pred = clf.predict(X_val)\n",
    "print(classification_report(y_val, y_val_pred))"
   ]
  },
  {
   "cell_type": "code",
   "execution_count": null,
   "metadata": {},
   "outputs": [],
   "source": [
    "y_test_pred = clf.predict(X_test)\n",
    "print(classification_report(y_test, y_test_pred))"
   ]
  },
  {
   "cell_type": "markdown",
   "metadata": {},
   "source": [
    "## Using Tf-ldf"
   ]
  },
  {
   "cell_type": "code",
   "execution_count": null,
   "metadata": {},
   "outputs": [],
   "source": [
    "tfidf_params = {'unigram':(1,1), 'unigram and bigram': (1,2), 'bigram':(2,2)}\n",
    "\n",
    "for ngram, values in tfidf_params.items():\n",
    "    tfidf_vectorizer = TfidfVectorizer(analyzer='word', stop_words='english', ngram_range=values)\n",
    "    tfidf_vectorizer.fit(X_train_text)\n",
    "\n",
    "    X_train = tfidf_vectorizer.transform(X_train_text)\n",
    "    X_val = tfidf_vectorizer.transform(X_val_text)\n",
    "    X_test = tfidf_vectorizer.transform(X_test_text)\n",
    "\n",
    "    print(f\"Model with {ngram}\")\n",
    "    clf.fit(X_train, y_train)\n",
    "\n",
    "    # Validation Data\n",
    "    print(\"Testing using validation data:\")    \n",
    "    y_val_pred = clf.predict(X_val)\n",
    "    print(classification_report(y_val, y_val_pred))\n",
    "    print(\"------------------------------------------\")\n",
    "\n",
    "    # Test Data\n",
    "    print(\"Testing using test data:\")\n",
    "    y_test_pred = clf.predict(X_test)\n",
    "    print(classification_report(y_test, y_test_pred))\n",
    "    print(\"------------------------------------------\")\n",
    "    print(\"------------------------------------------\")"
   ]
  },
  {
   "cell_type": "markdown",
   "metadata": {},
   "source": [
    "# Modelling with Feature Selection & Added Features (Combined Data)\n",
    "## Reading the Combined Data"
   ]
  },
  {
   "cell_type": "code",
   "execution_count": null,
   "metadata": {},
   "outputs": [],
   "source": [
    "train_data = pd.read_csv(\"../../Data/Data with added features/Final datasets/train_data.csv\")\n",
    "val_data = pd.read_csv(\"../../Data/Data with added features/Final datasets/val_data.csv\")\n",
    "test_data = pd.read_csv(\"../../Data/Data with added features/Final datasets/test_data.csv\")\n",
    "\n",
    "train_data.sample(5)"
   ]
  },
  {
   "cell_type": "code",
   "execution_count": null,
   "metadata": {},
   "outputs": [],
   "source": [
    "X_train_text = train_data[\"text_preprocessed\"].values\n",
    "y_train = train_data[\"class_label\"].values\n",
    "\n",
    "X_val_text = val_data[\"text_preprocessed\"].values\n",
    "y_val = val_data[\"class_label\"].values\n",
    "\n",
    "X_test_text = test_data[\"text_preprocessed\"].values\n",
    "y_test = test_data[\"class_label\"].values"
   ]
  },
  {
   "cell_type": "markdown",
   "metadata": {},
   "source": [
    "## Using Tf-Idf, Unigrams + Bigrams\n",
    "### Feature Selection, 134 Features (min_df = 0.15)"
   ]
  },
  {
   "cell_type": "code",
   "execution_count": null,
   "metadata": {},
   "outputs": [],
   "source": [
    "tfidf_vectorizer = TfidfVectorizer(analyzer='word', stop_words='english', ngram_range=(1,2), min_df=0.15)\n",
    "tfidf_vectorizer.fit(X_train_text)\n",
    "\n",
    "X_train = tfidf_vectorizer.transform(X_train_text)\n",
    "X_val = tfidf_vectorizer.transform(X_val_text)\n",
    "X_test = tfidf_vectorizer.transform(X_test_text)\n",
    "\n",
    "print(f\"Model with {ngram}\")\n",
    "clf.fit(X_train, y_train)\n",
    "\n",
    "# Validation Data\n",
    "print(\"Testing using validation data:\")    \n",
    "y_val_pred = clf.predict(X_val)\n",
    "print(classification_report(y_val, y_val_pred))\n",
    "print(\"------------------------------------------\")\n",
    "\n",
    "# Test Data\n",
    "print(\"Testing using test data:\")  \n",
    "y_test_pred = clf.predict(X_test)\n",
    "print(classification_report(y_test, y_test_pred))\n",
    "print(\"------------------------------------------\")\n",
    "print(\"------------------------------------------\")"
   ]
  },
  {
   "cell_type": "markdown",
   "metadata": {},
   "source": [
    "### Feature Selection, 3k Features (min_df = 0.01)"
   ]
  },
  {
   "cell_type": "code",
   "execution_count": null,
   "metadata": {},
   "outputs": [],
   "source": [
    "tfidf_vectorizer = TfidfVectorizer(analyzer='word', stop_words='english', ngram_range=(1,2), min_df=0.01)\n",
    "tfidf_vectorizer.fit(X_train_text)\n",
    "\n",
    "X_train = tfidf_vectorizer.transform(X_train_text)\n",
    "X_val = tfidf_vectorizer.transform(X_val_text)\n",
    "X_test = tfidf_vectorizer.transform(X_test_text)\n",
    "\n",
    "print(f\"Model with {ngram}\")\n",
    "clf.fit(X_train, y_train)\n",
    "\n",
    "# Validation Data\n",
    "print(\"Testing using validation data:\")    \n",
    "y_val_pred = clf.predict(X_val)\n",
    "print(classification_report(y_val, y_val_pred))\n",
    "print(\"------------------------------------------\")\n",
    "\n",
    "# Test Data\n",
    "print(\"Testing using test data:\")\n",
    "y_test_pred = clf.predict(X_test)\n",
    "print(classification_report(y_test, y_test_pred))"
   ]
  },
  {
   "cell_type": "markdown",
   "metadata": {},
   "source": [
    "### All Added Features, 134 Features (min_df = 0.15)"
   ]
  },
  {
   "cell_type": "code",
   "execution_count": null,
   "metadata": {},
   "outputs": [],
   "source": [
    "tfidf_vectorizer = TfidfVectorizer(analyzer='word', stop_words='english', ngram_range=(1,2), min_df=0.15)\n",
    "\n",
    "# Create mapper object to combine added features and tfidf word vectors\n",
    "mapper = DataFrameMapper([\n",
    "    (['char_count', 'word_count', 'sentence_count', 'prop_unique_words',\n",
    "    'avg_sentence_length', 'prop_punctuations', 'prop_stopwords',\n",
    "    'prop_words_in_quotes', 'prop_nouns', 'prop_verbs', 'prop_adjectives',\n",
    "    'prop_discourse_relations', 'textblob_sentiment'], None), \n",
    "    ('text_preprocessed', tfidf_vectorizer)\n",
    "])\n",
    "\n",
    "X_train_added_features = mapper.fit_transform(train_data)\n",
    "X_test_added_features = mapper.transform(test_data)\n",
    "\n",
    "clf.fit(X_train_added_features, y_train)\n",
    "\n",
    "# Test Data\n",
    "print(\"Testing using test data:\")\n",
    "y_test_pred = clf.predict(X_test_added_features)\n",
    "print(classification_report(y_test, y_test_pred))"
   ]
  },
  {
   "cell_type": "markdown",
   "metadata": {},
   "source": [
    "### All Added Features, 3k Features (min_df = 0.01)"
   ]
  },
  {
   "cell_type": "code",
   "execution_count": null,
   "metadata": {},
   "outputs": [],
   "source": [
    "tfidf_vectorizer = TfidfVectorizer(analyzer='word', stop_words='english', ngram_range=(1,2), min_df=0.01)\n",
    "\n",
    "# Create mapper object to combine added features and tfidf word vectors\n",
    "mapper = DataFrameMapper([\n",
    "    (['char_count', 'word_count', 'sentence_count', 'prop_unique_words',\n",
    "    'avg_sentence_length', 'prop_punctuations', 'prop_stopwords',\n",
    "    'prop_words_in_quotes', 'prop_nouns', 'prop_verbs', 'prop_adjectives',\n",
    "    'prop_discourse_relations', 'textblob_sentiment'], None), \n",
    "    ('text_preprocessed', tfidf_vectorizer)\n",
    "])\n",
    "\n",
    "X_train_added_features = mapper.fit_transform(train_data)\n",
    "X_test_added_features = mapper.transform(test_data)\n",
    "\n",
    "clf.fit(X_train_added_features, y_train)\n",
    "\n",
    "# Test Data\n",
    "print(\"Testing using test data:\")\n",
    "y_test_pred = clf.predict(X_test_added_features)\n",
    "print(classification_report(y_test, y_test_pred))"
   ]
  },
  {
   "cell_type": "markdown",
   "metadata": {},
   "source": [
    "### Selected Added Features, 134 Features (min_df = 0.15)"
   ]
  },
  {
   "cell_type": "code",
   "execution_count": null,
   "metadata": {},
   "outputs": [],
   "source": [
    "tfidf_vectorizer = TfidfVectorizer(analyzer='word', stop_words='english', ngram_range=(1,2), min_df=0.15)\n",
    "\n",
    "# Create mapper object to combine added features and tfidf word vectors\n",
    "mapper = DataFrameMapper([\n",
    "    (['char_count', 'word_count', 'prop_unique_words', 'avg_sentence_length', 'prop_punctuations', 'prop_stopwords', 'prop_nouns'], None), \n",
    "    ('text_preprocessed', tfidf_vectorizer)\n",
    "])\n",
    "\n",
    "X_train_added_features = mapper.fit_transform(train_data_added_features_scaled)\n",
    "X_test_added_features = mapper.transform(test_data_added_features_scaled)\n",
    "\n",
    "clf.fit(X_train_added_features, y_train)\n",
    "\n",
    "# Test Data\n",
    "print(\"Testing using test data:\")\n",
    "y_test_pred = clf.predict(X_test_added_features)\n",
    "print(classification_report(y_test, y_test_pred))"
   ]
  },
  {
   "cell_type": "markdown",
   "metadata": {},
   "source": [
    "### Selected Added Features, 3k Features (min_df = 0.01)"
   ]
  },
  {
   "cell_type": "code",
   "execution_count": null,
   "metadata": {},
   "outputs": [],
   "source": [
    "tfidf_vectorizer = TfidfVectorizer(analyzer='word', stop_words='english', ngram_range=(1,2), min_df=0.01)\n",
    "\n",
    "# Create mapper object to combine added features and tfidf word vectors\n",
    "mapper = DataFrameMapper([\n",
    "    (['char_count', 'word_count', 'prop_unique_words', 'avg_sentence_length', 'prop_punctuations', 'prop_stopwords', 'prop_nouns'], None), \n",
    "    ('text_preprocessed', tfidf_vectorizer)\n",
    "])\n",
    "\n",
    "X_train_added_features = mapper.fit_transform(train_data_added_features_scaled)\n",
    "X_test_added_features = mapper.transform(test_data_added_features_scaled)\n",
    "\n",
    "clf.fit(X_train_added_features, y_train)\n",
    "\n",
    "# Test Data\n",
    "print(\"Testing using test data:\")\n",
    "y_test_pred = clf.predict(X_test_added_features)\n",
    "print(classification_report(y_test, y_test_pred))"
   ]
  },
  {
   "cell_type": "markdown",
   "metadata": {},
   "source": [
    "# Fine-Tuning the Model for Feature Selection (Unigram + Bigram)"
   ]
  },
  {
   "cell_type": "code",
   "execution_count": null,
   "metadata": {},
   "outputs": [],
   "source": [
    "# fine tuning parameters\n",
    "dt = DecisionTreeClassifier()\n",
    "pipe = Pipeline(steps=[('dt', dt)])\n",
    "criterion = ['gini', 'entropy']\n",
    "max_depth = [12, 14, 16, 18, 20, 22]\n",
    "parameters = dict(dt__criterion = criterion, dt__max_depth = max_depth)\n",
    "\n",
    "# initialise Decision Tree\n",
    "clf = GridSearchCV(pipe, parameters) "
   ]
  },
  {
   "cell_type": "markdown",
   "metadata": {},
   "source": [
    "## Using Tf-Idf \n",
    "### Feature selection, 134 Features (min_df = 0.15)"
   ]
  },
  {
   "cell_type": "code",
   "execution_count": null,
   "metadata": {},
   "outputs": [],
   "source": [
    "tfidf_vectorizer = TfidfVectorizer(analyzer='word', stop_words='english', ngram_range=(1,2), min_df=0.15)\n",
    "tfidf_vectorizer.fit(X_train_text)\n",
    "\n",
    "X_train = tfidf_vectorizer.transform(X_train_text)\n",
    "X_val = tfidf_vectorizer.transform(X_val_text)\n",
    "X_test = tfidf_vectorizer.transform(X_test_text)\n",
    "\n",
    "clf.fit(X_train, y_train)\n",
    "\n",
    "# Validation Data\n",
    "print(\"Testing using validation data:\")    \n",
    "y_val_pred = clf.predict(X_val)\n",
    "print(classification_report(y_val, y_val_pred))\n",
    "print(\"------------------------------------------\")\n",
    "\n",
    "# Test Data\n",
    "print(\"Testing using test data:\")  \n",
    "y_test_pred = clf.predict(X_test)\n",
    "print(classification_report(y_test, y_test_pred))\n",
    "print(\"------------------------------------------\")\n",
    "\n",
    "print(\"Best Parameters:\", clf.best_params_)"
   ]
  },
  {
   "cell_type": "markdown",
   "metadata": {},
   "source": [
    "### Feature selection, 3k Features (min_df = 0.01)"
   ]
  },
  {
   "cell_type": "code",
   "execution_count": null,
   "metadata": {},
   "outputs": [],
   "source": [
    "tfidf_vectorizer = TfidfVectorizer(analyzer='word', stop_words='english', ngram_range=(1,2), min_df=0.01)\n",
    "tfidf_vectorizer.fit(X_train_text)\n",
    "\n",
    "X_train = tfidf_vectorizer.transform(X_train_text)\n",
    "X_val = tfidf_vectorizer.transform(X_val_text)\n",
    "X_test = tfidf_vectorizer.transform(X_test_text)\n",
    "\n",
    "clf.fit(X_train, y_train)\n",
    "\n",
    "# Validation Data\n",
    "print(\"Testing using validation data:\")    \n",
    "y_val_pred = clf.predict(X_val)\n",
    "print(classification_report(y_val, y_val_pred))\n",
    "print(\"------------------------------------------\")\n",
    "\n",
    "# Test Data\n",
    "print(\"Testing using test data:\")\n",
    "y_test_pred = clf.predict(X_test)\n",
    "print(classification_report(y_test, y_test_pred))\n",
    "print(\"------------------------------------------\")\n",
    "\n",
    "print(\"Best Parameters:\", clf.best_params_)"
   ]
  },
  {
   "cell_type": "markdown",
   "metadata": {},
   "source": [
    "### All Added Features, 134 Features (min_df = 0.15)"
   ]
  },
  {
   "cell_type": "code",
   "execution_count": null,
   "metadata": {},
   "outputs": [],
   "source": [
    "tfidf_vectorizer = TfidfVectorizer(analyzer='word', stop_words='english', ngram_range=(1,2), min_df=0.15)\n",
    "\n",
    "# Create mapper object to combine added features and tfidf word vectors\n",
    "mapper = DataFrameMapper([\n",
    "    (['char_count', 'word_count', 'sentence_count', 'prop_unique_words',\n",
    "    'avg_sentence_length', 'prop_punctuations', 'prop_stopwords',\n",
    "    'prop_words_in_quotes', 'prop_nouns', 'prop_verbs', 'prop_adjectives',\n",
    "    'prop_discourse_relations', 'textblob_sentiment'], None), \n",
    "    ('text_preprocessed', tfidf_vectorizer)\n",
    "])\n",
    "\n",
    "X_train_added_features = mapper.fit_transform(train_data_added_features_scaled)\n",
    "X_test_added_features = mapper.transform(test_data_added_features_scaled)\n",
    "\n",
    "clf.fit(X_train_added_features, y_train)\n",
    "\n",
    "# Test Data\n",
    "print(\"Testing using test data:\")\n",
    "y_test_pred = clf.predict(X_test_added_features)\n",
    "print(classification_report(y_test, y_test_pred))\n",
    "print(\"------------------------------------------\")\n",
    "\n",
    "print(\"Best Parameters:\", clf.best_params_)"
   ]
  },
  {
   "cell_type": "markdown",
   "metadata": {},
   "source": [
    "### All Added Features, 3k Features (min_df = 0.01)"
   ]
  },
  {
   "cell_type": "code",
   "execution_count": null,
   "metadata": {},
   "outputs": [],
   "source": [
    "tfidf_vectorizer = TfidfVectorizer(analyzer='word', stop_words='english', ngram_range=(1,2), min_df=0.01)\n",
    "\n",
    "# Create mapper object to combine added features and tfidf word vectors\n",
    "mapper = DataFrameMapper([\n",
    "    (['char_count', 'word_count', 'sentence_count', 'prop_unique_words',\n",
    "    'avg_sentence_length', 'prop_punctuations', 'prop_stopwords',\n",
    "    'prop_words_in_quotes', 'prop_nouns', 'prop_verbs', 'prop_adjectives',\n",
    "    'prop_discourse_relations', 'textblob_sentiment'], None), \n",
    "    ('text_preprocessed', tfidf_vectorizer)\n",
    "])\n",
    "\n",
    "X_train_added_features = mapper.fit_transform(train_data_added_features_scaled)\n",
    "X_test_added_features = mapper.transform(test_data_added_features_scaled)\n",
    "\n",
    "clf.fit(X_train_added_features, y_train)\n",
    "\n",
    "# Test Data\n",
    "print(\"Testing using test data:\")\n",
    "y_test_pred = clf.predict(X_test_added_features)\n",
    "print(classification_report(y_test, y_test_pred))\n",
    "print(\"------------------------------------------\")\n",
    "\n",
    "print(\"Best Parameters:\", clf.best_params_)"
   ]
  },
  {
   "cell_type": "markdown",
   "metadata": {},
   "source": [
    "### Selected Added Features, 134 Features (min_df = 0.15)"
   ]
  },
  {
   "cell_type": "code",
   "execution_count": null,
   "metadata": {},
   "outputs": [],
   "source": [
    "tfidf_vectorizer = TfidfVectorizer(analyzer='word', stop_words='english', ngram_range=(1,2), min_df=0.15)\n",
    "\n",
    "# Create mapper object to combine added features and tfidf word vectors\n",
    "mapper = DataFrameMapper([\n",
    "    (['char_count', 'word_count', 'prop_unique_words', 'avg_sentence_length', 'prop_punctuations', 'prop_stopwords', 'prop_nouns'], None), \n",
    "    ('text_preprocessed', tfidf_vectorizer)\n",
    "])\n",
    "\n",
    "X_train_added_features = mapper.fit_transform(train_data_added_features_scaled)\n",
    "X_test_added_features = mapper.transform(test_data_added_features_scaled)\n",
    "\n",
    "clf.fit(X_train_added_features, y_train)\n",
    "\n",
    "# Test Data\n",
    "print(\"Testing using test data:\")\n",
    "y_test_pred = clf.predict(X_test_added_features)\n",
    "print(classification_report(y_test, y_test_pred))\n",
    "print(\"------------------------------------------\")\n",
    "\n",
    "print(\"Best Parameters:\", clf.best_params_)"
   ]
  },
  {
   "cell_type": "markdown",
   "metadata": {},
   "source": [
    "### Selected Added Features, 3k Features (min_df = 0.01)"
   ]
  },
  {
   "cell_type": "code",
   "execution_count": null,
   "metadata": {},
   "outputs": [],
   "source": [
    "tfidf_vectorizer = TfidfVectorizer(analyzer='word', stop_words='english', ngram_range=(1,2), min_df=0.01)\n",
    "\n",
    "# Create mapper object to combine added features and tfidf word vectors\n",
    "mapper = DataFrameMapper([\n",
    "    (['char_count', 'word_count', 'prop_unique_words', 'avg_sentence_length', 'prop_punctuations', 'prop_stopwords', 'prop_nouns'], None), \n",
    "    ('text_preprocessed', tfidf_vectorizer)\n",
    "])\n",
    "\n",
    "X_train_added_features = mapper.fit_transform(train_data_added_features_scaled)\n",
    "X_test_added_features = mapper.transform(test_data_added_features_scaled)\n",
    "\n",
    "clf.fit(X_train_added_features, y_train)\n",
    "\n",
    "# Test Data\n",
    "print(\"Testing using test data:\")\n",
    "y_test_pred = clf.predict(X_test_added_features)\n",
    "print(classification_report(y_test, y_test_pred))\n",
    "print(\"------------------------------------------\")\n",
    "\n",
    "print(\"Best Parameters:\", clf.best_params_)"
   ]
  }
 ],
 "metadata": {
  "kernelspec": {
   "display_name": "Python 3",
   "language": "python",
   "name": "python3"
  },
  "language_info": {
   "codemirror_mode": {
    "name": "ipython",
    "version": 3
   },
   "file_extension": ".py",
   "mimetype": "text/x-python",
   "name": "python",
   "nbconvert_exporter": "python",
   "pygments_lexer": "ipython3",
   "version": "3.7.3"
  }
 },
 "nbformat": 4,
 "nbformat_minor": 2
}
