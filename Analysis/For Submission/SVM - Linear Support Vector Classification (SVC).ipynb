{
 "cells": [
  {
   "cell_type": "code",
   "execution_count": null,
   "metadata": {},
   "outputs": [],
   "source": [
    "from utils import *"
   ]
  },
  {
   "cell_type": "markdown",
   "metadata": {},
   "source": [
    "# Modelling with Dataset 1\n",
    "## Reading the Dataset 1"
   ]
  },
  {
   "cell_type": "code",
   "execution_count": null,
   "metadata": {},
   "outputs": [],
   "source": [
    "# Import data\n",
    "true_data = pd.read_csv(\"../../Data/dataset_1/clean_data/true_clean_data.csv\", index_col=0)\n",
    "fake_data = pd.read_csv(\"../../Data/dataset_1/clean_data/fake_clean_data.csv\", index_col=0)\n",
    "\n",
    "true_data.head()"
   ]
  },
  {
   "cell_type": "markdown",
   "metadata": {},
   "source": [
    "## Train-Test-Split"
   ]
  },
  {
   "cell_type": "code",
   "execution_count": null,
   "metadata": {},
   "outputs": [],
   "source": [
    "true_X = true_data[\"text_preprocessed\"].values\n",
    "true_y = true_data[\"class_label\"].values\n",
    "\n",
    "fake_X = fake_data[\"text_preprocessed\"].values\n",
    "fake_y = fake_data[\"class_label\"].values"
   ]
  },
  {
   "cell_type": "code",
   "execution_count": null,
   "metadata": {},
   "outputs": [],
   "source": [
    "# Splitting true and fake data into training and test subsets\n",
    "true_X_train, true_X_test, true_y_train, true_y_test = train_test_split(true_X, true_y, test_size = 0.2, random_state=99)\n",
    "fake_X_train, fake_X_test, fake_y_train, fake_y_test = train_test_split(fake_X, fake_y, test_size = 0.2, random_state=99)\n",
    "\n",
    "# Splitting training data into train and validation subsets\n",
    "true_X_train, true_X_val, true_y_train, true_y_val = train_test_split(true_X_train, true_y_train, test_size = 0.2, random_state=99)\n",
    "fake_X_train, fake_X_val, fake_y_train, fake_y_val = train_test_split(fake_X_train, fake_y_train, test_size = 0.2, random_state=99)"
   ]
  },
  {
   "cell_type": "code",
   "execution_count": null,
   "metadata": {},
   "outputs": [],
   "source": [
    "# Text \n",
    "X_train_text = np.concatenate((true_X_train,fake_X_train))\n",
    "X_val_text = np.concatenate((true_X_val, fake_X_val))\n",
    "X_test_text = np.concatenate((true_X_test, fake_X_test))\n",
    "\n",
    "# Labels\n",
    "y_train = np.concatenate((true_y_train, fake_y_train))\n",
    "y_val = np.concatenate((true_y_val, fake_y_val))\n",
    "y_test = np.concatenate((true_y_test, fake_y_test))"
   ]
  },
  {
   "cell_type": "markdown",
   "metadata": {},
   "source": [
    "## Using CountVectoriser with Bag of Words, Unigrams"
   ]
  },
  {
   "cell_type": "code",
   "execution_count": null,
   "metadata": {},
   "outputs": [],
   "source": [
    "vectorizer = CountVectorizer(stop_words='english', ngram_range=(1,1))\n",
    "vectorizer.fit(X_train_text)\n",
    "\n",
    "X_train = vectorizer.transform(X_train_text)\n",
    "X_val = vectorizer.transform(X_val_text)\n",
    "X_test = vectorizer.transform(X_test_text)"
   ]
  },
  {
   "cell_type": "code",
   "execution_count": null,
   "metadata": {},
   "outputs": [],
   "source": [
    "# initialise LinearSVC\n",
    "svm_clf = LinearSVC()\n",
    "\n",
    "# train model\n",
    "svm_clf.fit(X_train, y_train)"
   ]
  },
  {
   "cell_type": "code",
   "execution_count": null,
   "metadata": {},
   "outputs": [],
   "source": [
    "y_val_pred = svm_clf.predict(X_val)\n",
    "print(classification_report(y_val, y_val_pred))"
   ]
  },
  {
   "cell_type": "code",
   "execution_count": null,
   "metadata": {},
   "outputs": [],
   "source": [
    "y_test_pred = svm_clf.predict(X_test)\n",
    "print(classification_report(y_test, y_test_pred))"
   ]
  },
  {
   "cell_type": "markdown",
   "metadata": {},
   "source": [
    "## Using CountVectoriser with Bag of Words, Unigrams + Bigrams"
   ]
  },
  {
   "cell_type": "code",
   "execution_count": null,
   "metadata": {},
   "outputs": [],
   "source": [
    "vectorizer = CountVectorizer(stop_words='english', ngram_range=(1,2))\n",
    "vectorizer.fit(X_train_text)\n",
    "\n",
    "X_train = vectorizer.transform(X_train_text)\n",
    "X_val = vectorizer.transform(X_val_text)\n",
    "X_test = vectorizer.transform(X_test_text)"
   ]
  },
  {
   "cell_type": "code",
   "execution_count": null,
   "metadata": {},
   "outputs": [],
   "source": [
    "# train model\n",
    "svm_clf.fit(X_train, y_train)"
   ]
  },
  {
   "cell_type": "code",
   "execution_count": null,
   "metadata": {},
   "outputs": [],
   "source": [
    "y_val_pred2 = svm_clf.predict(X_val)\n",
    "print(classification_report(y_val, y_val_pred2))"
   ]
  },
  {
   "cell_type": "code",
   "execution_count": null,
   "metadata": {},
   "outputs": [],
   "source": [
    "y_test_pred2 = svm_clf.predict(X_test)\n",
    "print(classification_report(y_test, y_test_pred2))"
   ]
  },
  {
   "cell_type": "markdown",
   "metadata": {},
   "source": [
    "## Using CountVectoriser with Bag of Words, Bigrams"
   ]
  },
  {
   "cell_type": "code",
   "execution_count": null,
   "metadata": {},
   "outputs": [],
   "source": [
    "vectorizer = CountVectorizer(stop_words='english', ngram_range=(2,2))\n",
    "vectorizer.fit(X_train_text)\n",
    "\n",
    "X_train = vectorizer.transform(X_train_text)\n",
    "X_val = vectorizer.transform(X_val_text)\n",
    "X_test = vectorizer.transform(X_test_text)"
   ]
  },
  {
   "cell_type": "code",
   "execution_count": null,
   "metadata": {},
   "outputs": [],
   "source": [
    "# train model\n",
    "svm_clf.fit(X_train, y_train)"
   ]
  },
  {
   "cell_type": "code",
   "execution_count": null,
   "metadata": {},
   "outputs": [],
   "source": [
    "y_val_pred3 = svm_clf.predict(X_val)\n",
    "print(classification_report(y_val, y_val_pred3))"
   ]
  },
  {
   "cell_type": "code",
   "execution_count": null,
   "metadata": {},
   "outputs": [],
   "source": [
    "y_test_pred3 = svm_clf.predict(X_test)\n",
    "print(classification_report(y_test, y_test_pred3))"
   ]
  },
  {
   "cell_type": "markdown",
   "metadata": {},
   "source": [
    "## Using Tf-ldf and Unigrams"
   ]
  },
  {
   "cell_type": "code",
   "execution_count": null,
   "metadata": {},
   "outputs": [],
   "source": [
    "tfidf_params = {'unigram':(1,1), 'unigram and bigram': (1,2), 'bigram':(2,2)}\n",
    "\n",
    "for ngram, values in tfidf_params.items():\n",
    "    tfidf_vectorizer = TfidfVectorizer(analyzer='word', stop_words='english', ngram_range=values)\n",
    "    tfidf_vectorizer.fit(X_train_text)\n",
    "\n",
    "    X_train = tfidf_vectorizer.transform(X_train_text)\n",
    "    X_val = tfidf_vectorizer.transform(X_val_text)\n",
    "    X_test = tfidf_vectorizer.transform(X_test_text)\n",
    "\n",
    "    svm_clf = LinearSVC()\n",
    "    print(f\"Model with {ngram}\")\n",
    "    svm_clf.fit(X_train, y_train)\n",
    "\n",
    "    # Validation Data\n",
    "    print(\"Testing using validation data:\")    \n",
    "    y_val_pred = svm_clf.predict(X_val)\n",
    "    print(classification_report(y_val, y_val_pred))\n",
    "    print(\"------------------------------------------\")\n",
    "\n",
    "    # Test Data\n",
    "    print(\"Testing using test data:\")\n",
    "    y_test_pred = svm_clf.predict(X_test)\n",
    "    print(classification_report(y_test, y_test_pred))\n",
    "    print(\"------------------------------------------\")\n",
    "    print(\"------------------------------------------\")"
   ]
  },
  {
   "cell_type": "markdown",
   "metadata": {},
   "source": [
    "# Modelling with Combined Datasets (Dataset 1 & Dataset 2)\n",
    "## Reading the Combined Dataset"
   ]
  },
  {
   "cell_type": "code",
   "execution_count": null,
   "metadata": {},
   "outputs": [],
   "source": [
    "train_data = pd.read_csv(\"../../Data/Combined data/train_data.csv\")\n",
    "val_data = pd.read_csv(\"../../Data/Combined data/validation_data.csv\")\n",
    "test_data = pd.read_csv(\"../../Data/Combined data/test_data.csv\")\n",
    "\n",
    "train_data.sample(5)"
   ]
  },
  {
   "cell_type": "code",
   "execution_count": null,
   "metadata": {},
   "outputs": [],
   "source": [
    "X_train_text = train_data[\"text_preprocessed\"].values\n",
    "y_train = train_data[\"class_label\"].values\n",
    "\n",
    "X_val_text = val_data[\"text_preprocessed\"].values\n",
    "y_val = val_data[\"class_label\"].values\n",
    "\n",
    "X_test_text = test_data[\"text_preprocessed\"].values\n",
    "y_test = test_data[\"class_label\"].values"
   ]
  },
  {
   "cell_type": "markdown",
   "metadata": {},
   "source": [
    "## Using CountVectoriser with Bag of Words, Unigrams"
   ]
  },
  {
   "cell_type": "code",
   "execution_count": null,
   "metadata": {},
   "outputs": [],
   "source": [
    "vectorizer = CountVectorizer(stop_words='english', ngram_range=(1,1))\n",
    "vectorizer.fit(X_train_text)\n",
    "\n",
    "X_train = vectorizer.transform(X_train_text)\n",
    "X_val = vectorizer.transform(X_val_text)\n",
    "X_test = vectorizer.transform(X_test_text)"
   ]
  },
  {
   "cell_type": "code",
   "execution_count": null,
   "metadata": {},
   "outputs": [],
   "source": [
    "print(\"number of features used:\", len(vectorizer.get_feature_names()))"
   ]
  },
  {
   "cell_type": "code",
   "execution_count": null,
   "metadata": {},
   "outputs": [],
   "source": [
    "# Sparse vector of frequency of each word appearing in a text article\n",
    "print(X_train)"
   ]
  },
  {
   "cell_type": "code",
   "execution_count": null,
   "metadata": {},
   "outputs": [],
   "source": [
    "# train model\n",
    "svm_clf = LinearSVC()\n",
    "svm_clf.fit(X_train, y_train)"
   ]
  },
  {
   "cell_type": "code",
   "execution_count": null,
   "metadata": {},
   "outputs": [],
   "source": [
    "y_val_pred = svm_clf.predict(X_val)\n",
    "print(classification_report(y_val, y_val_pred))"
   ]
  },
  {
   "cell_type": "code",
   "execution_count": null,
   "metadata": {},
   "outputs": [],
   "source": [
    "y_test_pred = svm_clf.predict(X_test)\n",
    "print(classification_report(y_test, y_test_pred))"
   ]
  },
  {
   "cell_type": "markdown",
   "metadata": {},
   "source": [
    "## Using CountVectoriser with Bag of Words, Unigrams + Bigrams"
   ]
  },
  {
   "cell_type": "code",
   "execution_count": null,
   "metadata": {},
   "outputs": [],
   "source": [
    "vectorizer5 = CountVectorizer(stop_words='english', ngram_range=(1,2))\n",
    "vectorizer5.fit(X_train_text)\n",
    "\n",
    "X_train = vectorizer5.transform(X_train_text)\n",
    "X_val = vectorizer5.transform(X_val_text)\n",
    "X_test = vectorizer5.transform(X_test_text)"
   ]
  },
  {
   "cell_type": "code",
   "execution_count": null,
   "metadata": {},
   "outputs": [],
   "source": [
    "# train model\n",
    "svm_clf.fit(X_train, y_train)"
   ]
  },
  {
   "cell_type": "code",
   "execution_count": null,
   "metadata": {},
   "outputs": [],
   "source": [
    "y_val_pred2 = svm_clf.predict(X_val)\n",
    "print(classification_report(y_val, y_val_pred2))"
   ]
  },
  {
   "cell_type": "code",
   "execution_count": null,
   "metadata": {},
   "outputs": [],
   "source": [
    "y_test_pred2 = svm_clf.predict(X_test)\n",
    "print(classification_report(y_test, y_test_pred2))"
   ]
  },
  {
   "cell_type": "markdown",
   "metadata": {},
   "source": [
    "## Using CountVectorizer with Bag of Word, Bigrams only"
   ]
  },
  {
   "cell_type": "code",
   "execution_count": null,
   "metadata": {},
   "outputs": [],
   "source": [
    "vectorizer3 = CountVectorizer(stop_words='english', ngram_range=(2,2))\n",
    "vectorizer3.fit(X_train_text)\n",
    "\n",
    "X_train = vectorizer3.transform(X_train_text)\n",
    "X_val = vectorizer3.transform(X_val_text)\n",
    "X_test = vectorizer3.transform(X_test_text)"
   ]
  },
  {
   "cell_type": "code",
   "execution_count": null,
   "metadata": {},
   "outputs": [],
   "source": [
    "# train model\n",
    "svm_clf.fit(X_train, y_train)"
   ]
  },
  {
   "cell_type": "code",
   "execution_count": null,
   "metadata": {},
   "outputs": [],
   "source": [
    "y_val_pred3 = svm_clf.predict(X_val)\n",
    "print(classification_report(y_val, y_val_pred3))"
   ]
  },
  {
   "cell_type": "code",
   "execution_count": null,
   "metadata": {},
   "outputs": [],
   "source": [
    "y_test_pred3 = svm_clf.predict(X_test)\n",
    "print(classification_report(y_test, y_test_pred3))"
   ]
  },
  {
   "cell_type": "markdown",
   "metadata": {},
   "source": [
    "## Using Tf-ldf"
   ]
  },
  {
   "cell_type": "code",
   "execution_count": null,
   "metadata": {},
   "outputs": [],
   "source": [
    "tfidf_params = {'unigram':(1,1), 'unigram and bigram': (1,2), 'bigram':(2,2)}\n",
    "\n",
    "for ngram, values in tfidf_params.items():\n",
    "    tfidf_vectorizer = TfidfVectorizer(analyzer='word', stop_words='english', ngram_range=values)\n",
    "    tfidf_vectorizer.fit(X_train_text)\n",
    "\n",
    "    X_train = tfidf_vectorizer.transform(X_train_text)\n",
    "    X_val = tfidf_vectorizer.transform(X_val_text)\n",
    "    X_test = tfidf_vectorizer.transform(X_test_text)\n",
    "\n",
    "    svm_clf = LinearSVC()\n",
    "    print(f\"Model with {ngram}\")\n",
    "    svm_clf.fit(X_train, y_train)\n",
    "\n",
    "    # Validation Data\n",
    "    print(\"Testing using validation data:\")    \n",
    "    y_val_pred = svm_clf.predict(X_val)\n",
    "    print(classification_report(y_val, y_val_pred))\n",
    "    print(\"------------------------------------------\")\n",
    "\n",
    "    # Test Data\n",
    "    print(\"Testing using test data:\")\n",
    "    y_test_pred = svm_clf.predict(X_test)\n",
    "    print(classification_report(y_test, y_test_pred))\n",
    "    print(\"------------------------------------------\")\n",
    "    print(\"------------------------------------------\")"
   ]
  },
  {
   "cell_type": "markdown",
   "metadata": {},
   "source": [
    "# Modelling with Feature Selection & Added Features (Combined Data)\n",
    "## Reading the Combined Data"
   ]
  },
  {
   "cell_type": "code",
   "execution_count": null,
   "metadata": {},
   "outputs": [],
   "source": [
    "train_data = pd.read_csv(\"../../Data/Data with added features/Final datasets/train_data.csv\")\n",
    "val_data = pd.read_csv(\"../../Data/Data with added features/Final datasets/val_data.csv\")\n",
    "test_data = pd.read_csv(\"../../Data/Data with added features/Final datasets/test_data.csv\")\n",
    "\n",
    "train_data.sample(5)"
   ]
  },
  {
   "cell_type": "code",
   "execution_count": null,
   "metadata": {},
   "outputs": [],
   "source": [
    "X_train_text = train_data[\"text_preprocessed\"].values\n",
    "y_train = train_data[\"class_label\"].values\n",
    "\n",
    "X_val_text = val_data[\"text_preprocessed\"].values\n",
    "y_val = val_data[\"class_label\"].values\n",
    "\n",
    "X_test_text = test_data[\"text_preprocessed\"].values\n",
    "y_test = test_data[\"class_label\"].values"
   ]
  },
  {
   "cell_type": "markdown",
   "metadata": {},
   "source": [
    "## Using Tf-Idf, Unigrams + Bigrams\n",
    "### Feature Selection, 134 Features (min_df = 0.15)"
   ]
  },
  {
   "cell_type": "code",
   "execution_count": null,
   "metadata": {},
   "outputs": [],
   "source": [
    "print('--------------------TF-IDF--------------------')\n",
    "\n",
    "tfidf_vectorizer = TfidfVectorizer(stop_words='english', ngram_range=(1,2), min_df=0.15)\n",
    "tfidf_vectorizer.fit(X_train_text)\n",
    "\n",
    "X_train = tfidf_vectorizer.transform(X_train_text)\n",
    "X_val = tfidf_vectorizer.transform(X_val_text)\n",
    "X_test = tfidf_vectorizer.transform(X_test_text)\n",
    "\n",
    "print(f'TF-IDF Model with min_df=0.15')\n",
    "svm_clf.fit(X_train, y_train)\n",
    "num_features = len(tfidf_vectorizer.get_feature_names())\n",
    "print(num_features)\n",
    "\n",
    "#Validation Data\n",
    "print('Testing with validation data:')\n",
    "val_pred = svm_clf.predict(X_val)\n",
    "print(classification_report(y_val, val_pred))\n",
    "print(\"------------------------------------------\")\n",
    "\n",
    "# Test Data\n",
    "print('Testing using test data:')\n",
    "test_pred = svm_clf.predict(X_test)\n",
    "report = classification_report(y_test, test_pred)\n",
    "print(report)\n",
    "print(\"------------------------------------------\")\n",
    "print(\"------------------------------------------\")"
   ]
  },
  {
   "cell_type": "markdown",
   "metadata": {},
   "source": [
    "### Feature Selection, 3k Features (min_df = 0.01)"
   ]
  },
  {
   "cell_type": "code",
   "execution_count": null,
   "metadata": {},
   "outputs": [],
   "source": [
    "print('--------------------TF-IDF--------------------')\n",
    "\n",
    "tfidf_vectorizer = TfidfVectorizer(stop_words='english', ngram_range=(1,2), min_df=0.01)\n",
    "tfidf_vectorizer.fit(X_train_text)\n",
    "\n",
    "X_train = tfidf_vectorizer.transform(X_train_text)\n",
    "X_val = tfidf_vectorizer.transform(X_val_text)\n",
    "X_test = tfidf_vectorizer.transform(X_test_text)\n",
    "\n",
    "print(f'TF-IDF Model with min_df=0.01')\n",
    "svm_clf.fit(X_train, y_train)\n",
    "num_features = len(tfidf_vectorizer.get_feature_names())\n",
    "print(num_features)\n",
    "# tfidf_numfeatures.append(num_features)\n",
    "\n",
    "#Validation Data\n",
    "print('Testing with validation data:')\n",
    "val_pred = svm_clf.predict(X_val)\n",
    "print(classification_report(y_val, val_pred))\n",
    "print(\"------------------------------------------\")\n",
    "\n",
    "# Test Data\n",
    "print('Testing using test data:')\n",
    "test_pred = svm_clf.predict(X_test)\n",
    "report = classification_report(y_test, test_pred)\n",
    "print(report)\n",
    "print(\"------------------------------------------\")\n",
    "print(\"------------------------------------------\")"
   ]
  },
  {
   "cell_type": "markdown",
   "metadata": {},
   "source": [
    "### All Added Features, 134 Features (min_df = 0.15)"
   ]
  },
  {
   "cell_type": "code",
   "execution_count": null,
   "metadata": {},
   "outputs": [],
   "source": [
    "# Initialise TfidfVectorizer with min_df = 0.15 as per feature selection\n",
    "tfidf_vectorizer = TfidfVectorizer(analyzer='word', stop_words='english', ngram_range=(1,2), min_df=0.15)\n",
    "\n",
    "# Create mapper object to combine added features and tfidf word vectors\n",
    "mapper = DataFrameMapper([\n",
    "    (['char_count', 'word_count', 'sentence_count', 'prop_unique_words',\n",
    "    'avg_sentence_length', 'prop_punctuations', 'prop_stopwords',\n",
    "    'prop_words_in_quotes', 'prop_nouns', 'prop_verbs', 'prop_adjectives',\n",
    "    'prop_discourse_relations', 'textblob_sentiment'], None), \n",
    "    ('text_preprocessed', tfidf_vectorizer)\n",
    "])\n",
    "\n",
    "# fit_transform mapper on train data with added features and transform test data with added features\n",
    "X_train_added_features = mapper.fit_transform(train_data)\n",
    "X_test_added_features = mapper.transform(test_data)\n",
    "\n",
    "svm_clf.fit(X_train_added_features, y_train)\n",
    "y_pred = svm_clf.predict(X_test_added_features)\n",
    "print(classification_report(y_test, y_pred))"
   ]
  },
  {
   "cell_type": "markdown",
   "metadata": {},
   "source": [
    "### All Added Features, 3k Features (min_df = 0.01)"
   ]
  },
  {
   "cell_type": "code",
   "execution_count": null,
   "metadata": {},
   "outputs": [],
   "source": [
    "# Initialise TfidfVectorizer with min_df = 0.01 as per feature selection\n",
    "tfidf_vectorizer = TfidfVectorizer(analyzer='word', stop_words='english', ngram_range=(1,2), min_df=0.01)\n",
    "\n",
    "# Create mapper object to combine added features and tfidf word vectors\n",
    "mapper = DataFrameMapper([\n",
    "    (['char_count', 'word_count', 'sentence_count', 'prop_unique_words',\n",
    "    'avg_sentence_length', 'prop_punctuations', 'prop_stopwords',\n",
    "    'prop_words_in_quotes', 'prop_nouns', 'prop_verbs', 'prop_adjectives',\n",
    "    'prop_discourse_relations', 'textblob_sentiment'], None), \n",
    "    ('text_preprocessed', tfidf_vectorizer)\n",
    "])\n",
    "\n",
    "# fit_transform mapper on train data with added features and transform test data with added features\n",
    "X_train_added_features = mapper.fit_transform(train_data)\n",
    "X_test_added_features = mapper.transform(test_data)\n",
    "\n",
    "svm_clf.fit(X_train_added_features, y_train)\n",
    "y_pred = svm_clf.predict(X_test_added_features)\n",
    "print(classification_report(y_test, y_pred))"
   ]
  },
  {
   "cell_type": "markdown",
   "metadata": {},
   "source": [
    "### Selected Added Features, 134 Features (min_df = 0.15)"
   ]
  },
  {
   "cell_type": "code",
   "execution_count": null,
   "metadata": {},
   "outputs": [],
   "source": [
    "tfidf_vectorizer = TfidfVectorizer(analyzer='word', stop_words='english', ngram_range=(1,2), min_df=0.15)\n",
    "\n",
    "# Create mapper object to combine added features and tfidf word vectors\n",
    "mapper = DataFrameMapper([\n",
    "    (['char_count', 'word_count', 'prop_unique_words', 'avg_sentence_length', 'prop_punctuations', 'prop_stopwords', 'prop_nouns'], None), \n",
    "    ('text_preprocessed', tfidf_vectorizer)\n",
    "])\n",
    "\n",
    "# fit_transform mapper on train data with added features and transform test data with added features\n",
    "X_train_added_features = mapper.fit_transform(train_data)\n",
    "X_test_added_features = mapper.transform(test_data)\n",
    "\n",
    "svm_clf.fit(X_train_added_features, y_train)\n",
    "y_pred = svm_clf.predict(X_test_added_features)\n",
    "print(classification_report(y_test, y_pred))"
   ]
  },
  {
   "cell_type": "markdown",
   "metadata": {},
   "source": [
    "### Selected Added Features, 3k Features (min_df = 0.01)"
   ]
  },
  {
   "cell_type": "code",
   "execution_count": null,
   "metadata": {},
   "outputs": [],
   "source": [
    "tfidf_vectorizer = TfidfVectorizer(analyzer='word', stop_words='english', ngram_range=(1,2), min_df=0.01)\n",
    "\n",
    "# Create mapper object to combine added features and tfidf word vectors\n",
    "mapper = DataFrameMapper([\n",
    "    (['char_count', 'word_count', 'prop_unique_words', 'avg_sentence_length', 'prop_punctuations', 'prop_stopwords', 'prop_nouns'], None), \n",
    "    ('text_preprocessed', tfidf_vectorizer)\n",
    "])\n",
    "\n",
    "# fit_transform mapper on train data with added features and transform test data with added features\n",
    "X_train_added_features = mapper.fit_transform(train_data)\n",
    "X_test_added_features = mapper.transform(test_data)\n",
    "\n",
    "svm_clf.fit(X_train_added_features, y_train)\n",
    "y_pred = svm_clf.predict(X_test_added_features)\n",
    "print(classification_report(y_test, y_pred))"
   ]
  },
  {
   "cell_type": "markdown",
   "metadata": {},
   "source": [
    "# Fine-Tuning the Model for Feature Selection (Unigram + Bigram)"
   ]
  },
  {
   "cell_type": "code",
   "execution_count": null,
   "metadata": {},
   "outputs": [],
   "source": [
    "# fine tuning parameters\n",
    "params = {'C': [0.001, 0.01, 0.1, 1, 10, 100, 1000] }\n",
    "\n",
    "# initialise Decision Tree\n",
    "svm_clf = GridSearchCV(LinearSVC(random_state=1, max_iter=1000000), param_grid=params)"
   ]
  },
  {
   "cell_type": "markdown",
   "metadata": {},
   "source": [
    "## Using Tf-Idf \n",
    "### Feature selection, 134 Features (min_df = 0.15)"
   ]
  },
  {
   "cell_type": "code",
   "execution_count": null,
   "metadata": {},
   "outputs": [],
   "source": [
    "print('--------------------TF-IDF--------------------')\n",
    "\n",
    "tfidf_vectorizer = TfidfVectorizer(stop_words='english', ngram_range=(1,2), min_df=0.15)\n",
    "tfidf_vectorizer.fit(X_train_text)\n",
    "\n",
    "X_train = tfidf_vectorizer.transform(X_train_text)\n",
    "X_val = tfidf_vectorizer.transform(X_val_text)\n",
    "X_test = tfidf_vectorizer.transform(X_test_text)\n",
    "\n",
    "print(f'TF-IDF Model with min_df=0.15')\n",
    "svm_clf.fit(X_train, y_train)\n",
    "num_features = len(tfidf_vectorizer.get_feature_names())\n",
    "print(num_features)\n",
    "\n",
    "#Validation Data\n",
    "print('Testing with validation data:')\n",
    "val_pred = svm_clf.predict(X_val)\n",
    "print(classification_report(y_val, val_pred))\n",
    "print(\"------------------------------------------\")\n",
    "\n",
    "print('Best Parameters : ',svm_clf.best_params_)\n",
    "\n",
    "# Test Data\n",
    "print('Testing using test data:')\n",
    "test_pred = svm_clf.predict(X_test)\n",
    "report = classification_report(y_test, test_pred)\n",
    "print(report)\n",
    "print(\"------------------------------------------\")\n",
    "print(\"------------------------------------------\")\n",
    "\n",
    "print('Best Parameters : ',svm_clf.best_params_)"
   ]
  },
  {
   "cell_type": "markdown",
   "metadata": {},
   "source": [
    "### Feature selection, 3k Features (min_df = 0.01)"
   ]
  },
  {
   "cell_type": "code",
   "execution_count": null,
   "metadata": {},
   "outputs": [],
   "source": [
    "print('--------------------TF-IDF--------------------')\n",
    "\n",
    "tfidf_vectorizer = TfidfVectorizer(stop_words='english', ngram_range=(1,2), min_df=0.01)\n",
    "tfidf_vectorizer.fit(X_train_text)\n",
    "\n",
    "X_train = tfidf_vectorizer.transform(X_train_text)\n",
    "X_val = tfidf_vectorizer.transform(X_val_text)\n",
    "X_test = tfidf_vectorizer.transform(X_test_text)\n",
    "\n",
    "print(f'TF-IDF Model with min_df=0.01')\n",
    "svm_clf.fit(X_train, y_train)\n",
    "num_features = len(tfidf_vectorizer.get_feature_names())\n",
    "print(num_features)\n",
    "\n",
    "#Validation Data\n",
    "print('Testing with validation data:')\n",
    "val_pred = svm_clf.predict(X_val)\n",
    "print(classification_report(y_val, val_pred))\n",
    "print(\"------------------------------------------\")\n",
    "\n",
    "print('Best Parameters : ',svm_clf.best_params_)\n",
    "\n",
    "# Test Data\n",
    "print('Testing using test data:')\n",
    "test_pred = svm_clf.predict(X_test)\n",
    "report = classification_report(y_test, test_pred)\n",
    "print(report)\n",
    "print(\"------------------------------------------\")\n",
    "print(\"------------------------------------------\")\n",
    "\n",
    "print('Best Parameters : ',svm_clf.best_params_)"
   ]
  },
  {
   "cell_type": "markdown",
   "metadata": {},
   "source": [
    "### All Added Features, 134 Features (min_df = 0.15)"
   ]
  },
  {
   "cell_type": "code",
   "execution_count": null,
   "metadata": {},
   "outputs": [],
   "source": [
    "# Initialise TfidfVectorizer with min_df = 0.15 as per feature selection\n",
    "tfidf_vectorizer = TfidfVectorizer(analyzer='word', stop_words='english', ngram_range=(1,2), min_df=0.15)\n",
    "\n",
    "# Create mapper object to combine added features and tfidf word vectors\n",
    "mapper = DataFrameMapper([\n",
    "    (['char_count', 'word_count', 'sentence_count', 'prop_unique_words',\n",
    "    'avg_sentence_length', 'prop_punctuations', 'prop_stopwords',\n",
    "    'prop_words_in_quotes', 'prop_nouns', 'prop_verbs', 'prop_adjectives',\n",
    "    'prop_discourse_relations', 'textblob_sentiment'], None), \n",
    "    ('text_preprocessed', tfidf_vectorizer)\n",
    "])\n",
    "\n",
    "# fit_transform mapper on train data with added features and transform test data with added features\n",
    "X_train_added_features = mapper.fit_transform(train_data)\n",
    "X_test_added_features = mapper.transform(test_data)\n",
    "\n",
    "svm_clf.fit(X_train_added_features, y_train)\n",
    "y_pred = svm_clf.predict(X_test_added_features)\n",
    "print(classification_report(y_test, y_pred))\n",
    "print(\"------------------------------------------\")\n",
    "print(\"------------------------------------------\")\n",
    "\n",
    "print('Best Parameters : ',svm_clf.best_params_)"
   ]
  },
  {
   "cell_type": "markdown",
   "metadata": {},
   "source": [
    "### All Added Features, 3k Features (min_df = 0.01)"
   ]
  },
  {
   "cell_type": "code",
   "execution_count": null,
   "metadata": {},
   "outputs": [],
   "source": [
    "# Initialise TfidfVectorizer with min_df = 0.01 as per feature selection\n",
    "tfidf_vectorizer = TfidfVectorizer(analyzer='word', stop_words='english', ngram_range=(1,2), min_df=0.01)\n",
    "\n",
    "# Create mapper object to combine added features and tfidf word vectors\n",
    "mapper = DataFrameMapper([\n",
    "    (['char_count', 'word_count', 'sentence_count', 'prop_unique_words',\n",
    "    'avg_sentence_length', 'prop_punctuations', 'prop_stopwords',\n",
    "    'prop_words_in_quotes', 'prop_nouns', 'prop_verbs', 'prop_adjectives',\n",
    "    'prop_discourse_relations', 'textblob_sentiment'], None), \n",
    "    ('text_preprocessed', tfidf_vectorizer)\n",
    "])\n",
    "\n",
    "# fit_transform mapper on train data with added features and transform test data with added features\n",
    "X_train_added_features = mapper.fit_transform(train_data)\n",
    "X_test_added_features = mapper.transform(test_data)\n",
    "\n",
    "svm_clf.fit(X_train_added_features, y_train)\n",
    "y_pred = svm_clf.predict(X_test_added_features)\n",
    "print(classification_report(y_test, y_pred))\n",
    "print(\"------------------------------------------\")\n",
    "print(\"------------------------------------------\")\n",
    "\n",
    "print('Best Parameters : ',svm_clf.best_params_)"
   ]
  },
  {
   "cell_type": "markdown",
   "metadata": {},
   "source": [
    "### Selected Added Features, 134 Features (min_df = 0.15)"
   ]
  },
  {
   "cell_type": "code",
   "execution_count": null,
   "metadata": {},
   "outputs": [],
   "source": [
    "tfidf_vectorizer = TfidfVectorizer(analyzer='word', stop_words='english', ngram_range=(1,2), min_df=0.15)\n",
    "\n",
    "# Create mapper object to combine added features and tfidf word vectors\n",
    "mapper = DataFrameMapper([\n",
    "    (['char_count', 'word_count', 'prop_unique_words', 'avg_sentence_length', 'prop_punctuations', 'prop_stopwords', 'prop_nouns'], None), \n",
    "    ('text_preprocessed', tfidf_vectorizer)\n",
    "])\n",
    "\n",
    "# fit_transform mapper on train data with added features and transform test data with added features\n",
    "X_train_added_features = mapper.fit_transform(train_data)\n",
    "X_test_added_features = mapper.transform(test_data)\n",
    "\n",
    "svm_clf.fit(X_train_added_features, y_train)\n",
    "y_pred = svm_clf.predict(X_test_added_features)\n",
    "print(classification_report(y_test, y_pred))\n",
    "print(\"------------------------------------------\")\n",
    "print(\"------------------------------------------\")\n",
    "\n",
    "print('Best Parameters : ',svm_clf.best_params_)"
   ]
  },
  {
   "cell_type": "markdown",
   "metadata": {},
   "source": [
    "### Selected Added Features, 3k Features (min_df = 0.01)"
   ]
  },
  {
   "cell_type": "code",
   "execution_count": null,
   "metadata": {},
   "outputs": [],
   "source": [
    "tfidf_vectorizer = TfidfVectorizer(analyzer='word', stop_words='english', ngram_range=(1,2), min_df=0.01)\n",
    "\n",
    "# Create mapper object to combine added features and tfidf word vectors\n",
    "mapper = DataFrameMapper([\n",
    "    (['char_count', 'word_count', 'prop_unique_words', 'avg_sentence_length', 'prop_punctuations', 'prop_stopwords', 'prop_nouns'], None), \n",
    "    ('text_preprocessed', tfidf_vectorizer)\n",
    "])\n",
    "\n",
    "# fit_transform mapper on train data with added features and transform test data with added features\n",
    "X_train_added_features = mapper.fit_transform(train_data)\n",
    "X_test_added_features = mapper.transform(test_data)\n",
    "\n",
    "svm_clf.fit(X_train_added_features, y_train)\n",
    "y_pred = svm_clf.predict(X_test_added_features)\n",
    "print(classification_report(y_test, y_pred))\n",
    "print(\"------------------------------------------\")\n",
    "print(\"------------------------------------------\")\n",
    "\n",
    "print('Best Parameters : ',svm_clf.best_params_)"
   ]
  }
 ],
 "metadata": {
  "kernelspec": {
   "display_name": "Python 3",
   "language": "python",
   "name": "python3"
  },
  "language_info": {
   "codemirror_mode": {
    "name": "ipython",
    "version": 3
   },
   "file_extension": ".py",
   "mimetype": "text/x-python",
   "name": "python",
   "nbconvert_exporter": "python",
   "pygments_lexer": "ipython3",
   "version": "3.7.3"
  }
 },
 "nbformat": 4,
 "nbformat_minor": 2
}
