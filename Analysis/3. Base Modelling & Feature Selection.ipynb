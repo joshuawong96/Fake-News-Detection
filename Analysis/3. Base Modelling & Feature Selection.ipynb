{
 "cells": [
  {
   "cell_type": "code",
   "execution_count": 78,
   "metadata": {},
   "outputs": [],
   "source": [
    "# Packages for data \n",
    "import pandas as pd\n",
    "import numpy as np\n",
    "import pickle\n",
    "from collections import Counter\n",
    "\n",
    "# Packages for machine learning modelling\n",
    "from sklearn.decomposition import TruncatedSVD\n",
    "from sklearn.model_selection import train_test_split\n",
    "from sklearn.feature_extraction.text import CountVectorizer, TfidfVectorizer\n",
    "from sklearn.naive_bayes import BernoulliNB\n",
    "\n",
    "from sklearn.metrics import classification_report,confusion_matrix, ConfusionMatrixDisplay, accuracy_score\n",
    "# precision_score, recall_score, f1_score\n",
    "\n",
    "from sklearn_pandas import DataFrameMapper\n",
    "# from sklearn.pipeline import Pipeline\n",
    "# from sklearn.pipeline import FeatureUnion\n",
    "\n",
    "# Packages for sentiment analysis\n",
    "from textblob import TextBlob\n",
    "\n",
    "\n",
    "# Packages for visualisation \n",
    "import matplotlib.pyplot as plt\n",
    "\n",
    "# Packages for NLP\n",
    "import nltk\n",
    "\n",
    "from sklearn.metrics import precision_recall_fscore_support\n",
    "\n",
    "import matplotlib.pyplot as plt"
   ]
  },
  {
   "cell_type": "markdown",
   "metadata": {},
   "source": [
    "# Reading the data"
   ]
  },
  {
   "cell_type": "code",
   "execution_count": 3,
   "metadata": {},
   "outputs": [],
   "source": [
    "train_data = pd.read_csv(\"../Data/Combined data/train_data.csv\", index_col=1)\n",
    "val_data = pd.read_csv(\"../Data/Combined data/val_data.csv\", index_col=1)\n",
    "test_data = pd.read_csv(\"../Data/Combined data/test_data.csv\", index_col=1)"
   ]
  },
  {
   "cell_type": "code",
   "execution_count": 4,
   "metadata": {},
   "outputs": [],
   "source": [
    "X_train_text = train_data[\"text_preprocessed\"].values\n",
    "y_train = train_data[\"class_label\"].values\n",
    "\n",
    "X_val_text = val_data[\"text_preprocessed\"].values\n",
    "y_val = val_data[\"class_label\"].values\n",
    "\n",
    "X_test_text = test_data[\"text_preprocessed\"].values\n",
    "y_test = test_data[\"class_label\"].values"
   ]
  },
  {
   "cell_type": "markdown",
   "metadata": {},
   "source": [
    "# Creating the Base Model using Naive Bayes"
   ]
  },
  {
   "cell_type": "markdown",
   "metadata": {},
   "source": [
    "## Using CountVectorizer"
   ]
  },
  {
   "cell_type": "code",
   "execution_count": 14,
   "metadata": {},
   "outputs": [],
   "source": [
    "vectorizer = CountVectorizer(stop_words='english', ngram_range=(1,1))\n",
    "vectorizer.fit(X_train_text)\n",
    "\n",
    "X_train = vectorizer.transform(X_train_text)\n",
    "X_val = vectorizer.transform(X_val_text)\n",
    "X_test = vectorizer.transform(X_test_text)"
   ]
  },
  {
   "cell_type": "code",
   "execution_count": 27,
   "metadata": {},
   "outputs": [
    {
     "name": "stdout",
     "output_type": "stream",
     "text": [
      "number of features used: 238266\n"
     ]
    }
   ],
   "source": [
    "print(\"number of features used:\", len(vectorizer.get_feature_names()))"
   ]
  },
  {
   "cell_type": "code",
   "execution_count": 29,
   "metadata": {},
   "outputs": [
    {
     "name": "stdout",
     "output_type": "stream",
     "text": [
      "<class 'scipy.sparse.csr.csr_matrix'>\n"
     ]
    }
   ],
   "source": [
    "# Sparse vector of frequency of each word appearing in a text article\n",
    "print(type(X_train))"
   ]
  },
  {
   "cell_type": "code",
   "execution_count": 20,
   "metadata": {},
   "outputs": [
    {
     "data": {
      "text/plain": [
       "BernoulliNB()"
      ]
     },
     "execution_count": 20,
     "metadata": {},
     "output_type": "execute_result"
    }
   ],
   "source": [
    "naive_bayes_clf = BernoulliNB()\n",
    "naive_bayes_clf.fit(X_train, y_train)"
   ]
  },
  {
   "cell_type": "code",
   "execution_count": 28,
   "metadata": {},
   "outputs": [
    {
     "name": "stdout",
     "output_type": "stream",
     "text": [
      "CountVectorizer Model with unigram\n",
      "Testing with validation data:\n",
      "              precision    recall  f1-score   support\n",
      "\n",
      "           0       0.89      0.90      0.90      6361\n",
      "           1       0.90      0.89      0.90      6659\n",
      "\n",
      "    accuracy                           0.90     13020\n",
      "   macro avg       0.90      0.90      0.90     13020\n",
      "weighted avg       0.90      0.90      0.90     13020\n",
      "\n",
      "------------------------------------------\n",
      "Testing using test data:\n",
      "              precision    recall  f1-score   support\n",
      "\n",
      "           0       0.90      0.90      0.90      6361\n",
      "           1       0.90      0.91      0.91      6660\n",
      "\n",
      "    accuracy                           0.90     13021\n",
      "   macro avg       0.90      0.90      0.90     13021\n",
      "weighted avg       0.90      0.90      0.90     13021\n",
      "\n",
      "------------------------------------------\n",
      "------------------------------------------\n",
      "CountVectorizer Model with unigram and bigram\n",
      "Testing with validation data:\n",
      "              precision    recall  f1-score   support\n",
      "\n",
      "           0       0.95      0.88      0.91      6361\n",
      "           1       0.89      0.96      0.92      6659\n",
      "\n",
      "    accuracy                           0.92     13020\n",
      "   macro avg       0.92      0.92      0.92     13020\n",
      "weighted avg       0.92      0.92      0.92     13020\n",
      "\n",
      "------------------------------------------\n",
      "Testing using test data:\n",
      "              precision    recall  f1-score   support\n",
      "\n",
      "           0       0.96      0.87      0.91      6361\n",
      "           1       0.89      0.96      0.92      6660\n",
      "\n",
      "    accuracy                           0.92     13021\n",
      "   macro avg       0.92      0.92      0.92     13021\n",
      "weighted avg       0.92      0.92      0.92     13021\n",
      "\n",
      "------------------------------------------\n",
      "------------------------------------------\n",
      "CountVectorizer Model with bigram\n",
      "Testing with validation data:\n",
      "              precision    recall  f1-score   support\n",
      "\n",
      "           0       0.96      0.85      0.91      6361\n",
      "           1       0.87      0.97      0.92      6659\n",
      "\n",
      "    accuracy                           0.91     13020\n",
      "   macro avg       0.92      0.91      0.91     13020\n",
      "weighted avg       0.92      0.91      0.91     13020\n",
      "\n",
      "------------------------------------------\n",
      "Testing using test data:\n",
      "              precision    recall  f1-score   support\n",
      "\n",
      "           0       0.96      0.84      0.90      6361\n",
      "           1       0.87      0.97      0.92      6660\n",
      "\n",
      "    accuracy                           0.91     13021\n",
      "   macro avg       0.92      0.91      0.91     13021\n",
      "weighted avg       0.91      0.91      0.91     13021\n",
      "\n",
      "------------------------------------------\n",
      "------------------------------------------\n"
     ]
    }
   ],
   "source": [
    "count_vectorizer_params = {'unigram':(1,1), 'unigram and bigram': (1,2), 'bigram':(2,2)}\n",
    "\n",
    "for ngram, values in count_vectorizer_params.items():\n",
    "    vectorizer = CountVectorizer(stop_words='english', ngram_range=values)\n",
    "    vectorizer.fit(X_train_text)\n",
    "\n",
    "    X_train = vectorizer.transform(X_train_text)\n",
    "    X_val = vectorizer.transform(X_val_text)\n",
    "    X_test = vectorizer.transform(X_test_text)\n",
    "\n",
    "    print(f'CountVectorizer Model with {ngram}')\n",
    "    naive_bayes_clf.fit(X_train, y_train)\n",
    "\n",
    "    #Validation Data\n",
    "    print('Testing with validation data:')\n",
    "    val_pred = naive_bayes_clf.predict(X_val)\n",
    "    print(classification_report(y_val, val_pred))\n",
    "    print(\"------------------------------------------\")\n",
    "\n",
    "    # Test Data\n",
    "    print('Testing using test data:')\n",
    "    test_pred = naive_bayes_clf.predict(X_test)\n",
    "    print(classification_report(y_test, test_pred))\n",
    "    print(\"------------------------------------------\")\n",
    "    print(\"------------------------------------------\")"
   ]
  },
  {
   "cell_type": "markdown",
   "metadata": {},
   "source": [
    "## Using Tf-Idf"
   ]
  },
  {
   "cell_type": "code",
   "execution_count": 25,
   "metadata": {},
   "outputs": [
    {
     "name": "stdout",
     "output_type": "stream",
     "text": [
      "Model with unigram\n",
      "Testing using validation data:\n",
      "              precision    recall  f1-score   support\n",
      "\n",
      "           0       0.89      0.90      0.90      6361\n",
      "           1       0.90      0.89      0.90      6659\n",
      "\n",
      "    accuracy                           0.90     13020\n",
      "   macro avg       0.90      0.90      0.90     13020\n",
      "weighted avg       0.90      0.90      0.90     13020\n",
      "\n",
      "------------------------------------------\n",
      "Testing using test data:\n",
      "              precision    recall  f1-score   support\n",
      "\n",
      "           0       0.90      0.90      0.90      6361\n",
      "           1       0.90      0.91      0.91      6660\n",
      "\n",
      "    accuracy                           0.90     13021\n",
      "   macro avg       0.90      0.90      0.90     13021\n",
      "weighted avg       0.90      0.90      0.90     13021\n",
      "\n",
      "------------------------------------------\n",
      "------------------------------------------\n",
      "Model with unigram and bigram\n",
      "Testing using validation data:\n",
      "              precision    recall  f1-score   support\n",
      "\n",
      "           0       0.95      0.88      0.91      6361\n",
      "           1       0.89      0.96      0.92      6659\n",
      "\n",
      "    accuracy                           0.92     13020\n",
      "   macro avg       0.92      0.92      0.92     13020\n",
      "weighted avg       0.92      0.92      0.92     13020\n",
      "\n",
      "------------------------------------------\n",
      "Testing using test data:\n",
      "              precision    recall  f1-score   support\n",
      "\n",
      "           0       0.96      0.87      0.91      6361\n",
      "           1       0.89      0.96      0.92      6660\n",
      "\n",
      "    accuracy                           0.92     13021\n",
      "   macro avg       0.92      0.92      0.92     13021\n",
      "weighted avg       0.92      0.92      0.92     13021\n",
      "\n",
      "------------------------------------------\n",
      "------------------------------------------\n",
      "Model with bigram\n",
      "Testing using validation data:\n",
      "              precision    recall  f1-score   support\n",
      "\n",
      "           0       0.96      0.85      0.91      6361\n",
      "           1       0.87      0.97      0.92      6659\n",
      "\n",
      "    accuracy                           0.91     13020\n",
      "   macro avg       0.92      0.91      0.91     13020\n",
      "weighted avg       0.92      0.91      0.91     13020\n",
      "\n",
      "------------------------------------------\n",
      "Testing using test data:\n",
      "              precision    recall  f1-score   support\n",
      "\n",
      "           0       0.96      0.84      0.90      6361\n",
      "           1       0.87      0.97      0.92      6660\n",
      "\n",
      "    accuracy                           0.91     13021\n",
      "   macro avg       0.92      0.91      0.91     13021\n",
      "weighted avg       0.91      0.91      0.91     13021\n",
      "\n",
      "------------------------------------------\n",
      "------------------------------------------\n"
     ]
    }
   ],
   "source": [
    "tfidf_params = {'unigram':(1,1), 'unigram and bigram': (1,2), 'bigram':(2,2)}\n",
    "\n",
    "for ngram, values in tfidf_params.items():\n",
    "    tfidf_vectorizer = TfidfVectorizer(analyzer='word', stop_words='english', ngram_range=values)\n",
    "    tfidf_vectorizer.fit(X_train_text)\n",
    "\n",
    "    X_train = tfidf_vectorizer.transform(X_train_text)\n",
    "    X_val = tfidf_vectorizer.transform(X_val_text)\n",
    "    X_test = tfidf_vectorizer.transform(X_test_text)\n",
    "\n",
    "    naive_bayes_clf = BernoulliNB()\n",
    "    print(f\"Model with {ngram}\")\n",
    "    naive_bayes_clf.fit(X_train, y_train)\n",
    "\n",
    "    # Validation Data\n",
    "    print(\"Testing using validation data:\")    \n",
    "    y_val_pred = naive_bayes_clf.predict(X_val)\n",
    "    print(classification_report(y_val, y_val_pred))\n",
    "    print(\"------------------------------------------\")\n",
    "\n",
    "    # Test Data\n",
    "    print(\"Testing using test data:\")\n",
    "    y_test_pred = naive_bayes_clf.predict(X_test)\n",
    "    print(classification_report(y_test, y_test_pred))\n",
    "    print(\"------------------------------------------\")\n",
    "    print(\"------------------------------------------\")"
   ]
  },
  {
   "cell_type": "markdown",
   "metadata": {},
   "source": [
    "# Feature Selection"
   ]
  },
  {
   "cell_type": "code",
   "execution_count": 72,
   "metadata": {},
   "outputs": [],
   "source": [
    "def get_weighted_average(report):\n",
    "    '''\n",
    "    Takes in a classification report object and returns the weighted average precision, recall and f1 score.\n",
    "    '''\n",
    "    lines = report.split('\\n')\n",
    "    lines2 = lines[7].split('   ')\n",
    "    # print(lines2)\n",
    "    precision = float(lines2[2][1:])\n",
    "    recall = float(lines2[4])\n",
    "    f1score = float(lines2[6])\n",
    "    # print('-->', precision)\n",
    "    # print('-->', recall)\n",
    "    # print('-->', f1score)\n",
    "    return precision, recall, f1score"
   ]
  },
  {
   "cell_type": "code",
   "execution_count": 73,
   "metadata": {},
   "outputs": [],
   "source": [
    "min_threshold_config = [0.0, 0.05, 0.1, 0.15, 0.2]\n",
    "max_threshold_config = [0.8, 0.85, 0.9, 0.95, 1.0]\n",
    "\n",
    "# Create lists to save values for plotting later\n",
    "countvectorizer_numfeatures = []\n",
    "countvectorizer_precision = []\n",
    "countvectorizer_recall = []\n",
    "countvectorizer_f1score = []\n",
    "\n",
    "tfidf_numfeatures = []\n",
    "tfidf_precision = []\n",
    "tfidf_recall = []\n",
    "tfidf_f1score = []"
   ]
  },
  {
   "cell_type": "markdown",
   "metadata": {},
   "source": [
    "## CountVectorizer"
   ]
  },
  {
   "cell_type": "markdown",
   "metadata": {},
   "source": [
    "### Try 1 with various configurations"
   ]
  },
  {
   "cell_type": "code",
   "execution_count": 34,
   "metadata": {},
   "outputs": [
    {
     "name": "stdout",
     "output_type": "stream",
     "text": [
      "--------------------CountVectorizer--------------------\n",
      "CountVectorizer Model with min_df=0.0, max_df=0.8\n",
      "4540301\n",
      "Testing using test data:\n",
      "              precision    recall  f1-score   support\n",
      "\n",
      "           0       0.96      0.87      0.91      6361\n",
      "           1       0.89      0.96      0.92      6660\n",
      "\n",
      "    accuracy                           0.92     13021\n",
      "   macro avg       0.92      0.92      0.92     13021\n",
      "weighted avg       0.92      0.92      0.92     13021\n",
      "\n",
      "------------------------------------------\n",
      "------------------------------------------\n",
      "CountVectorizer Model with min_df=0.0, max_df=0.85\n",
      "4540301\n",
      "Testing using test data:\n",
      "              precision    recall  f1-score   support\n",
      "\n",
      "           0       0.96      0.87      0.91      6361\n",
      "           1       0.89      0.96      0.92      6660\n",
      "\n",
      "    accuracy                           0.92     13021\n",
      "   macro avg       0.92      0.92      0.92     13021\n",
      "weighted avg       0.92      0.92      0.92     13021\n",
      "\n",
      "------------------------------------------\n",
      "------------------------------------------\n",
      "CountVectorizer Model with min_df=0.0, max_df=0.9\n",
      "4540301\n",
      "Testing using test data:\n",
      "              precision    recall  f1-score   support\n",
      "\n",
      "           0       0.96      0.87      0.91      6361\n",
      "           1       0.89      0.96      0.92      6660\n",
      "\n",
      "    accuracy                           0.92     13021\n",
      "   macro avg       0.92      0.92      0.92     13021\n",
      "weighted avg       0.92      0.92      0.92     13021\n",
      "\n",
      "------------------------------------------\n",
      "------------------------------------------\n",
      "CountVectorizer Model with min_df=0.0, max_df=0.95\n",
      "4540301\n",
      "Testing using test data:\n",
      "              precision    recall  f1-score   support\n",
      "\n",
      "           0       0.96      0.87      0.91      6361\n",
      "           1       0.89      0.96      0.92      6660\n",
      "\n",
      "    accuracy                           0.92     13021\n",
      "   macro avg       0.92      0.92      0.92     13021\n",
      "weighted avg       0.92      0.92      0.92     13021\n",
      "\n",
      "------------------------------------------\n",
      "------------------------------------------\n",
      "CountVectorizer Model with min_df=0.0, max_df=1.0\n",
      "4540301\n",
      "Testing using test data:\n",
      "              precision    recall  f1-score   support\n",
      "\n",
      "           0       0.96      0.87      0.91      6361\n",
      "           1       0.89      0.96      0.92      6660\n",
      "\n",
      "    accuracy                           0.92     13021\n",
      "   macro avg       0.92      0.92      0.92     13021\n",
      "weighted avg       0.92      0.92      0.92     13021\n",
      "\n",
      "------------------------------------------\n",
      "------------------------------------------\n",
      "--------------------CountVectorizer--------------------\n",
      "CountVectorizer Model with min_df=0.05, max_df=0.8\n",
      "818\n",
      "Testing using test data:\n",
      "              precision    recall  f1-score   support\n",
      "\n",
      "           0       0.85      0.79      0.82      6361\n",
      "           1       0.81      0.86      0.84      6660\n",
      "\n",
      "    accuracy                           0.83     13021\n",
      "   macro avg       0.83      0.83      0.83     13021\n",
      "weighted avg       0.83      0.83      0.83     13021\n",
      "\n",
      "------------------------------------------\n",
      "------------------------------------------\n",
      "CountVectorizer Model with min_df=0.05, max_df=0.85\n",
      "818\n",
      "Testing using test data:\n",
      "              precision    recall  f1-score   support\n",
      "\n",
      "           0       0.85      0.79      0.82      6361\n",
      "           1       0.81      0.86      0.84      6660\n",
      "\n",
      "    accuracy                           0.83     13021\n",
      "   macro avg       0.83      0.83      0.83     13021\n",
      "weighted avg       0.83      0.83      0.83     13021\n",
      "\n",
      "------------------------------------------\n",
      "------------------------------------------\n",
      "CountVectorizer Model with min_df=0.05, max_df=0.9\n",
      "818\n",
      "Testing using test data:\n",
      "              precision    recall  f1-score   support\n",
      "\n",
      "           0       0.85      0.79      0.82      6361\n",
      "           1       0.81      0.86      0.84      6660\n",
      "\n",
      "    accuracy                           0.83     13021\n",
      "   macro avg       0.83      0.83      0.83     13021\n",
      "weighted avg       0.83      0.83      0.83     13021\n",
      "\n",
      "------------------------------------------\n",
      "------------------------------------------\n",
      "CountVectorizer Model with min_df=0.05, max_df=0.95\n",
      "818\n",
      "Testing using test data:\n",
      "              precision    recall  f1-score   support\n",
      "\n",
      "           0       0.85      0.79      0.82      6361\n",
      "           1       0.81      0.86      0.84      6660\n",
      "\n",
      "    accuracy                           0.83     13021\n",
      "   macro avg       0.83      0.83      0.83     13021\n",
      "weighted avg       0.83      0.83      0.83     13021\n",
      "\n",
      "------------------------------------------\n",
      "------------------------------------------\n",
      "CountVectorizer Model with min_df=0.05, max_df=1.0\n",
      "818\n",
      "Testing using test data:\n",
      "              precision    recall  f1-score   support\n",
      "\n",
      "           0       0.85      0.79      0.82      6361\n",
      "           1       0.81      0.86      0.84      6660\n",
      "\n",
      "    accuracy                           0.83     13021\n",
      "   macro avg       0.83      0.83      0.83     13021\n",
      "weighted avg       0.83      0.83      0.83     13021\n",
      "\n",
      "------------------------------------------\n",
      "------------------------------------------\n",
      "--------------------CountVectorizer--------------------\n",
      "CountVectorizer Model with min_df=0.1, max_df=0.8\n",
      "316\n",
      "Testing using test data:\n",
      "              precision    recall  f1-score   support\n",
      "\n",
      "           0       0.84      0.82      0.83      6361\n",
      "           1       0.83      0.85      0.84      6660\n",
      "\n",
      "    accuracy                           0.84     13021\n",
      "   macro avg       0.84      0.84      0.84     13021\n",
      "weighted avg       0.84      0.84      0.84     13021\n",
      "\n",
      "------------------------------------------\n",
      "------------------------------------------\n",
      "CountVectorizer Model with min_df=0.1, max_df=0.85\n",
      "316\n",
      "Testing using test data:\n",
      "              precision    recall  f1-score   support\n",
      "\n",
      "           0       0.84      0.82      0.83      6361\n",
      "           1       0.83      0.85      0.84      6660\n",
      "\n",
      "    accuracy                           0.84     13021\n",
      "   macro avg       0.84      0.84      0.84     13021\n",
      "weighted avg       0.84      0.84      0.84     13021\n",
      "\n",
      "------------------------------------------\n",
      "------------------------------------------\n",
      "CountVectorizer Model with min_df=0.1, max_df=0.9\n",
      "316\n",
      "Testing using test data:\n",
      "              precision    recall  f1-score   support\n",
      "\n",
      "           0       0.84      0.82      0.83      6361\n",
      "           1       0.83      0.85      0.84      6660\n",
      "\n",
      "    accuracy                           0.84     13021\n",
      "   macro avg       0.84      0.84      0.84     13021\n",
      "weighted avg       0.84      0.84      0.84     13021\n",
      "\n",
      "------------------------------------------\n",
      "------------------------------------------\n",
      "CountVectorizer Model with min_df=0.1, max_df=0.95\n",
      "316\n",
      "Testing using test data:\n",
      "              precision    recall  f1-score   support\n",
      "\n",
      "           0       0.84      0.82      0.83      6361\n",
      "           1       0.83      0.85      0.84      6660\n",
      "\n",
      "    accuracy                           0.84     13021\n",
      "   macro avg       0.84      0.84      0.84     13021\n",
      "weighted avg       0.84      0.84      0.84     13021\n",
      "\n",
      "------------------------------------------\n",
      "------------------------------------------\n",
      "CountVectorizer Model with min_df=0.1, max_df=1.0\n",
      "316\n",
      "Testing using test data:\n",
      "              precision    recall  f1-score   support\n",
      "\n",
      "           0       0.84      0.82      0.83      6361\n",
      "           1       0.83      0.85      0.84      6660\n",
      "\n",
      "    accuracy                           0.84     13021\n",
      "   macro avg       0.84      0.84      0.84     13021\n",
      "weighted avg       0.84      0.84      0.84     13021\n",
      "\n",
      "------------------------------------------\n",
      "------------------------------------------\n",
      "--------------------CountVectorizer--------------------\n",
      "CountVectorizer Model with min_df=0.15, max_df=0.8\n",
      "134\n",
      "Testing using test data:\n",
      "              precision    recall  f1-score   support\n",
      "\n",
      "           0       0.85      0.86      0.85      6361\n",
      "           1       0.86      0.85      0.86      6660\n",
      "\n",
      "    accuracy                           0.85     13021\n",
      "   macro avg       0.85      0.85      0.85     13021\n",
      "weighted avg       0.85      0.85      0.85     13021\n",
      "\n",
      "------------------------------------------\n",
      "------------------------------------------\n",
      "CountVectorizer Model with min_df=0.15, max_df=0.85\n",
      "134\n",
      "Testing using test data:\n",
      "              precision    recall  f1-score   support\n",
      "\n",
      "           0       0.85      0.86      0.85      6361\n",
      "           1       0.86      0.85      0.86      6660\n",
      "\n",
      "    accuracy                           0.85     13021\n",
      "   macro avg       0.85      0.85      0.85     13021\n",
      "weighted avg       0.85      0.85      0.85     13021\n",
      "\n",
      "------------------------------------------\n",
      "------------------------------------------\n",
      "CountVectorizer Model with min_df=0.15, max_df=0.9\n",
      "134\n",
      "Testing using test data:\n",
      "              precision    recall  f1-score   support\n",
      "\n",
      "           0       0.85      0.86      0.85      6361\n",
      "           1       0.86      0.85      0.86      6660\n",
      "\n",
      "    accuracy                           0.85     13021\n",
      "   macro avg       0.85      0.85      0.85     13021\n",
      "weighted avg       0.85      0.85      0.85     13021\n",
      "\n",
      "------------------------------------------\n",
      "------------------------------------------\n",
      "CountVectorizer Model with min_df=0.15, max_df=0.95\n",
      "134\n",
      "Testing using test data:\n",
      "              precision    recall  f1-score   support\n",
      "\n",
      "           0       0.85      0.86      0.85      6361\n",
      "           1       0.86      0.85      0.86      6660\n",
      "\n",
      "    accuracy                           0.85     13021\n",
      "   macro avg       0.85      0.85      0.85     13021\n",
      "weighted avg       0.85      0.85      0.85     13021\n",
      "\n",
      "------------------------------------------\n",
      "------------------------------------------\n",
      "CountVectorizer Model with min_df=0.15, max_df=1.0\n",
      "134\n",
      "Testing using test data:\n",
      "              precision    recall  f1-score   support\n",
      "\n",
      "           0       0.85      0.86      0.85      6361\n",
      "           1       0.86      0.85      0.86      6660\n",
      "\n",
      "    accuracy                           0.85     13021\n",
      "   macro avg       0.85      0.85      0.85     13021\n",
      "weighted avg       0.85      0.85      0.85     13021\n",
      "\n",
      "------------------------------------------\n",
      "------------------------------------------\n",
      "--------------------CountVectorizer--------------------\n",
      "CountVectorizer Model with min_df=0.2, max_df=0.8\n",
      "73\n",
      "Testing using test data:\n",
      "              precision    recall  f1-score   support\n",
      "\n",
      "           0       0.82      0.85      0.83      6361\n",
      "           1       0.85      0.82      0.83      6660\n",
      "\n",
      "    accuracy                           0.83     13021\n",
      "   macro avg       0.83      0.83      0.83     13021\n",
      "weighted avg       0.83      0.83      0.83     13021\n",
      "\n",
      "------------------------------------------\n",
      "------------------------------------------\n",
      "CountVectorizer Model with min_df=0.2, max_df=0.85\n",
      "73\n",
      "Testing using test data:\n",
      "              precision    recall  f1-score   support\n",
      "\n",
      "           0       0.82      0.85      0.83      6361\n",
      "           1       0.85      0.82      0.83      6660\n",
      "\n",
      "    accuracy                           0.83     13021\n",
      "   macro avg       0.83      0.83      0.83     13021\n",
      "weighted avg       0.83      0.83      0.83     13021\n",
      "\n",
      "------------------------------------------\n",
      "------------------------------------------\n",
      "CountVectorizer Model with min_df=0.2, max_df=0.9\n",
      "73\n",
      "Testing using test data:\n",
      "              precision    recall  f1-score   support\n",
      "\n",
      "           0       0.82      0.85      0.83      6361\n",
      "           1       0.85      0.82      0.83      6660\n",
      "\n",
      "    accuracy                           0.83     13021\n",
      "   macro avg       0.83      0.83      0.83     13021\n",
      "weighted avg       0.83      0.83      0.83     13021\n",
      "\n",
      "------------------------------------------\n",
      "------------------------------------------\n",
      "CountVectorizer Model with min_df=0.2, max_df=0.95\n",
      "73\n",
      "Testing using test data:\n",
      "              precision    recall  f1-score   support\n",
      "\n",
      "           0       0.82      0.85      0.83      6361\n",
      "           1       0.85      0.82      0.83      6660\n",
      "\n",
      "    accuracy                           0.83     13021\n",
      "   macro avg       0.83      0.83      0.83     13021\n",
      "weighted avg       0.83      0.83      0.83     13021\n",
      "\n",
      "------------------------------------------\n",
      "------------------------------------------\n",
      "CountVectorizer Model with min_df=0.2, max_df=1.0\n",
      "73\n",
      "Testing using test data:\n",
      "              precision    recall  f1-score   support\n",
      "\n",
      "           0       0.82      0.85      0.83      6361\n",
      "           1       0.85      0.82      0.83      6660\n",
      "\n",
      "    accuracy                           0.83     13021\n",
      "   macro avg       0.83      0.83      0.83     13021\n",
      "weighted avg       0.83      0.83      0.83     13021\n",
      "\n",
      "------------------------------------------\n",
      "------------------------------------------\n"
     ]
    }
   ],
   "source": [
    "for min_value in min_threshold_config:\n",
    "    print('--------------------CountVectorizer--------------------')\n",
    "    for max_value in max_threshold_config:\n",
    "        vectorizer = CountVectorizer(stop_words='english', ngram_range=(1,2), min_df=min_value, max_df=max_value)\n",
    "        vectorizer.fit(X_train_text)\n",
    "\n",
    "        X_train = vectorizer.transform(X_train_text)\n",
    "        X_val = vectorizer.transform(X_val_text)\n",
    "        X_test = vectorizer.transform(X_test_text)\n",
    "\n",
    "        print(f'CountVectorizer Model with min_df={min_value}, max_df={max_value}')\n",
    "        naive_bayes_clf.fit(X_train, y_train)\n",
    "        print(len(vectorizer.get_feature_names()))\n",
    "        \n",
    "        # #Validation Data\n",
    "        # print('Testing with validation data:')\n",
    "        # val_pred = naive_bayes_clf.predict(X_val)\n",
    "        # print(classification_report(y_val, val_pred))\n",
    "        # print(\"------------------------------------------\")\n",
    "\n",
    "        # Test Data\n",
    "        print('Testing using test data:')\n",
    "        test_pred = naive_bayes_clf.predict(X_test)\n",
    "        print(classification_report(y_test, test_pred))\n",
    "        print(\"------------------------------------------\")\n",
    "        print(\"------------------------------------------\")"
   ]
  },
  {
   "cell_type": "markdown",
   "metadata": {},
   "source": [
    "### Try 2 with min_df only in smaller increments of 0.01"
   ]
  },
  {
   "cell_type": "code",
   "execution_count": 76,
   "metadata": {},
   "outputs": [
    {
     "name": "stdout",
     "output_type": "stream",
     "text": [
      "--------------------CountVectorizer--------------------\n",
      "CountVectorizer Model with min_df=0.0\n"
     ]
    },
    {
     "name": "stderr",
     "output_type": "stream",
     "text": [
      "/Users/joshuawong/miniforge3/envs/tensorflow/lib/python3.9/site-packages/sklearn/utils/deprecation.py:87: FutureWarning: Function get_feature_names is deprecated; get_feature_names is deprecated in 1.0 and will be removed in 1.2. Please use get_feature_names_out instead.\n",
      "  warnings.warn(msg, category=FutureWarning)\n"
     ]
    },
    {
     "name": "stdout",
     "output_type": "stream",
     "text": [
      "4540301\n",
      "Testing using test data:\n",
      "              precision    recall  f1-score   support\n",
      "\n",
      "           0       0.96      0.87      0.91      6361\n",
      "           1       0.89      0.96      0.92      6660\n",
      "\n",
      "    accuracy                           0.92     13021\n",
      "   macro avg       0.92      0.92      0.92     13021\n",
      "weighted avg       0.92      0.92      0.92     13021\n",
      "\n",
      "------------------------------------------\n",
      "------------------------------------------\n",
      "CountVectorizer Model with min_df=0.01\n",
      "3373\n",
      "Testing using test data:\n",
      "              precision    recall  f1-score   support\n",
      "\n",
      "           0       0.88      0.81      0.84      6361\n",
      "           1       0.83      0.90      0.86      6660\n",
      "\n",
      "    accuracy                           0.85     13021\n",
      "   macro avg       0.86      0.85      0.85     13021\n",
      "weighted avg       0.86      0.85      0.85     13021\n",
      "\n",
      "------------------------------------------\n",
      "------------------------------------------\n"
     ]
    },
    {
     "name": "stderr",
     "output_type": "stream",
     "text": [
      "/Users/joshuawong/miniforge3/envs/tensorflow/lib/python3.9/site-packages/sklearn/utils/deprecation.py:87: FutureWarning: Function get_feature_names is deprecated; get_feature_names is deprecated in 1.0 and will be removed in 1.2. Please use get_feature_names_out instead.\n",
      "  warnings.warn(msg, category=FutureWarning)\n"
     ]
    },
    {
     "name": "stdout",
     "output_type": "stream",
     "text": [
      "CountVectorizer Model with min_df=0.02\n",
      "1923\n",
      "Testing using test data:\n",
      "              precision    recall  f1-score   support\n",
      "\n",
      "           0       0.87      0.81      0.84      6361\n",
      "           1       0.83      0.88      0.85      6660\n",
      "\n",
      "    accuracy                           0.84     13021\n",
      "   macro avg       0.85      0.84      0.84     13021\n",
      "weighted avg       0.85      0.84      0.84     13021\n",
      "\n",
      "------------------------------------------\n",
      "------------------------------------------\n"
     ]
    },
    {
     "name": "stderr",
     "output_type": "stream",
     "text": [
      "/Users/joshuawong/miniforge3/envs/tensorflow/lib/python3.9/site-packages/sklearn/utils/deprecation.py:87: FutureWarning: Function get_feature_names is deprecated; get_feature_names is deprecated in 1.0 and will be removed in 1.2. Please use get_feature_names_out instead.\n",
      "  warnings.warn(msg, category=FutureWarning)\n"
     ]
    },
    {
     "name": "stdout",
     "output_type": "stream",
     "text": [
      "CountVectorizer Model with min_df=0.03\n",
      "1330\n",
      "Testing using test data:\n",
      "              precision    recall  f1-score   support\n",
      "\n",
      "           0       0.86      0.80      0.83      6361\n",
      "           1       0.82      0.87      0.84      6660\n",
      "\n",
      "    accuracy                           0.84     13021\n",
      "   macro avg       0.84      0.83      0.83     13021\n",
      "weighted avg       0.84      0.84      0.83     13021\n",
      "\n",
      "------------------------------------------\n",
      "------------------------------------------\n"
     ]
    },
    {
     "name": "stderr",
     "output_type": "stream",
     "text": [
      "/Users/joshuawong/miniforge3/envs/tensorflow/lib/python3.9/site-packages/sklearn/utils/deprecation.py:87: FutureWarning: Function get_feature_names is deprecated; get_feature_names is deprecated in 1.0 and will be removed in 1.2. Please use get_feature_names_out instead.\n",
      "  warnings.warn(msg, category=FutureWarning)\n"
     ]
    },
    {
     "name": "stdout",
     "output_type": "stream",
     "text": [
      "CountVectorizer Model with min_df=0.04\n",
      "1042\n",
      "Testing using test data:\n",
      "              precision    recall  f1-score   support\n",
      "\n",
      "           0       0.85      0.80      0.82      6361\n",
      "           1       0.82      0.87      0.84      6660\n",
      "\n",
      "    accuracy                           0.83     13021\n",
      "   macro avg       0.83      0.83      0.83     13021\n",
      "weighted avg       0.83      0.83      0.83     13021\n",
      "\n",
      "------------------------------------------\n",
      "------------------------------------------\n"
     ]
    },
    {
     "name": "stderr",
     "output_type": "stream",
     "text": [
      "/Users/joshuawong/miniforge3/envs/tensorflow/lib/python3.9/site-packages/sklearn/utils/deprecation.py:87: FutureWarning: Function get_feature_names is deprecated; get_feature_names is deprecated in 1.0 and will be removed in 1.2. Please use get_feature_names_out instead.\n",
      "  warnings.warn(msg, category=FutureWarning)\n"
     ]
    },
    {
     "name": "stdout",
     "output_type": "stream",
     "text": [
      "CountVectorizer Model with min_df=0.05\n",
      "818\n",
      "Testing using test data:\n",
      "              precision    recall  f1-score   support\n",
      "\n",
      "           0       0.85      0.79      0.82      6361\n",
      "           1       0.81      0.86      0.84      6660\n",
      "\n",
      "    accuracy                           0.83     13021\n",
      "   macro avg       0.83      0.83      0.83     13021\n",
      "weighted avg       0.83      0.83      0.83     13021\n",
      "\n",
      "------------------------------------------\n",
      "------------------------------------------\n"
     ]
    },
    {
     "name": "stderr",
     "output_type": "stream",
     "text": [
      "/Users/joshuawong/miniforge3/envs/tensorflow/lib/python3.9/site-packages/sklearn/utils/deprecation.py:87: FutureWarning: Function get_feature_names is deprecated; get_feature_names is deprecated in 1.0 and will be removed in 1.2. Please use get_feature_names_out instead.\n",
      "  warnings.warn(msg, category=FutureWarning)\n"
     ]
    },
    {
     "name": "stdout",
     "output_type": "stream",
     "text": [
      "CountVectorizer Model with min_df=0.06\n",
      "649\n",
      "Testing using test data:\n",
      "              precision    recall  f1-score   support\n",
      "\n",
      "           0       0.85      0.80      0.82      6361\n",
      "           1       0.82      0.86      0.84      6660\n",
      "\n",
      "    accuracy                           0.83     13021\n",
      "   macro avg       0.83      0.83      0.83     13021\n",
      "weighted avg       0.83      0.83      0.83     13021\n",
      "\n",
      "------------------------------------------\n",
      "------------------------------------------\n"
     ]
    },
    {
     "name": "stderr",
     "output_type": "stream",
     "text": [
      "/Users/joshuawong/miniforge3/envs/tensorflow/lib/python3.9/site-packages/sklearn/utils/deprecation.py:87: FutureWarning: Function get_feature_names is deprecated; get_feature_names is deprecated in 1.0 and will be removed in 1.2. Please use get_feature_names_out instead.\n",
      "  warnings.warn(msg, category=FutureWarning)\n"
     ]
    },
    {
     "name": "stdout",
     "output_type": "stream",
     "text": [
      "CountVectorizer Model with min_df=0.07\n",
      "525\n",
      "Testing using test data:\n",
      "              precision    recall  f1-score   support\n",
      "\n",
      "           0       0.84      0.80      0.82      6361\n",
      "           1       0.82      0.85      0.84      6660\n",
      "\n",
      "    accuracy                           0.83     13021\n",
      "   macro avg       0.83      0.83      0.83     13021\n",
      "weighted avg       0.83      0.83      0.83     13021\n",
      "\n",
      "------------------------------------------\n",
      "------------------------------------------\n"
     ]
    },
    {
     "name": "stderr",
     "output_type": "stream",
     "text": [
      "/Users/joshuawong/miniforge3/envs/tensorflow/lib/python3.9/site-packages/sklearn/utils/deprecation.py:87: FutureWarning: Function get_feature_names is deprecated; get_feature_names is deprecated in 1.0 and will be removed in 1.2. Please use get_feature_names_out instead.\n",
      "  warnings.warn(msg, category=FutureWarning)\n"
     ]
    },
    {
     "name": "stdout",
     "output_type": "stream",
     "text": [
      "CountVectorizer Model with min_df=0.08\n",
      "435\n",
      "Testing using test data:\n",
      "              precision    recall  f1-score   support\n",
      "\n",
      "           0       0.84      0.81      0.83      6361\n",
      "           1       0.82      0.85      0.84      6660\n",
      "\n",
      "    accuracy                           0.83     13021\n",
      "   macro avg       0.83      0.83      0.83     13021\n",
      "weighted avg       0.83      0.83      0.83     13021\n",
      "\n",
      "------------------------------------------\n",
      "------------------------------------------\n"
     ]
    },
    {
     "name": "stderr",
     "output_type": "stream",
     "text": [
      "/Users/joshuawong/miniforge3/envs/tensorflow/lib/python3.9/site-packages/sklearn/utils/deprecation.py:87: FutureWarning: Function get_feature_names is deprecated; get_feature_names is deprecated in 1.0 and will be removed in 1.2. Please use get_feature_names_out instead.\n",
      "  warnings.warn(msg, category=FutureWarning)\n"
     ]
    },
    {
     "name": "stdout",
     "output_type": "stream",
     "text": [
      "CountVectorizer Model with min_df=0.09\n",
      "374\n",
      "Testing using test data:\n",
      "              precision    recall  f1-score   support\n",
      "\n",
      "           0       0.84      0.82      0.83      6361\n",
      "           1       0.83      0.85      0.84      6660\n",
      "\n",
      "    accuracy                           0.84     13021\n",
      "   macro avg       0.84      0.84      0.84     13021\n",
      "weighted avg       0.84      0.84      0.84     13021\n",
      "\n",
      "------------------------------------------\n",
      "------------------------------------------\n"
     ]
    },
    {
     "name": "stderr",
     "output_type": "stream",
     "text": [
      "/Users/joshuawong/miniforge3/envs/tensorflow/lib/python3.9/site-packages/sklearn/utils/deprecation.py:87: FutureWarning: Function get_feature_names is deprecated; get_feature_names is deprecated in 1.0 and will be removed in 1.2. Please use get_feature_names_out instead.\n",
      "  warnings.warn(msg, category=FutureWarning)\n"
     ]
    },
    {
     "name": "stdout",
     "output_type": "stream",
     "text": [
      "CountVectorizer Model with min_df=0.1\n",
      "316\n",
      "Testing using test data:\n",
      "              precision    recall  f1-score   support\n",
      "\n",
      "           0       0.84      0.82      0.83      6361\n",
      "           1       0.83      0.85      0.84      6660\n",
      "\n",
      "    accuracy                           0.84     13021\n",
      "   macro avg       0.84      0.84      0.84     13021\n",
      "weighted avg       0.84      0.84      0.84     13021\n",
      "\n",
      "------------------------------------------\n",
      "------------------------------------------\n"
     ]
    },
    {
     "name": "stderr",
     "output_type": "stream",
     "text": [
      "/Users/joshuawong/miniforge3/envs/tensorflow/lib/python3.9/site-packages/sklearn/utils/deprecation.py:87: FutureWarning: Function get_feature_names is deprecated; get_feature_names is deprecated in 1.0 and will be removed in 1.2. Please use get_feature_names_out instead.\n",
      "  warnings.warn(msg, category=FutureWarning)\n"
     ]
    },
    {
     "name": "stdout",
     "output_type": "stream",
     "text": [
      "CountVectorizer Model with min_df=0.11\n",
      "269\n",
      "Testing using test data:\n",
      "              precision    recall  f1-score   support\n",
      "\n",
      "           0       0.84      0.84      0.84      6361\n",
      "           1       0.84      0.85      0.85      6660\n",
      "\n",
      "    accuracy                           0.84     13021\n",
      "   macro avg       0.84      0.84      0.84     13021\n",
      "weighted avg       0.84      0.84      0.84     13021\n",
      "\n",
      "------------------------------------------\n",
      "------------------------------------------\n"
     ]
    },
    {
     "name": "stderr",
     "output_type": "stream",
     "text": [
      "/Users/joshuawong/miniforge3/envs/tensorflow/lib/python3.9/site-packages/sklearn/utils/deprecation.py:87: FutureWarning: Function get_feature_names is deprecated; get_feature_names is deprecated in 1.0 and will be removed in 1.2. Please use get_feature_names_out instead.\n",
      "  warnings.warn(msg, category=FutureWarning)\n"
     ]
    },
    {
     "name": "stdout",
     "output_type": "stream",
     "text": [
      "CountVectorizer Model with min_df=0.12\n",
      "226\n",
      "Testing using test data:\n",
      "              precision    recall  f1-score   support\n",
      "\n",
      "           0       0.84      0.84      0.84      6361\n",
      "           1       0.84      0.84      0.84      6660\n",
      "\n",
      "    accuracy                           0.84     13021\n",
      "   macro avg       0.84      0.84      0.84     13021\n",
      "weighted avg       0.84      0.84      0.84     13021\n",
      "\n",
      "------------------------------------------\n",
      "------------------------------------------\n"
     ]
    },
    {
     "name": "stderr",
     "output_type": "stream",
     "text": [
      "/Users/joshuawong/miniforge3/envs/tensorflow/lib/python3.9/site-packages/sklearn/utils/deprecation.py:87: FutureWarning: Function get_feature_names is deprecated; get_feature_names is deprecated in 1.0 and will be removed in 1.2. Please use get_feature_names_out instead.\n",
      "  warnings.warn(msg, category=FutureWarning)\n"
     ]
    },
    {
     "name": "stdout",
     "output_type": "stream",
     "text": [
      "CountVectorizer Model with min_df=0.13\n",
      "198\n",
      "Testing using test data:\n",
      "              precision    recall  f1-score   support\n",
      "\n",
      "           0       0.83      0.84      0.84      6361\n",
      "           1       0.85      0.84      0.84      6660\n",
      "\n",
      "    accuracy                           0.84     13021\n",
      "   macro avg       0.84      0.84      0.84     13021\n",
      "weighted avg       0.84      0.84      0.84     13021\n",
      "\n",
      "------------------------------------------\n",
      "------------------------------------------\n"
     ]
    },
    {
     "name": "stderr",
     "output_type": "stream",
     "text": [
      "/Users/joshuawong/miniforge3/envs/tensorflow/lib/python3.9/site-packages/sklearn/utils/deprecation.py:87: FutureWarning: Function get_feature_names is deprecated; get_feature_names is deprecated in 1.0 and will be removed in 1.2. Please use get_feature_names_out instead.\n",
      "  warnings.warn(msg, category=FutureWarning)\n"
     ]
    },
    {
     "name": "stdout",
     "output_type": "stream",
     "text": [
      "CountVectorizer Model with min_df=0.14\n",
      "169\n",
      "Testing using test data:\n",
      "              precision    recall  f1-score   support\n",
      "\n",
      "           0       0.84      0.85      0.84      6361\n",
      "           1       0.85      0.85      0.85      6660\n",
      "\n",
      "    accuracy                           0.85     13021\n",
      "   macro avg       0.85      0.85      0.85     13021\n",
      "weighted avg       0.85      0.85      0.85     13021\n",
      "\n",
      "------------------------------------------\n",
      "------------------------------------------\n"
     ]
    },
    {
     "name": "stderr",
     "output_type": "stream",
     "text": [
      "/Users/joshuawong/miniforge3/envs/tensorflow/lib/python3.9/site-packages/sklearn/utils/deprecation.py:87: FutureWarning: Function get_feature_names is deprecated; get_feature_names is deprecated in 1.0 and will be removed in 1.2. Please use get_feature_names_out instead.\n",
      "  warnings.warn(msg, category=FutureWarning)\n"
     ]
    },
    {
     "name": "stdout",
     "output_type": "stream",
     "text": [
      "CountVectorizer Model with min_df=0.15\n",
      "134\n",
      "Testing using test data:\n",
      "              precision    recall  f1-score   support\n",
      "\n",
      "           0       0.85      0.86      0.85      6361\n",
      "           1       0.86      0.85      0.86      6660\n",
      "\n",
      "    accuracy                           0.85     13021\n",
      "   macro avg       0.85      0.85      0.85     13021\n",
      "weighted avg       0.85      0.85      0.85     13021\n",
      "\n",
      "------------------------------------------\n",
      "------------------------------------------\n"
     ]
    },
    {
     "name": "stderr",
     "output_type": "stream",
     "text": [
      "/Users/joshuawong/miniforge3/envs/tensorflow/lib/python3.9/site-packages/sklearn/utils/deprecation.py:87: FutureWarning: Function get_feature_names is deprecated; get_feature_names is deprecated in 1.0 and will be removed in 1.2. Please use get_feature_names_out instead.\n",
      "  warnings.warn(msg, category=FutureWarning)\n"
     ]
    }
   ],
   "source": [
    "values = [x * 0.01 for x in range(0, 16)]\n",
    "\n",
    "print('--------------------CountVectorizer--------------------')\n",
    "for min_value in values:\n",
    "    vectorizer = CountVectorizer(stop_words='english', ngram_range=(1,2), min_df=min_value)\n",
    "    vectorizer.fit(X_train_text)\n",
    "\n",
    "    X_train = vectorizer.transform(X_train_text)\n",
    "    # X_val = vectorizer.transform(X_val_text)\n",
    "    X_test = vectorizer.transform(X_test_text)\n",
    "\n",
    "    print(f'CountVectorizer Model with min_df={min_value}')\n",
    "    naive_bayes_clf.fit(X_train, y_train)\n",
    "    num_features = len(vectorizer.get_feature_names())\n",
    "    print(num_features)\n",
    "    countvectorizer_numfeatures.append(num_features)\n",
    "\n",
    "    # #Validation Data\n",
    "    # print('Testing with validation data:')\n",
    "    # val_pred = naive_bayes_clf.predict(X_val)\n",
    "    # print(classification_report(y_val, val_pred))\n",
    "    # print(\"------------------------------------------\")\n",
    "\n",
    "    # Test Data\n",
    "    print('Testing using test data:')\n",
    "    test_pred = naive_bayes_clf.predict(X_test)\n",
    "    report = classification_report(y_test, test_pred)\n",
    "    print(report)\n",
    "    print(\"------------------------------------------\")\n",
    "    print(\"------------------------------------------\")\n",
    "\n",
    "    precision, recall, f1score = get_weighted_average(report)\n",
    "    countvectorizer_precision.append(precision)\n",
    "    countvectorizer_recall.append(recall)\n",
    "    countvectorizer_f1score.append(f1score)"
   ]
  },
  {
   "cell_type": "markdown",
   "metadata": {},
   "source": [
    "## TF-IDF"
   ]
  },
  {
   "cell_type": "markdown",
   "metadata": {},
   "source": [
    "### Try 1 with various configurations"
   ]
  },
  {
   "cell_type": "code",
   "execution_count": 11,
   "metadata": {},
   "outputs": [
    {
     "name": "stdout",
     "output_type": "stream",
     "text": [
      "--------------------TF-IDF--------------------\n",
      "TF-IDF Model with min_df=0.0\n"
     ]
    },
    {
     "name": "stderr",
     "output_type": "stream",
     "text": [
      "/Users/joshuawong/miniforge3/envs/tensorflow/lib/python3.9/site-packages/sklearn/utils/deprecation.py:87: FutureWarning: Function get_feature_names is deprecated; get_feature_names is deprecated in 1.0 and will be removed in 1.2. Please use get_feature_names_out instead.\n",
      "  warnings.warn(msg, category=FutureWarning)\n"
     ]
    },
    {
     "name": "stdout",
     "output_type": "stream",
     "text": [
      "4540301\n",
      "Testing using test data:\n",
      "              precision    recall  f1-score   support\n",
      "\n",
      "           0       0.96      0.87      0.91      6361\n",
      "           1       0.89      0.96      0.92      6660\n",
      "\n",
      "    accuracy                           0.92     13021\n",
      "   macro avg       0.92      0.92      0.92     13021\n",
      "weighted avg       0.92      0.92      0.92     13021\n",
      "\n",
      "------------------------------------------\n",
      "------------------------------------------\n",
      "TF-IDF Model with min_df=0.0\n"
     ]
    },
    {
     "name": "stderr",
     "output_type": "stream",
     "text": [
      "/Users/joshuawong/miniforge3/envs/tensorflow/lib/python3.9/site-packages/sklearn/utils/deprecation.py:87: FutureWarning: Function get_feature_names is deprecated; get_feature_names is deprecated in 1.0 and will be removed in 1.2. Please use get_feature_names_out instead.\n",
      "  warnings.warn(msg, category=FutureWarning)\n"
     ]
    },
    {
     "name": "stdout",
     "output_type": "stream",
     "text": [
      "4540301\n",
      "Testing using test data:\n",
      "              precision    recall  f1-score   support\n",
      "\n",
      "           0       0.96      0.87      0.91      6361\n",
      "           1       0.89      0.96      0.92      6660\n",
      "\n",
      "    accuracy                           0.92     13021\n",
      "   macro avg       0.92      0.92      0.92     13021\n",
      "weighted avg       0.92      0.92      0.92     13021\n",
      "\n",
      "------------------------------------------\n",
      "------------------------------------------\n",
      "TF-IDF Model with min_df=0.0\n"
     ]
    },
    {
     "name": "stderr",
     "output_type": "stream",
     "text": [
      "/Users/joshuawong/miniforge3/envs/tensorflow/lib/python3.9/site-packages/sklearn/utils/deprecation.py:87: FutureWarning: Function get_feature_names is deprecated; get_feature_names is deprecated in 1.0 and will be removed in 1.2. Please use get_feature_names_out instead.\n",
      "  warnings.warn(msg, category=FutureWarning)\n"
     ]
    },
    {
     "name": "stdout",
     "output_type": "stream",
     "text": [
      "4540301\n",
      "Testing using test data:\n",
      "              precision    recall  f1-score   support\n",
      "\n",
      "           0       0.96      0.87      0.91      6361\n",
      "           1       0.89      0.96      0.92      6660\n",
      "\n",
      "    accuracy                           0.92     13021\n",
      "   macro avg       0.92      0.92      0.92     13021\n",
      "weighted avg       0.92      0.92      0.92     13021\n",
      "\n",
      "------------------------------------------\n",
      "------------------------------------------\n",
      "TF-IDF Model with min_df=0.0\n"
     ]
    },
    {
     "name": "stderr",
     "output_type": "stream",
     "text": [
      "/Users/joshuawong/miniforge3/envs/tensorflow/lib/python3.9/site-packages/sklearn/utils/deprecation.py:87: FutureWarning: Function get_feature_names is deprecated; get_feature_names is deprecated in 1.0 and will be removed in 1.2. Please use get_feature_names_out instead.\n",
      "  warnings.warn(msg, category=FutureWarning)\n"
     ]
    },
    {
     "name": "stdout",
     "output_type": "stream",
     "text": [
      "4540301\n",
      "Testing using test data:\n",
      "              precision    recall  f1-score   support\n",
      "\n",
      "           0       0.96      0.87      0.91      6361\n",
      "           1       0.89      0.96      0.92      6660\n",
      "\n",
      "    accuracy                           0.92     13021\n",
      "   macro avg       0.92      0.92      0.92     13021\n",
      "weighted avg       0.92      0.92      0.92     13021\n",
      "\n",
      "------------------------------------------\n",
      "------------------------------------------\n",
      "TF-IDF Model with min_df=0.0\n"
     ]
    },
    {
     "name": "stderr",
     "output_type": "stream",
     "text": [
      "/Users/joshuawong/miniforge3/envs/tensorflow/lib/python3.9/site-packages/sklearn/utils/deprecation.py:87: FutureWarning: Function get_feature_names is deprecated; get_feature_names is deprecated in 1.0 and will be removed in 1.2. Please use get_feature_names_out instead.\n",
      "  warnings.warn(msg, category=FutureWarning)\n"
     ]
    },
    {
     "name": "stdout",
     "output_type": "stream",
     "text": [
      "4540301\n",
      "Testing using test data:\n",
      "              precision    recall  f1-score   support\n",
      "\n",
      "           0       0.96      0.87      0.91      6361\n",
      "           1       0.89      0.96      0.92      6660\n",
      "\n",
      "    accuracy                           0.92     13021\n",
      "   macro avg       0.92      0.92      0.92     13021\n",
      "weighted avg       0.92      0.92      0.92     13021\n",
      "\n",
      "------------------------------------------\n",
      "------------------------------------------\n",
      "TF-IDF Model with min_df=0.05\n",
      "818\n",
      "Testing using test data:\n",
      "              precision    recall  f1-score   support\n",
      "\n",
      "           0       0.85      0.79      0.82      6361\n",
      "           1       0.81      0.86      0.84      6660\n",
      "\n",
      "    accuracy                           0.83     13021\n",
      "   macro avg       0.83      0.83      0.83     13021\n",
      "weighted avg       0.83      0.83      0.83     13021\n",
      "\n",
      "------------------------------------------\n",
      "------------------------------------------\n"
     ]
    },
    {
     "name": "stderr",
     "output_type": "stream",
     "text": [
      "/Users/joshuawong/miniforge3/envs/tensorflow/lib/python3.9/site-packages/sklearn/utils/deprecation.py:87: FutureWarning: Function get_feature_names is deprecated; get_feature_names is deprecated in 1.0 and will be removed in 1.2. Please use get_feature_names_out instead.\n",
      "  warnings.warn(msg, category=FutureWarning)\n"
     ]
    },
    {
     "name": "stdout",
     "output_type": "stream",
     "text": [
      "TF-IDF Model with min_df=0.05\n",
      "818\n",
      "Testing using test data:\n",
      "              precision    recall  f1-score   support\n",
      "\n",
      "           0       0.85      0.79      0.82      6361\n",
      "           1       0.81      0.86      0.84      6660\n",
      "\n",
      "    accuracy                           0.83     13021\n",
      "   macro avg       0.83      0.83      0.83     13021\n",
      "weighted avg       0.83      0.83      0.83     13021\n",
      "\n",
      "------------------------------------------\n",
      "------------------------------------------\n"
     ]
    },
    {
     "name": "stderr",
     "output_type": "stream",
     "text": [
      "/Users/joshuawong/miniforge3/envs/tensorflow/lib/python3.9/site-packages/sklearn/utils/deprecation.py:87: FutureWarning: Function get_feature_names is deprecated; get_feature_names is deprecated in 1.0 and will be removed in 1.2. Please use get_feature_names_out instead.\n",
      "  warnings.warn(msg, category=FutureWarning)\n"
     ]
    },
    {
     "name": "stdout",
     "output_type": "stream",
     "text": [
      "TF-IDF Model with min_df=0.05\n",
      "818\n",
      "Testing using test data:\n",
      "              precision    recall  f1-score   support\n",
      "\n",
      "           0       0.85      0.79      0.82      6361\n",
      "           1       0.81      0.86      0.84      6660\n",
      "\n",
      "    accuracy                           0.83     13021\n",
      "   macro avg       0.83      0.83      0.83     13021\n",
      "weighted avg       0.83      0.83      0.83     13021\n",
      "\n",
      "------------------------------------------\n",
      "------------------------------------------\n"
     ]
    },
    {
     "name": "stderr",
     "output_type": "stream",
     "text": [
      "/Users/joshuawong/miniforge3/envs/tensorflow/lib/python3.9/site-packages/sklearn/utils/deprecation.py:87: FutureWarning: Function get_feature_names is deprecated; get_feature_names is deprecated in 1.0 and will be removed in 1.2. Please use get_feature_names_out instead.\n",
      "  warnings.warn(msg, category=FutureWarning)\n"
     ]
    },
    {
     "name": "stdout",
     "output_type": "stream",
     "text": [
      "TF-IDF Model with min_df=0.05\n",
      "818\n",
      "Testing using test data:\n",
      "              precision    recall  f1-score   support\n",
      "\n",
      "           0       0.85      0.79      0.82      6361\n",
      "           1       0.81      0.86      0.84      6660\n",
      "\n",
      "    accuracy                           0.83     13021\n",
      "   macro avg       0.83      0.83      0.83     13021\n",
      "weighted avg       0.83      0.83      0.83     13021\n",
      "\n",
      "------------------------------------------\n",
      "------------------------------------------\n"
     ]
    },
    {
     "name": "stderr",
     "output_type": "stream",
     "text": [
      "/Users/joshuawong/miniforge3/envs/tensorflow/lib/python3.9/site-packages/sklearn/utils/deprecation.py:87: FutureWarning: Function get_feature_names is deprecated; get_feature_names is deprecated in 1.0 and will be removed in 1.2. Please use get_feature_names_out instead.\n",
      "  warnings.warn(msg, category=FutureWarning)\n"
     ]
    },
    {
     "name": "stdout",
     "output_type": "stream",
     "text": [
      "TF-IDF Model with min_df=0.05\n",
      "818\n",
      "Testing using test data:\n",
      "              precision    recall  f1-score   support\n",
      "\n",
      "           0       0.85      0.79      0.82      6361\n",
      "           1       0.81      0.86      0.84      6660\n",
      "\n",
      "    accuracy                           0.83     13021\n",
      "   macro avg       0.83      0.83      0.83     13021\n",
      "weighted avg       0.83      0.83      0.83     13021\n",
      "\n",
      "------------------------------------------\n",
      "------------------------------------------\n"
     ]
    },
    {
     "name": "stderr",
     "output_type": "stream",
     "text": [
      "/Users/joshuawong/miniforge3/envs/tensorflow/lib/python3.9/site-packages/sklearn/utils/deprecation.py:87: FutureWarning: Function get_feature_names is deprecated; get_feature_names is deprecated in 1.0 and will be removed in 1.2. Please use get_feature_names_out instead.\n",
      "  warnings.warn(msg, category=FutureWarning)\n"
     ]
    },
    {
     "name": "stdout",
     "output_type": "stream",
     "text": [
      "TF-IDF Model with min_df=0.1\n",
      "316\n",
      "Testing using test data:\n",
      "              precision    recall  f1-score   support\n",
      "\n",
      "           0       0.84      0.82      0.83      6361\n",
      "           1       0.83      0.85      0.84      6660\n",
      "\n",
      "    accuracy                           0.84     13021\n",
      "   macro avg       0.84      0.84      0.84     13021\n",
      "weighted avg       0.84      0.84      0.84     13021\n",
      "\n",
      "------------------------------------------\n",
      "------------------------------------------\n"
     ]
    },
    {
     "name": "stderr",
     "output_type": "stream",
     "text": [
      "/Users/joshuawong/miniforge3/envs/tensorflow/lib/python3.9/site-packages/sklearn/utils/deprecation.py:87: FutureWarning: Function get_feature_names is deprecated; get_feature_names is deprecated in 1.0 and will be removed in 1.2. Please use get_feature_names_out instead.\n",
      "  warnings.warn(msg, category=FutureWarning)\n"
     ]
    },
    {
     "name": "stdout",
     "output_type": "stream",
     "text": [
      "TF-IDF Model with min_df=0.1\n",
      "316\n",
      "Testing using test data:\n",
      "              precision    recall  f1-score   support\n",
      "\n",
      "           0       0.84      0.82      0.83      6361\n",
      "           1       0.83      0.85      0.84      6660\n",
      "\n",
      "    accuracy                           0.84     13021\n",
      "   macro avg       0.84      0.84      0.84     13021\n",
      "weighted avg       0.84      0.84      0.84     13021\n",
      "\n",
      "------------------------------------------\n",
      "------------------------------------------\n"
     ]
    },
    {
     "name": "stderr",
     "output_type": "stream",
     "text": [
      "/Users/joshuawong/miniforge3/envs/tensorflow/lib/python3.9/site-packages/sklearn/utils/deprecation.py:87: FutureWarning: Function get_feature_names is deprecated; get_feature_names is deprecated in 1.0 and will be removed in 1.2. Please use get_feature_names_out instead.\n",
      "  warnings.warn(msg, category=FutureWarning)\n"
     ]
    },
    {
     "name": "stdout",
     "output_type": "stream",
     "text": [
      "TF-IDF Model with min_df=0.1\n",
      "316\n",
      "Testing using test data:\n",
      "              precision    recall  f1-score   support\n",
      "\n",
      "           0       0.84      0.82      0.83      6361\n",
      "           1       0.83      0.85      0.84      6660\n",
      "\n",
      "    accuracy                           0.84     13021\n",
      "   macro avg       0.84      0.84      0.84     13021\n",
      "weighted avg       0.84      0.84      0.84     13021\n",
      "\n",
      "------------------------------------------\n",
      "------------------------------------------\n"
     ]
    },
    {
     "name": "stderr",
     "output_type": "stream",
     "text": [
      "/Users/joshuawong/miniforge3/envs/tensorflow/lib/python3.9/site-packages/sklearn/utils/deprecation.py:87: FutureWarning: Function get_feature_names is deprecated; get_feature_names is deprecated in 1.0 and will be removed in 1.2. Please use get_feature_names_out instead.\n",
      "  warnings.warn(msg, category=FutureWarning)\n"
     ]
    },
    {
     "name": "stdout",
     "output_type": "stream",
     "text": [
      "TF-IDF Model with min_df=0.1\n",
      "316\n",
      "Testing using test data:\n",
      "              precision    recall  f1-score   support\n",
      "\n",
      "           0       0.84      0.82      0.83      6361\n",
      "           1       0.83      0.85      0.84      6660\n",
      "\n",
      "    accuracy                           0.84     13021\n",
      "   macro avg       0.84      0.84      0.84     13021\n",
      "weighted avg       0.84      0.84      0.84     13021\n",
      "\n",
      "------------------------------------------\n",
      "------------------------------------------\n"
     ]
    },
    {
     "name": "stderr",
     "output_type": "stream",
     "text": [
      "/Users/joshuawong/miniforge3/envs/tensorflow/lib/python3.9/site-packages/sklearn/utils/deprecation.py:87: FutureWarning: Function get_feature_names is deprecated; get_feature_names is deprecated in 1.0 and will be removed in 1.2. Please use get_feature_names_out instead.\n",
      "  warnings.warn(msg, category=FutureWarning)\n"
     ]
    },
    {
     "name": "stdout",
     "output_type": "stream",
     "text": [
      "TF-IDF Model with min_df=0.1\n",
      "316\n",
      "Testing using test data:\n",
      "              precision    recall  f1-score   support\n",
      "\n",
      "           0       0.84      0.82      0.83      6361\n",
      "           1       0.83      0.85      0.84      6660\n",
      "\n",
      "    accuracy                           0.84     13021\n",
      "   macro avg       0.84      0.84      0.84     13021\n",
      "weighted avg       0.84      0.84      0.84     13021\n",
      "\n",
      "------------------------------------------\n",
      "------------------------------------------\n"
     ]
    },
    {
     "name": "stderr",
     "output_type": "stream",
     "text": [
      "/Users/joshuawong/miniforge3/envs/tensorflow/lib/python3.9/site-packages/sklearn/utils/deprecation.py:87: FutureWarning: Function get_feature_names is deprecated; get_feature_names is deprecated in 1.0 and will be removed in 1.2. Please use get_feature_names_out instead.\n",
      "  warnings.warn(msg, category=FutureWarning)\n"
     ]
    },
    {
     "name": "stdout",
     "output_type": "stream",
     "text": [
      "TF-IDF Model with min_df=0.15\n",
      "134\n",
      "Testing using test data:\n",
      "              precision    recall  f1-score   support\n",
      "\n",
      "           0       0.85      0.86      0.85      6361\n",
      "           1       0.86      0.85      0.86      6660\n",
      "\n",
      "    accuracy                           0.85     13021\n",
      "   macro avg       0.85      0.85      0.85     13021\n",
      "weighted avg       0.85      0.85      0.85     13021\n",
      "\n",
      "------------------------------------------\n",
      "------------------------------------------\n"
     ]
    },
    {
     "name": "stderr",
     "output_type": "stream",
     "text": [
      "/Users/joshuawong/miniforge3/envs/tensorflow/lib/python3.9/site-packages/sklearn/utils/deprecation.py:87: FutureWarning: Function get_feature_names is deprecated; get_feature_names is deprecated in 1.0 and will be removed in 1.2. Please use get_feature_names_out instead.\n",
      "  warnings.warn(msg, category=FutureWarning)\n"
     ]
    },
    {
     "name": "stdout",
     "output_type": "stream",
     "text": [
      "TF-IDF Model with min_df=0.15\n",
      "134\n",
      "Testing using test data:\n",
      "              precision    recall  f1-score   support\n",
      "\n",
      "           0       0.85      0.86      0.85      6361\n",
      "           1       0.86      0.85      0.86      6660\n",
      "\n",
      "    accuracy                           0.85     13021\n",
      "   macro avg       0.85      0.85      0.85     13021\n",
      "weighted avg       0.85      0.85      0.85     13021\n",
      "\n",
      "------------------------------------------\n",
      "------------------------------------------\n"
     ]
    },
    {
     "name": "stderr",
     "output_type": "stream",
     "text": [
      "/Users/joshuawong/miniforge3/envs/tensorflow/lib/python3.9/site-packages/sklearn/utils/deprecation.py:87: FutureWarning: Function get_feature_names is deprecated; get_feature_names is deprecated in 1.0 and will be removed in 1.2. Please use get_feature_names_out instead.\n",
      "  warnings.warn(msg, category=FutureWarning)\n"
     ]
    },
    {
     "name": "stdout",
     "output_type": "stream",
     "text": [
      "TF-IDF Model with min_df=0.15\n",
      "134\n",
      "Testing using test data:\n",
      "              precision    recall  f1-score   support\n",
      "\n",
      "           0       0.85      0.86      0.85      6361\n",
      "           1       0.86      0.85      0.86      6660\n",
      "\n",
      "    accuracy                           0.85     13021\n",
      "   macro avg       0.85      0.85      0.85     13021\n",
      "weighted avg       0.85      0.85      0.85     13021\n",
      "\n",
      "------------------------------------------\n",
      "------------------------------------------\n"
     ]
    },
    {
     "name": "stderr",
     "output_type": "stream",
     "text": [
      "/Users/joshuawong/miniforge3/envs/tensorflow/lib/python3.9/site-packages/sklearn/utils/deprecation.py:87: FutureWarning: Function get_feature_names is deprecated; get_feature_names is deprecated in 1.0 and will be removed in 1.2. Please use get_feature_names_out instead.\n",
      "  warnings.warn(msg, category=FutureWarning)\n"
     ]
    },
    {
     "name": "stdout",
     "output_type": "stream",
     "text": [
      "TF-IDF Model with min_df=0.15\n",
      "134\n",
      "Testing using test data:\n",
      "              precision    recall  f1-score   support\n",
      "\n",
      "           0       0.85      0.86      0.85      6361\n",
      "           1       0.86      0.85      0.86      6660\n",
      "\n",
      "    accuracy                           0.85     13021\n",
      "   macro avg       0.85      0.85      0.85     13021\n",
      "weighted avg       0.85      0.85      0.85     13021\n",
      "\n",
      "------------------------------------------\n",
      "------------------------------------------\n"
     ]
    },
    {
     "name": "stderr",
     "output_type": "stream",
     "text": [
      "/Users/joshuawong/miniforge3/envs/tensorflow/lib/python3.9/site-packages/sklearn/utils/deprecation.py:87: FutureWarning: Function get_feature_names is deprecated; get_feature_names is deprecated in 1.0 and will be removed in 1.2. Please use get_feature_names_out instead.\n",
      "  warnings.warn(msg, category=FutureWarning)\n"
     ]
    },
    {
     "name": "stdout",
     "output_type": "stream",
     "text": [
      "TF-IDF Model with min_df=0.15\n",
      "134\n",
      "Testing using test data:\n",
      "              precision    recall  f1-score   support\n",
      "\n",
      "           0       0.85      0.86      0.85      6361\n",
      "           1       0.86      0.85      0.86      6660\n",
      "\n",
      "    accuracy                           0.85     13021\n",
      "   macro avg       0.85      0.85      0.85     13021\n",
      "weighted avg       0.85      0.85      0.85     13021\n",
      "\n",
      "------------------------------------------\n",
      "------------------------------------------\n"
     ]
    },
    {
     "name": "stderr",
     "output_type": "stream",
     "text": [
      "/Users/joshuawong/miniforge3/envs/tensorflow/lib/python3.9/site-packages/sklearn/utils/deprecation.py:87: FutureWarning: Function get_feature_names is deprecated; get_feature_names is deprecated in 1.0 and will be removed in 1.2. Please use get_feature_names_out instead.\n",
      "  warnings.warn(msg, category=FutureWarning)\n"
     ]
    },
    {
     "name": "stdout",
     "output_type": "stream",
     "text": [
      "TF-IDF Model with min_df=0.2\n",
      "73\n",
      "Testing using test data:\n",
      "              precision    recall  f1-score   support\n",
      "\n",
      "           0       0.82      0.85      0.83      6361\n",
      "           1       0.85      0.82      0.83      6660\n",
      "\n",
      "    accuracy                           0.83     13021\n",
      "   macro avg       0.83      0.83      0.83     13021\n",
      "weighted avg       0.83      0.83      0.83     13021\n",
      "\n",
      "------------------------------------------\n",
      "------------------------------------------\n"
     ]
    },
    {
     "name": "stderr",
     "output_type": "stream",
     "text": [
      "/Users/joshuawong/miniforge3/envs/tensorflow/lib/python3.9/site-packages/sklearn/utils/deprecation.py:87: FutureWarning: Function get_feature_names is deprecated; get_feature_names is deprecated in 1.0 and will be removed in 1.2. Please use get_feature_names_out instead.\n",
      "  warnings.warn(msg, category=FutureWarning)\n"
     ]
    },
    {
     "name": "stdout",
     "output_type": "stream",
     "text": [
      "TF-IDF Model with min_df=0.2\n",
      "73\n",
      "Testing using test data:\n",
      "              precision    recall  f1-score   support\n",
      "\n",
      "           0       0.82      0.85      0.83      6361\n",
      "           1       0.85      0.82      0.83      6660\n",
      "\n",
      "    accuracy                           0.83     13021\n",
      "   macro avg       0.83      0.83      0.83     13021\n",
      "weighted avg       0.83      0.83      0.83     13021\n",
      "\n",
      "------------------------------------------\n",
      "------------------------------------------\n"
     ]
    },
    {
     "name": "stderr",
     "output_type": "stream",
     "text": [
      "/Users/joshuawong/miniforge3/envs/tensorflow/lib/python3.9/site-packages/sklearn/utils/deprecation.py:87: FutureWarning: Function get_feature_names is deprecated; get_feature_names is deprecated in 1.0 and will be removed in 1.2. Please use get_feature_names_out instead.\n",
      "  warnings.warn(msg, category=FutureWarning)\n"
     ]
    },
    {
     "name": "stdout",
     "output_type": "stream",
     "text": [
      "TF-IDF Model with min_df=0.2\n",
      "73\n",
      "Testing using test data:\n",
      "              precision    recall  f1-score   support\n",
      "\n",
      "           0       0.82      0.85      0.83      6361\n",
      "           1       0.85      0.82      0.83      6660\n",
      "\n",
      "    accuracy                           0.83     13021\n",
      "   macro avg       0.83      0.83      0.83     13021\n",
      "weighted avg       0.83      0.83      0.83     13021\n",
      "\n",
      "------------------------------------------\n",
      "------------------------------------------\n"
     ]
    },
    {
     "name": "stderr",
     "output_type": "stream",
     "text": [
      "/Users/joshuawong/miniforge3/envs/tensorflow/lib/python3.9/site-packages/sklearn/utils/deprecation.py:87: FutureWarning: Function get_feature_names is deprecated; get_feature_names is deprecated in 1.0 and will be removed in 1.2. Please use get_feature_names_out instead.\n",
      "  warnings.warn(msg, category=FutureWarning)\n"
     ]
    },
    {
     "name": "stdout",
     "output_type": "stream",
     "text": [
      "TF-IDF Model with min_df=0.2\n",
      "73\n",
      "Testing using test data:\n",
      "              precision    recall  f1-score   support\n",
      "\n",
      "           0       0.82      0.85      0.83      6361\n",
      "           1       0.85      0.82      0.83      6660\n",
      "\n",
      "    accuracy                           0.83     13021\n",
      "   macro avg       0.83      0.83      0.83     13021\n",
      "weighted avg       0.83      0.83      0.83     13021\n",
      "\n",
      "------------------------------------------\n",
      "------------------------------------------\n"
     ]
    },
    {
     "name": "stderr",
     "output_type": "stream",
     "text": [
      "/Users/joshuawong/miniforge3/envs/tensorflow/lib/python3.9/site-packages/sklearn/utils/deprecation.py:87: FutureWarning: Function get_feature_names is deprecated; get_feature_names is deprecated in 1.0 and will be removed in 1.2. Please use get_feature_names_out instead.\n",
      "  warnings.warn(msg, category=FutureWarning)\n"
     ]
    },
    {
     "name": "stdout",
     "output_type": "stream",
     "text": [
      "TF-IDF Model with min_df=0.2\n",
      "73\n",
      "Testing using test data:\n",
      "              precision    recall  f1-score   support\n",
      "\n",
      "           0       0.82      0.85      0.83      6361\n",
      "           1       0.85      0.82      0.83      6660\n",
      "\n",
      "    accuracy                           0.83     13021\n",
      "   macro avg       0.83      0.83      0.83     13021\n",
      "weighted avg       0.83      0.83      0.83     13021\n",
      "\n",
      "------------------------------------------\n",
      "------------------------------------------\n"
     ]
    },
    {
     "name": "stderr",
     "output_type": "stream",
     "text": [
      "/Users/joshuawong/miniforge3/envs/tensorflow/lib/python3.9/site-packages/sklearn/utils/deprecation.py:87: FutureWarning: Function get_feature_names is deprecated; get_feature_names is deprecated in 1.0 and will be removed in 1.2. Please use get_feature_names_out instead.\n",
      "  warnings.warn(msg, category=FutureWarning)\n"
     ]
    }
   ],
   "source": [
    "# Try 1\n",
    "print('--------------------TF-IDF--------------------')\n",
    "for min_value in min_threshold_config:\n",
    "    for max_value in max_threshold_config:\n",
    "        tfidf_vectorizer = TfidfVectorizer(stop_words='english', ngram_range=(1,2), min_df=min_value) #, max_df=max_value\n",
    "        tfidf_vectorizer.fit(X_train_text)\n",
    "\n",
    "        X_train = tfidf_vectorizer.transform(X_train_text)\n",
    "        # X_val = tfidf_vectorizer.transform(X_val_text)\n",
    "        X_test = tfidf_vectorizer.transform(X_test_text)\n",
    "\n",
    "        print(f'TF-IDF Model with min_df={min_value}') #, max_df={max_value}\n",
    "        naive_bayes_clf.fit(X_train, y_train)\n",
    "        print(len(tfidf_vectorizer.get_feature_names()))\n",
    "\n",
    "        # #Validation Data\n",
    "        # print('Testing with validation data:')\n",
    "        # val_pred = naive_bayes_clf.predict(X_val)\n",
    "        # print(classification_report(y_val, val_pred))\n",
    "        # print(\"------------------------------------------\")\n",
    "\n",
    "        # Test Data\n",
    "        print('Testing using test data:')\n",
    "        test_pred = naive_bayes_clf.predict(X_test)\n",
    "        print(classification_report(y_test, test_pred))\n",
    "        print(\"------------------------------------------\")\n",
    "        print(\"------------------------------------------\")"
   ]
  },
  {
   "cell_type": "markdown",
   "metadata": {},
   "source": [
    "### Try 2 with min_df only in smaller increments of 0.01"
   ]
  },
  {
   "cell_type": "code",
   "execution_count": 77,
   "metadata": {},
   "outputs": [
    {
     "name": "stdout",
     "output_type": "stream",
     "text": [
      "--------------------TF-IDF--------------------\n",
      "TF-IDF Model with min_df=0.0\n"
     ]
    },
    {
     "name": "stderr",
     "output_type": "stream",
     "text": [
      "/Users/joshuawong/miniforge3/envs/tensorflow/lib/python3.9/site-packages/sklearn/utils/deprecation.py:87: FutureWarning: Function get_feature_names is deprecated; get_feature_names is deprecated in 1.0 and will be removed in 1.2. Please use get_feature_names_out instead.\n",
      "  warnings.warn(msg, category=FutureWarning)\n"
     ]
    },
    {
     "name": "stdout",
     "output_type": "stream",
     "text": [
      "4540301\n",
      "Testing using test data:\n",
      "              precision    recall  f1-score   support\n",
      "\n",
      "           0       0.96      0.87      0.91      6361\n",
      "           1       0.89      0.96      0.92      6660\n",
      "\n",
      "    accuracy                           0.92     13021\n",
      "   macro avg       0.92      0.92      0.92     13021\n",
      "weighted avg       0.92      0.92      0.92     13021\n",
      "\n",
      "------------------------------------------\n",
      "------------------------------------------\n",
      "TF-IDF Model with min_df=0.01\n",
      "3373\n",
      "Testing using test data:\n",
      "              precision    recall  f1-score   support\n",
      "\n",
      "           0       0.88      0.81      0.84      6361\n",
      "           1       0.83      0.90      0.86      6660\n",
      "\n",
      "    accuracy                           0.85     13021\n",
      "   macro avg       0.86      0.85      0.85     13021\n",
      "weighted avg       0.86      0.85      0.85     13021\n",
      "\n",
      "------------------------------------------\n",
      "------------------------------------------\n"
     ]
    },
    {
     "name": "stderr",
     "output_type": "stream",
     "text": [
      "/Users/joshuawong/miniforge3/envs/tensorflow/lib/python3.9/site-packages/sklearn/utils/deprecation.py:87: FutureWarning: Function get_feature_names is deprecated; get_feature_names is deprecated in 1.0 and will be removed in 1.2. Please use get_feature_names_out instead.\n",
      "  warnings.warn(msg, category=FutureWarning)\n"
     ]
    },
    {
     "name": "stdout",
     "output_type": "stream",
     "text": [
      "TF-IDF Model with min_df=0.02\n",
      "1923\n",
      "Testing using test data:\n",
      "              precision    recall  f1-score   support\n",
      "\n",
      "           0       0.87      0.81      0.84      6361\n",
      "           1       0.83      0.88      0.85      6660\n",
      "\n",
      "    accuracy                           0.84     13021\n",
      "   macro avg       0.85      0.84      0.84     13021\n",
      "weighted avg       0.85      0.84      0.84     13021\n",
      "\n",
      "------------------------------------------\n",
      "------------------------------------------\n"
     ]
    },
    {
     "name": "stderr",
     "output_type": "stream",
     "text": [
      "/Users/joshuawong/miniforge3/envs/tensorflow/lib/python3.9/site-packages/sklearn/utils/deprecation.py:87: FutureWarning: Function get_feature_names is deprecated; get_feature_names is deprecated in 1.0 and will be removed in 1.2. Please use get_feature_names_out instead.\n",
      "  warnings.warn(msg, category=FutureWarning)\n"
     ]
    },
    {
     "name": "stdout",
     "output_type": "stream",
     "text": [
      "TF-IDF Model with min_df=0.03\n",
      "1330\n",
      "Testing using test data:\n",
      "              precision    recall  f1-score   support\n",
      "\n",
      "           0       0.86      0.80      0.83      6361\n",
      "           1       0.82      0.87      0.84      6660\n",
      "\n",
      "    accuracy                           0.84     13021\n",
      "   macro avg       0.84      0.83      0.83     13021\n",
      "weighted avg       0.84      0.84      0.83     13021\n",
      "\n",
      "------------------------------------------\n",
      "------------------------------------------\n"
     ]
    },
    {
     "name": "stderr",
     "output_type": "stream",
     "text": [
      "/Users/joshuawong/miniforge3/envs/tensorflow/lib/python3.9/site-packages/sklearn/utils/deprecation.py:87: FutureWarning: Function get_feature_names is deprecated; get_feature_names is deprecated in 1.0 and will be removed in 1.2. Please use get_feature_names_out instead.\n",
      "  warnings.warn(msg, category=FutureWarning)\n"
     ]
    },
    {
     "name": "stdout",
     "output_type": "stream",
     "text": [
      "TF-IDF Model with min_df=0.04\n",
      "1042\n",
      "Testing using test data:\n",
      "              precision    recall  f1-score   support\n",
      "\n",
      "           0       0.85      0.80      0.82      6361\n",
      "           1       0.82      0.87      0.84      6660\n",
      "\n",
      "    accuracy                           0.83     13021\n",
      "   macro avg       0.83      0.83      0.83     13021\n",
      "weighted avg       0.83      0.83      0.83     13021\n",
      "\n",
      "------------------------------------------\n",
      "------------------------------------------\n"
     ]
    },
    {
     "name": "stderr",
     "output_type": "stream",
     "text": [
      "/Users/joshuawong/miniforge3/envs/tensorflow/lib/python3.9/site-packages/sklearn/utils/deprecation.py:87: FutureWarning: Function get_feature_names is deprecated; get_feature_names is deprecated in 1.0 and will be removed in 1.2. Please use get_feature_names_out instead.\n",
      "  warnings.warn(msg, category=FutureWarning)\n"
     ]
    },
    {
     "name": "stdout",
     "output_type": "stream",
     "text": [
      "TF-IDF Model with min_df=0.05\n",
      "818\n",
      "Testing using test data:\n",
      "              precision    recall  f1-score   support\n",
      "\n",
      "           0       0.85      0.79      0.82      6361\n",
      "           1       0.81      0.86      0.84      6660\n",
      "\n",
      "    accuracy                           0.83     13021\n",
      "   macro avg       0.83      0.83      0.83     13021\n",
      "weighted avg       0.83      0.83      0.83     13021\n",
      "\n",
      "------------------------------------------\n",
      "------------------------------------------\n"
     ]
    },
    {
     "name": "stderr",
     "output_type": "stream",
     "text": [
      "/Users/joshuawong/miniforge3/envs/tensorflow/lib/python3.9/site-packages/sklearn/utils/deprecation.py:87: FutureWarning: Function get_feature_names is deprecated; get_feature_names is deprecated in 1.0 and will be removed in 1.2. Please use get_feature_names_out instead.\n",
      "  warnings.warn(msg, category=FutureWarning)\n"
     ]
    },
    {
     "name": "stdout",
     "output_type": "stream",
     "text": [
      "TF-IDF Model with min_df=0.06\n",
      "649\n",
      "Testing using test data:\n",
      "              precision    recall  f1-score   support\n",
      "\n",
      "           0       0.85      0.80      0.82      6361\n",
      "           1       0.82      0.86      0.84      6660\n",
      "\n",
      "    accuracy                           0.83     13021\n",
      "   macro avg       0.83      0.83      0.83     13021\n",
      "weighted avg       0.83      0.83      0.83     13021\n",
      "\n",
      "------------------------------------------\n",
      "------------------------------------------\n"
     ]
    },
    {
     "name": "stderr",
     "output_type": "stream",
     "text": [
      "/Users/joshuawong/miniforge3/envs/tensorflow/lib/python3.9/site-packages/sklearn/utils/deprecation.py:87: FutureWarning: Function get_feature_names is deprecated; get_feature_names is deprecated in 1.0 and will be removed in 1.2. Please use get_feature_names_out instead.\n",
      "  warnings.warn(msg, category=FutureWarning)\n"
     ]
    },
    {
     "name": "stdout",
     "output_type": "stream",
     "text": [
      "TF-IDF Model with min_df=0.07\n",
      "525\n",
      "Testing using test data:\n",
      "              precision    recall  f1-score   support\n",
      "\n",
      "           0       0.84      0.80      0.82      6361\n",
      "           1       0.82      0.85      0.84      6660\n",
      "\n",
      "    accuracy                           0.83     13021\n",
      "   macro avg       0.83      0.83      0.83     13021\n",
      "weighted avg       0.83      0.83      0.83     13021\n",
      "\n",
      "------------------------------------------\n",
      "------------------------------------------\n"
     ]
    },
    {
     "name": "stderr",
     "output_type": "stream",
     "text": [
      "/Users/joshuawong/miniforge3/envs/tensorflow/lib/python3.9/site-packages/sklearn/utils/deprecation.py:87: FutureWarning: Function get_feature_names is deprecated; get_feature_names is deprecated in 1.0 and will be removed in 1.2. Please use get_feature_names_out instead.\n",
      "  warnings.warn(msg, category=FutureWarning)\n"
     ]
    },
    {
     "name": "stdout",
     "output_type": "stream",
     "text": [
      "TF-IDF Model with min_df=0.08\n",
      "435\n",
      "Testing using test data:\n",
      "              precision    recall  f1-score   support\n",
      "\n",
      "           0       0.84      0.81      0.83      6361\n",
      "           1       0.82      0.85      0.84      6660\n",
      "\n",
      "    accuracy                           0.83     13021\n",
      "   macro avg       0.83      0.83      0.83     13021\n",
      "weighted avg       0.83      0.83      0.83     13021\n",
      "\n",
      "------------------------------------------\n",
      "------------------------------------------\n"
     ]
    },
    {
     "name": "stderr",
     "output_type": "stream",
     "text": [
      "/Users/joshuawong/miniforge3/envs/tensorflow/lib/python3.9/site-packages/sklearn/utils/deprecation.py:87: FutureWarning: Function get_feature_names is deprecated; get_feature_names is deprecated in 1.0 and will be removed in 1.2. Please use get_feature_names_out instead.\n",
      "  warnings.warn(msg, category=FutureWarning)\n"
     ]
    },
    {
     "name": "stdout",
     "output_type": "stream",
     "text": [
      "TF-IDF Model with min_df=0.09\n",
      "374\n",
      "Testing using test data:\n",
      "              precision    recall  f1-score   support\n",
      "\n",
      "           0       0.84      0.82      0.83      6361\n",
      "           1       0.83      0.85      0.84      6660\n",
      "\n",
      "    accuracy                           0.84     13021\n",
      "   macro avg       0.84      0.84      0.84     13021\n",
      "weighted avg       0.84      0.84      0.84     13021\n",
      "\n",
      "------------------------------------------\n",
      "------------------------------------------\n"
     ]
    },
    {
     "name": "stderr",
     "output_type": "stream",
     "text": [
      "/Users/joshuawong/miniforge3/envs/tensorflow/lib/python3.9/site-packages/sklearn/utils/deprecation.py:87: FutureWarning: Function get_feature_names is deprecated; get_feature_names is deprecated in 1.0 and will be removed in 1.2. Please use get_feature_names_out instead.\n",
      "  warnings.warn(msg, category=FutureWarning)\n"
     ]
    },
    {
     "name": "stdout",
     "output_type": "stream",
     "text": [
      "TF-IDF Model with min_df=0.1\n",
      "316\n",
      "Testing using test data:\n",
      "              precision    recall  f1-score   support\n",
      "\n",
      "           0       0.84      0.82      0.83      6361\n",
      "           1       0.83      0.85      0.84      6660\n",
      "\n",
      "    accuracy                           0.84     13021\n",
      "   macro avg       0.84      0.84      0.84     13021\n",
      "weighted avg       0.84      0.84      0.84     13021\n",
      "\n",
      "------------------------------------------\n",
      "------------------------------------------\n"
     ]
    },
    {
     "name": "stderr",
     "output_type": "stream",
     "text": [
      "/Users/joshuawong/miniforge3/envs/tensorflow/lib/python3.9/site-packages/sklearn/utils/deprecation.py:87: FutureWarning: Function get_feature_names is deprecated; get_feature_names is deprecated in 1.0 and will be removed in 1.2. Please use get_feature_names_out instead.\n",
      "  warnings.warn(msg, category=FutureWarning)\n"
     ]
    },
    {
     "name": "stdout",
     "output_type": "stream",
     "text": [
      "TF-IDF Model with min_df=0.11\n",
      "269\n",
      "Testing using test data:\n",
      "              precision    recall  f1-score   support\n",
      "\n",
      "           0       0.84      0.84      0.84      6361\n",
      "           1       0.84      0.85      0.85      6660\n",
      "\n",
      "    accuracy                           0.84     13021\n",
      "   macro avg       0.84      0.84      0.84     13021\n",
      "weighted avg       0.84      0.84      0.84     13021\n",
      "\n",
      "------------------------------------------\n",
      "------------------------------------------\n"
     ]
    },
    {
     "name": "stderr",
     "output_type": "stream",
     "text": [
      "/Users/joshuawong/miniforge3/envs/tensorflow/lib/python3.9/site-packages/sklearn/utils/deprecation.py:87: FutureWarning: Function get_feature_names is deprecated; get_feature_names is deprecated in 1.0 and will be removed in 1.2. Please use get_feature_names_out instead.\n",
      "  warnings.warn(msg, category=FutureWarning)\n"
     ]
    },
    {
     "name": "stdout",
     "output_type": "stream",
     "text": [
      "TF-IDF Model with min_df=0.12\n",
      "226\n",
      "Testing using test data:\n",
      "              precision    recall  f1-score   support\n",
      "\n",
      "           0       0.84      0.84      0.84      6361\n",
      "           1       0.84      0.84      0.84      6660\n",
      "\n",
      "    accuracy                           0.84     13021\n",
      "   macro avg       0.84      0.84      0.84     13021\n",
      "weighted avg       0.84      0.84      0.84     13021\n",
      "\n",
      "------------------------------------------\n",
      "------------------------------------------\n"
     ]
    },
    {
     "name": "stderr",
     "output_type": "stream",
     "text": [
      "/Users/joshuawong/miniforge3/envs/tensorflow/lib/python3.9/site-packages/sklearn/utils/deprecation.py:87: FutureWarning: Function get_feature_names is deprecated; get_feature_names is deprecated in 1.0 and will be removed in 1.2. Please use get_feature_names_out instead.\n",
      "  warnings.warn(msg, category=FutureWarning)\n"
     ]
    },
    {
     "name": "stdout",
     "output_type": "stream",
     "text": [
      "TF-IDF Model with min_df=0.13\n",
      "198\n",
      "Testing using test data:\n",
      "              precision    recall  f1-score   support\n",
      "\n",
      "           0       0.83      0.84      0.84      6361\n",
      "           1       0.85      0.84      0.84      6660\n",
      "\n",
      "    accuracy                           0.84     13021\n",
      "   macro avg       0.84      0.84      0.84     13021\n",
      "weighted avg       0.84      0.84      0.84     13021\n",
      "\n",
      "------------------------------------------\n",
      "------------------------------------------\n"
     ]
    },
    {
     "name": "stderr",
     "output_type": "stream",
     "text": [
      "/Users/joshuawong/miniforge3/envs/tensorflow/lib/python3.9/site-packages/sklearn/utils/deprecation.py:87: FutureWarning: Function get_feature_names is deprecated; get_feature_names is deprecated in 1.0 and will be removed in 1.2. Please use get_feature_names_out instead.\n",
      "  warnings.warn(msg, category=FutureWarning)\n"
     ]
    },
    {
     "name": "stdout",
     "output_type": "stream",
     "text": [
      "TF-IDF Model with min_df=0.14\n",
      "169\n",
      "Testing using test data:\n",
      "              precision    recall  f1-score   support\n",
      "\n",
      "           0       0.84      0.85      0.84      6361\n",
      "           1       0.85      0.85      0.85      6660\n",
      "\n",
      "    accuracy                           0.85     13021\n",
      "   macro avg       0.85      0.85      0.85     13021\n",
      "weighted avg       0.85      0.85      0.85     13021\n",
      "\n",
      "------------------------------------------\n",
      "------------------------------------------\n"
     ]
    },
    {
     "name": "stderr",
     "output_type": "stream",
     "text": [
      "/Users/joshuawong/miniforge3/envs/tensorflow/lib/python3.9/site-packages/sklearn/utils/deprecation.py:87: FutureWarning: Function get_feature_names is deprecated; get_feature_names is deprecated in 1.0 and will be removed in 1.2. Please use get_feature_names_out instead.\n",
      "  warnings.warn(msg, category=FutureWarning)\n"
     ]
    },
    {
     "name": "stdout",
     "output_type": "stream",
     "text": [
      "TF-IDF Model with min_df=0.15\n",
      "134\n",
      "Testing using test data:\n",
      "              precision    recall  f1-score   support\n",
      "\n",
      "           0       0.85      0.86      0.85      6361\n",
      "           1       0.86      0.85      0.86      6660\n",
      "\n",
      "    accuracy                           0.85     13021\n",
      "   macro avg       0.85      0.85      0.85     13021\n",
      "weighted avg       0.85      0.85      0.85     13021\n",
      "\n",
      "------------------------------------------\n",
      "------------------------------------------\n"
     ]
    },
    {
     "name": "stderr",
     "output_type": "stream",
     "text": [
      "/Users/joshuawong/miniforge3/envs/tensorflow/lib/python3.9/site-packages/sklearn/utils/deprecation.py:87: FutureWarning: Function get_feature_names is deprecated; get_feature_names is deprecated in 1.0 and will be removed in 1.2. Please use get_feature_names_out instead.\n",
      "  warnings.warn(msg, category=FutureWarning)\n"
     ]
    }
   ],
   "source": [
    "print('--------------------TF-IDF--------------------')\n",
    "for min_value in values:\n",
    "    tfidf_vectorizer = TfidfVectorizer(stop_words='english', ngram_range=(1,2), min_df=min_value)\n",
    "    tfidf_vectorizer.fit(X_train_text)\n",
    "\n",
    "    X_train = tfidf_vectorizer.transform(X_train_text)\n",
    "    # X_val = tfidf_vectorizer.transform(X_val_text)\n",
    "    X_test = tfidf_vectorizer.transform(X_test_text)\n",
    "\n",
    "    print(f'TF-IDF Model with min_df={min_value}')\n",
    "    naive_bayes_clf.fit(X_train, y_train)\n",
    "    num_features = len(tfidf_vectorizer.get_feature_names())\n",
    "    print(num_features)\n",
    "    tfidf_numfeatures.append(num_features)\n",
    "\n",
    "    # #Validation Data\n",
    "    # print('Testing with validation data:')\n",
    "    # val_pred = naive_bayes_clf.predict(X_val)\n",
    "    # print(classification_report(y_val, val_pred))\n",
    "    # print(\"------------------------------------------\")\n",
    "\n",
    "    # Test Data\n",
    "    print('Testing using test data:')\n",
    "    test_pred = naive_bayes_clf.predict(X_test)\n",
    "    report = classification_report(y_test, test_pred)\n",
    "    print(report)\n",
    "    print(\"------------------------------------------\")\n",
    "    print(\"------------------------------------------\")\n",
    "\n",
    "    precision, recall, f1score = get_weighted_average(report)\n",
    "    tfidf_precision.append(precision)\n",
    "    tfidf_recall.append(recall)\n",
    "    tfidf_f1score.append(f1score)\n"
   ]
  },
  {
   "cell_type": "markdown",
   "metadata": {},
   "source": [
    "### Tuning max_features instead"
   ]
  },
  {
   "cell_type": "code",
   "execution_count": 47,
   "metadata": {},
   "outputs": [
    {
     "name": "stdout",
     "output_type": "stream",
     "text": [
      "TF-IDF Model with min_df=0.2\n",
      "10000\n",
      "Testing using test data:\n",
      "              precision    recall  f1-score   support\n",
      "\n",
      "           0       0.91      0.84      0.87      6361\n",
      "           1       0.86      0.92      0.89      6660\n",
      "\n",
      "    accuracy                           0.88     13021\n",
      "   macro avg       0.88      0.88      0.88     13021\n",
      "weighted avg       0.88      0.88      0.88     13021\n",
      "\n",
      "------------------------------------------\n",
      "------------------------------------------\n"
     ]
    }
   ],
   "source": [
    "tfidf_vectorizer = TfidfVectorizer(stop_words='english', ngram_range=(1,2), max_features=10000) #, max_df=max_value\n",
    "tfidf_vectorizer.fit(X_train_text)\n",
    "\n",
    "X_train = tfidf_vectorizer.transform(X_train_text)\n",
    "X_val = tfidf_vectorizer.transform(X_val_text)\n",
    "X_test = tfidf_vectorizer.transform(X_test_text)\n",
    "\n",
    "print(f'TF-IDF Model with min_df={min_value}') #, max_df={max_value}\n",
    "naive_bayes_clf.fit(X_train, y_train)\n",
    "print(len(tfidf_vectorizer.get_feature_names()))\n",
    "\n",
    "# #Validation Data\n",
    "# print('Testing with validation data:')\n",
    "# val_pred = naive_bayes_clf.predict(X_val)\n",
    "# print(classification_report(y_val, val_pred))\n",
    "# print(\"------------------------------------------\")\n",
    "\n",
    "# Test Data\n",
    "print('Testing using test data:')\n",
    "test_pred = naive_bayes_clf.predict(X_test)\n",
    "print(classification_report(y_test, test_pred))\n",
    "print(\"------------------------------------------\")\n",
    "print(\"------------------------------------------\")"
   ]
  },
  {
   "cell_type": "markdown",
   "metadata": {},
   "source": [
    "### Finding out which words were eliminated and kept"
   ]
  },
  {
   "cell_type": "code",
   "execution_count": 18,
   "metadata": {},
   "outputs": [
    {
     "name": "stdout",
     "output_type": "stream",
     "text": [
      "['000', '10', '10 percent', '10 year', '100', '1000', '10000', '100000', '11', '12', '13', '14', '15', '150', '16', '17', '18', '19', '1960', '1970', '1980', '1990', '20', '20 percent', '20 year', '200', '2000', '2001', '2002', '2003', '2004', '2005', '2006', '2007', '2008', '2009', '2010', '2011', '2012', '2013', '2014', '2015', '2016', '2016 elect', '2016 presidenti', '2017', '2018', '2019', '2020', '21', '21st', '21st centuri', '21wire', '21wiretv', '22', '23', '24', '25', '26', '27', '28', '29', '30', '300', '31', '32', '33', '34', '35', '36', '37', '38', '39', '40', '400', '41', '42', '43', '44', '45', '46', '48', '49', '50', '500', '51', '52', '55', '60', '600', '65', '70', '75', '80', '800', '90', '911', 'abandon', 'abc', 'abil', 'abl', 'abort', 'abroad', 'absenc', 'absolut', 'absurd', 'abus', 'academ', 'academi', 'acceler', 'accept', 'access', 'accid', 'accompani', 'accomplish', 'accord', 'accord report', 'account', 'accur', 'accus', 'achiev', 'acknowledg', 'acquir', 'act', 'action', 'activ', 'activist', 'actor', 'actress', 'actual', 'ad', 'adam', 'add', 'addit', 'address', 'adjust', 'administr', 'administr offici', 'admir', 'admiss', 'admit', 'adopt', 'adult', 'advanc', 'advantag', 'advertis', 'advic', 'advis', 'advisor', 'advoc', 'advocaci', 'affair', 'affect', 'affili', 'afford', 'afford care', 'afghanistan', 'afraid', 'africa', 'african', 'africanamerican', 'aftermath', 'afternoon', 'afterward', 'age', 'agenc', 'agenc said', 'agenda', 'agent', 'aggress', 'ago', 'agre', 'agreement', 'agricultur', 'ahead', 'aid', 'aim', 'air', 'air forc', 'aircraft', 'airlin', 'airport', 'al', 'al qaeda', 'alabama', 'alarm', 'alert', 'alex', 'ali', 'alien', 'align', 'aliv', 'alleg', 'allegedli', 'alli', 'allianc', 'allow', 'alon', 'alongsid', 'alreadi', 'alter', 'altern', 'alway', 'amaz', 'ambassador', 'ambit', 'amend', 'america', 'america great', 'american', 'american citizen', 'american peopl', 'amid', 'analysi', 'analyst', 'anchor', 'andrew', 'angel', 'angela', 'angela merkel', 'anger', 'angri', 'anim', 'ann', 'announc', 'annual', 'anonym', 'anoth', 'answer', 'answer question', 'anthoni', 'anticip', 'antitrump', 'anybodi', 'anymor', 'anyon', 'anyth', 'anywher', 'apart', 'apolog', 'appar', 'appeal', 'appear', 'appl', 'appli', 'applic', 'appoint', 'appreci', 'approach', 'appropri', 'approv', 'approxim', 'april', 'arab', 'arabia', 'area', 'aren', 'arent', 'argu', 'argument', 'arizona', 'arm', 'armi', 'arrang', 'arrest', 'arriv', 'art', 'articl', 'artist', 'asia', 'asian', 'asid', 'ask', 'ask question', 'aspect', 'ass', 'assad', 'assassin', 'assault', 'assembl', 'assert', 'assess', 'asset', 'assign', 'assist', 'associ', 'associ press', 'assum', 'assur', 'asylum', 'athlet', 'atlant', 'atmospher', 'attach', 'attack', 'attempt', 'attend', 'attent', 'attitud', 'attorney', 'attorney gener', 'attract', 'attribut', 'audienc', 'audio', 'aug', 'august', 'australia', 'author', 'automat', 'avail', 'avenu', 'averag', 'avoid', 'await', 'awar', 'award', 'away', 'babi', 'background', 'backlash', 'bad', 'badli', 'bag', 'balanc', 'ball', 'ballist', 'ballist missil', 'ballot', 'ban', 'band', 'bank', 'banker', 'bannon', 'bar', 'barack', 'barack obama', 'bare', 'barrier', 'base', 'bashar', 'basi', 'basic', 'bathroom', 'battl', 'bay', 'beach', 'bear', 'beat', 'beauti', 'becam', 'becom', 'becom member', 'becom presid', 'bed', 'beg', 'began', 'begin', 'begun', 'behalf', 'behavior', 'beij', 'belief', 'believ', 'belong', 'ben', 'benefit', 'benghazi', 'benjamin', 'berlin', 'berni', 'berni sander', 'besid', 'best', 'bet', 'betray', 'better', 'bia', 'bid', 'big', 'bigger', 'biggest', 'bigot', 'bilater', 'billion', 'billion dollar', 'billionair', 'bipartisan', 'birth', 'bit', 'bitter', 'bizarr', 'black', 'black live', 'blame', 'blast', 'bless', 'blind', 'bloc', 'block', 'blog', 'blood', 'bloodi', 'blow', 'blue', 'board', 'boast', 'boat', 'bob', 'bodi', 'bolster', 'bomb', 'bond', 'book', 'boom', 'boost', 'border', 'born', 'boss', 'boston', 'bother', 'bought', 'bound', 'box', 'boy', 'brag', 'brain', 'branch', 'brand', 'brave', 'brazil', 'breach', 'break', 'breath', 'breitbart', 'breitbart news', 'brexit', 'brian', 'bridg', 'brief', 'briefli', 'brilliant', 'bring', 'britain', 'british', 'broad', 'broadcast', 'broader', 'broke', 'broken', 'brooklyn', 'brother', 'brought', 'brown', 'brussel', 'brutal', 'bu', 'budget', 'build', 'build wall', 'built', 'bullet', 'bulli', 'bunch', 'burden', 'bureau', 'buri', 'burn', 'bush', 'busi', 'businessman', 'bust', 'buy', 'cabinet', 'cabl', 'calcul', 'california', 'caller', 'calm', 'came', 'camera', 'camp', 'campaign', 'campaign manag', 'campaign promis', 'campaign trail', 'campu', 'canada', 'canadian', 'cancel', 'cancer', 'candid', 'candid donald', 'candid hillari', 'candidaci', 'cap', 'capabl', 'capac', 'capit', 'capitol', 'capitol hill', 'captur', 'car', 'card', 'care', 'care act', 'career', 'carolina', 'carri', 'carter', 'case', 'cash', 'cast', 'casualti', 'catastroph', 'catch', 'categori', 'cathol', 'caucu', 'caught', 'caus', 'caution', 'cb', 'celebr', 'cell', 'center', 'central', 'centuri', 'centuri wire', 'ceo', 'ceremoni', 'certain', 'certainli', 'chain', 'chair', 'chairman', 'challeng', 'chamber', 'champion', 'chanc', 'chancellor', 'chancellor angela', 'chang', 'channel', 'chant', 'chao', 'chapter', 'charact', 'character', 'charg', 'chariti', 'charl', 'chase', 'cheap', 'check', 'cheer', 'chemic', 'chicago', 'chief', 'chief execut', 'chief staff', 'child', 'children', 'china', 'chines', 'chip', 'choic', 'choos', 'chose', 'chosen', 'chri', 'christian', 'christma', 'chuck', 'church', 'cia', 'circl', 'circuit', 'circul', 'circumst', 'cite', 'citi', 'citizen', 'citizenship', 'civil', 'civil right', 'civil war', 'civilian', 'claim', 'clarifi', 'clash', 'class', 'classic', 'classifi', 'classifi inform', 'clean', 'clear', 'clearli', 'cleveland', 'click', 'client', 'climat', 'climat chang', 'climb', 'clinic', 'clinton', 'clinton campaign', 'clinton email', 'clinton foundat', 'clinton said', 'clip', 'close', 'closer', 'closest', 'cloth', 'club', 'cnn', 'coach', 'coal', 'coalit', 'coast', 'code', 'coincid', 'cold', 'cold war', 'collabor', 'collaps', 'colleagu', 'collect', 'colleg', 'collus', 'color', 'colorado', 'columbia', 'columnist', 'combat', 'combin', 'come', 'comey', 'comfort', 'command', 'comment', 'commentari', 'commerc', 'commerci', 'commiss', 'commission', 'commit', 'committe', 'committe chairman', 'committe said', 'common', 'commun', 'communist', 'compani', 'compar', 'comparison', 'compel', 'compet', 'competit', 'complain', 'complaint', 'complet', 'complex', 'compli', 'complic', 'compound', 'comprehens', 'compromis', 'comput', 'conced', 'concentr', 'concept', 'concern', 'concert', 'conclud', 'conclus', 'concret', 'condemn', 'condit', 'condit anonym', 'conduct', 'confer', 'confid', 'confirm', 'conflict', 'confront', 'confus', 'congress', 'congression', 'congressman', 'connect', 'consensu', 'consequ', 'conserv', 'consid', 'consider', 'consist', 'conspiraci', 'constant', 'constantli', 'constitu', 'constitut', 'construct', 'consult', 'consum', 'contact', 'contain', 'contend', 'content', 'contest', 'context', 'continu', 'contract', 'contractor', 'contradict', 'contrari', 'contrast', 'contribut', 'contributor', 'control', 'controversi', 'conveni', 'convent', 'convers', 'convict', 'convinc', 'cook', 'cool', 'cooper', 'coordin', 'cop', 'copi', 'core', 'corner', 'corp', 'corpor', 'correct', 'correspond', 'corrupt', 'cost', 'couldn', 'council', 'counsel', 'count', 'counter', 'counterpart', 'counti', 'countri', 'coup', 'coupl', 'courag', 'cours', 'court', 'court justic', 'court rule', 'cover', 'coverag', 'crack', 'crackdown', 'crash', 'crazi', 'creat', 'creation', 'creativ', 'credibl', 'credit', 'crew', 'cri', 'crime', 'crimin', 'crisi', 'critic', 'critic trump', 'crook', 'cross', 'crowd', 'crucial', 'crush', 'cruz', 'cuba', 'cultur', 'curb', 'currenc', 'current', 'custodi', 'custom', 'cut', 'cyber', 'cycl', 'daili', 'daili mail', 'dakota', 'damag', 'damn', 'dan', 'danc', 'danger', 'daniel', 'dare', 'dark', 'data', 'date', 'daughter', 'davi', 'david', 'day', 'dc', 'dead', 'deadli', 'deadlin', 'deal', 'death', 'debat', 'debt', 'dec', 'decad', 'decad ago', 'decemb', 'decid', 'decis', 'declar', 'declin', 'declin comment', 'dedic', 'deem', 'deep', 'deeper', 'deepli', 'defeat', 'defend', 'defens', 'defi', 'deficit', 'defin', 'definit', 'degre', 'delay', 'deleg', 'delet', 'deliber', 'deliv', 'dem', 'demand', 'democraci', 'democrat', 'democrat leader', 'democrat nation', 'democrat parti', 'democrat presid', 'democrat presidenti', 'democrat republican', 'democrat senat', 'demonstr', 'deni', 'denounc', 'depart', 'depart homeland', 'depart justic', 'depart said', 'departur', 'depend', 'depict', 'deploy', 'deport', 'depress', 'deputi', 'describ', 'descript', 'deserv', 'design', 'desir', 'desper', 'despit', 'destroy', 'destruct', 'detain', 'detect', 'detent', 'determin', 'detroit', 'devast', 'develop', 'devic', 'devot', 'dialogu', 'dictat', 'didn', 'didnt', 'die', 'differ', 'difficult', 'difficulti', 'dig', 'digit', 'dinner', 'diplomaci', 'diplomat', 'direct', 'directli', 'director', 'director jame', 'dirti', 'disabl', 'disagre', 'disappear', 'disappoint', 'disast', 'disclos', 'disclosur', 'discov', 'discredit', 'discrimin', 'discuss', 'diseas', 'disgrac', 'disgust', 'dismantl', 'dismiss', 'displac', 'display', 'disput', 'disrespect', 'disrupt', 'dissent', 'distanc', 'distinct', 'distract', 'distribut', 'district', 'disturb', 'divers', 'divid', 'divis', 'divorc', 'dnc', 'doctor', 'document', 'documentari', 'doesn', 'doesnt', 'dog', 'dollar', 'domest', 'domin', 'don', 'don know', 'don think', 'don want', 'donald', 'donald trump', 'donat', 'donor', 'dont', 'dont know', 'dont think', 'dont want', 'door', 'doubl', 'doubt', 'dozen', 'dr', 'draft', 'drag', 'drama', 'dramat', 'draw', 'drawn', 'dream', 'dress', 'drew', 'drill', 'drink', 'drive', 'driven', 'driver', 'drone', 'drop', 'drove', 'drug', 'dump', 'duti', 'eager', 'ear', 'earli', 'earlier', 'earlier month', 'earlier week', 'earlier year', 'earn', 'earth', 'eas', 'easi', 'easier', 'easili', 'east', 'eastern', 'eat', 'echo', 'econom', 'econom growth', 'economi', 'economist', 'edg', 'edit', 'editor', 'editori', 'educ', 'edward', 'effect', 'effici', 'effort', 'egypt', 'el', 'elabor', 'elect', 'elect campaign', 'elect day', 'elect offici', 'elect presid', 'elect trump', 'elector', 'electr', 'electron', 'element', 'elev', 'elig', 'elimin', 'elit', 'elizabeth', 'elsewher', 'email', 'email server', 'embarrass', 'embassi', 'embrac', 'emerg', 'emot', 'emphas', 'empir', 'employ', 'employe', 'empti', 'enabl', 'enact', 'encount', 'encourag', 'end', 'endors', 'endur', 'enemi', 'energi', 'enforc', 'engag', 'engin', 'england', 'english', 'enhanc', 'enjoy', 'enorm', 'ensur', 'enter', 'enterpris', 'entertain', 'entir', 'entiti', 'entitl', 'entri', 'environ', 'environment', 'episod', 'equal', 'equip', 'equival', 'era', 'eric', 'error', 'erupt', 'escal', 'escap', 'especi', 'essenti', 'establish', 'estat', 'estim', 'ethic', 'ethnic', 'eu', 'euro', 'europ', 'european', 'european union', 'evalu', 'event', 'eventu', 'everi', 'everi day', 'everi singl', 'everi time', 'everi year', 'everybodi', 'everyon', 'everyth', 'everywher', 'evid', 'evil', 'exact', 'exactli', 'examin', 'exampl', 'excel', 'excess', 'exchang', 'excit', 'exclud', 'exclus', 'excus', 'execut', 'execut director', 'execut order', 'exempt', 'exercis', 'exist', 'exit', 'expand', 'expans', 'expect', 'expens', 'experi', 'experienc', 'expert', 'expir', 'explain', 'explan', 'explod', 'exploit', 'explor', 'explos', 'export', 'expos', 'express', 'express concern', 'extend', 'extens', 'extent', 'extra', 'extraordinari', 'extrem', 'extremist', 'eye', 'fabric', 'face', 'facebook', 'facebook page', 'facil', 'fact', 'faction', 'factor', 'factori', 'fail', 'failur', 'fair', 'fairli', 'faith', 'fake', 'fake news', 'fall', 'fallen', 'fals', 'famili', 'famili member', 'familiar', 'famou', 'fan', 'far', 'farm', 'fashion', 'fast', 'fatal', 'fate', 'father', 'fault', 'favor', 'favorit', 'fbi', 'fbi director', 'fear', 'featur', 'featur imag', 'feb', 'februari', 'fed', 'feder', 'feder court', 'feder govern', 'feder judg', 'feder law', 'fee', 'feed', 'feel', 'feet', 'fell', 'fellow', 'felt', 'femal', 'fewer', 'field', 'fierc', 'fifth', 'fight', 'fighter', 'figur', 'file', 'film', 'final', 'financ', 'financi', 'fine', 'finger', 'finish', 'firearm', 'firm', 'fiscal', 'fish', 'fit', 'fix', 'flag', 'flaw', 'fled', 'flee', 'fli', 'flight', 'flip', 'flood', 'floor', 'florida', 'flow', 'flynn', 'focu', 'focus', 'folk', 'follow', 'follow twitter', 'food', 'foot', 'footag', 'footbal', 'forc', 'foreign', 'foreign minist', 'foreign ministri', 'foreign polici', 'forev', 'forget', 'form', 'formal', 'forth', 'fortun', 'forum', 'forward', 'fought', 'foundat', 'founder', 'fourth', 'fox', 'fox news', 'frame', 'franc', 'francisco', 'frank', 'frankli', 'fraud', 'free', 'free speech', 'free trade', 'freedom', 'french', 'frequent', 'fresh', 'friday', 'friend', 'friendli', 'frontrunn', 'frustrat', 'fuel', 'fulfil', 'fulli', 'fun', 'function', 'fund', 'fundament', 'fundrais', 'funni', 'futur', 'ga', 'gain', 'game', 'gang', 'gap', 'gari', 'gate', 'gather', 'gave', 'gay', 'gear', 'gender', 'gener', 'gener elect', 'genuin', 'georg', 'georg bush', 'georgia', 'german', 'germani', 'getti', 'getti imag', 'giant', 'gift', 'girl', 'given', 'glass', 'global', 'globe', 'goal', 'god', 'goe', 'gold', 'golden', 'golf', 'gon', 'gon na', 'gone', 'good', 'googl', 'gop', 'got', 'gotten', 'gov', 'govern', 'govern offici', 'govern said', 'governor', 'grab', 'graduat', 'graham', 'grand', 'grant', 'graphic', 'grave', 'great', 'greater', 'greatest', 'green', 'greet', 'grew', 'gross', 'ground', 'group', 'group said', 'grow', 'grown', 'growth', 'guarante', 'guard', 'guardian', 'guess', 'guest', 'guid', 'guilti', 'gulf', 'gun', 'guy', 'hack', 'hacker', 'hail', 'hair', 'half', 'hall', 'halt', 'hammer', 'hampshir', 'hand', 'handl', 'hang', 'happen', 'happi', 'harass', 'hard', 'harder', 'hardli', 'harm', 'harri', 'harsh', 'harvard', 'hasn', 'hat', 'hate', 'hatr', 'haven', 'havent', 'head', 'headlin', 'headquart', 'health', 'health care', 'health insur', 'healthcar', 'healthi', 'hear', 'heard', 'heart', 'heat', 'heavi', 'heavili', 'hedg', 'height', 'held', 'hell', 'help', 'heritag', 'hero', 'hey', 'hidden', 'hide', 'high', 'high school', 'higher', 'highest', 'highli', 'highlight', 'hilari', 'hill', 'hillari', 'hillari clinton', 'hint', 'hire', 'hispan', 'histor', 'histori', 'hit', 'hold', 'holder', 'hole', 'holi', 'holiday', 'hollywood', 'home', 'homeland', 'homeland secur', 'honest', 'honor', 'hope', 'horribl', 'horrif', 'hospit', 'host', 'hostil', 'hot', 'hotel', 'hour', 'hous', 'hous offici', 'hous press', 'hous repres', 'hous republican', 'hous said', 'hous senat', 'hous speaker', 'household', 'huge', 'human', 'human right', 'humanitarian', 'humili', 'hundr', 'hundr thousand', 'hunt', 'hurrican', 'hurt', 'husband', 'ice', 'id', 'idea', 'ideal', 'ident', 'identifi', 'ideolog', 'idiot', 'ignor', 'ii', 'ill', 'illeg', 'illeg alien', 'illeg immigr', 'illinoi', 'illustr', 'im', 'imag', 'imag video', 'imagin', 'immedi', 'immigr', 'immun', 'impact', 'impeach', 'implement', 'impli', 'implic', 'import', 'impos', 'imposs', 'impress', 'improv', 'inappropri', 'inaugur', 'incid', 'incit', 'includ', 'inclus', 'incom', 'increas', 'increasingli', 'incred', 'inde', 'independ', 'india', 'indian', 'indiana', 'indic', 'indict', 'individu', 'industri', 'inequ', 'inevit', 'infam', 'inflat', 'influenc', 'influenti', 'inform', 'infrastructur', 'initi', 'injur', 'injuri', 'inner', 'innoc', 'innov', 'inquiri', 'insan', 'insid', 'insist', 'inspir', 'instal', 'instanc', 'instead', 'institut', 'instruct', 'insult', 'insur', 'insurg', 'integr', 'intellectu', 'intellig', 'intellig agenc', 'intellig committe', 'intend', 'intens', 'intent', 'interact', 'interfer', 'interior', 'intern', 'internet', 'interpret', 'interven', 'intervent', 'interview', 'intimid', 'introduc', 'invad', 'invas', 'invest', 'investig', 'investor', 'invit', 'involv', 'iowa', 'iran', 'iranian', 'iraq', 'iraqi', 'iron', 'isi', 'islam', 'islam state', 'islamist', 'island', 'isn', 'isnt', 'isol', 'isra', 'israel', 'issu', 'itali', 'italian', 'item', 'ivanka', 'ive', 'jack', 'jail', 'jame', 'jame comey', 'jan', 'jan 20', 'januari', 'japan', 'japanes', 'jare', 'jason', 'jay', 'jeff', 'jeff session', 'jersey', 'jerusalem', 'jet', 'jew', 'jewish', 'jihadist', 'jim', 'jimmi', 'jinp', 'job', 'joe', 'john', 'john mccain', 'john podesta', 'johnson', 'join', 'joint', 'joke', 'jone', 'jordan', 'joseph', 'josh', 'journal', 'journalist', 'journey', 'joy', 'jr', 'judg', 'judgment', 'judici', 'judiciari', 'judiciari committe', 'juli', 'jump', 'june', 'juri', 'justic', 'justic depart', 'justifi', 'justin', 'kelli', 'kennedi', 'kentucki', 'kept', 'kerri', 'kevin', 'key', 'kick', 'kid', 'kill', 'killer', 'kim', 'kind', 'king', 'kingdom', 'km', 'knew', 'knock', 'know', 'knowledg', 'known', 'korea', 'korean', 'kremlin', 'kurdish', 'la', 'label', 'labor', 'lack', 'ladi', 'laid', 'land', 'languag', 'larg', 'larger', 'largest', 'lash', 'late', 'later', 'latest', 'latin', 'latino', 'laugh', 'launch', 'law', 'law enforc', 'lawmak', 'lawsuit', 'lawyer', 'lay', 'lead', 'leader', 'leader mitch', 'leadership', 'leagu', 'leak', 'lean', 'learn', 'leav', 'led', 'lee', 'left', 'leftist', 'leg', 'legaci', 'legal', 'legisl', 'legislatur', 'legitim', 'lesson', 'let', 'letter', 'level', 'liar', 'liber', 'liberti', 'libya', 'licens', 'lie', 'life', 'lifetim', 'lift', 'light', 'like', 'limit', 'line', 'link', 'list', 'listen', 'liter', 'littl', 'littl bit', 'live', 'live matter', 'll', 'lo', 'lo angel', 'load', 'loan', 'lobbi', 'lobbyist', 'local', 'locat', 'lock', 'logic', 'london', 'london reuter', 'long', 'long time', 'longer', 'longstand', 'longterm', 'longtim', 'look', 'look forward', 'lose', 'loss', 'lost', 'lot', 'lot peopl', 'love', 'low', 'lower', 'loyal', 'lynch', 'machin', 'mad', 'magazin', 'mail', 'main', 'mainli', 'mainstream', 'mainstream media', 'maintain', 'major', 'major leader', 'make', 'make america', 'make sens', 'make sure', 'maker', 'male', 'man', 'manag', 'mandat', 'manhattan', 'mani', 'mani peopl', 'mani year', 'manipul', 'manner', 'manufactur', 'map', 'march', 'marco', 'marco rubio', 'margin', 'mari', 'marin', 'mark', 'market', 'marri', 'marriag', 'martin', 'mass', 'massachusett', 'massacr', 'massiv', 'master', 'match', 'mate', 'materi', 'matt', 'matter', 'matthew', 'maximum', 'mayb', 'mayor', 'mccain', 'mcconnel', 'mean', 'meant', 'meanwhil', 'measur', 'mechan', 'meddl', 'media', 'media outlet', 'media report', 'medic', 'medicin', 'meet', 'member', 'member 21wiretv', 'member congress', 'membership', 'memo', 'memori', 'men', 'men women', 'mental', 'mention', 'mere', 'merkel', 'mess', 'messag', 'met', 'method', 'mexican', 'mexico', 'michael', 'michael flynn', 'michel', 'michigan', 'middl', 'middl east', 'migrant', 'migrat', 'mike', 'mike penc', 'mile', 'milit', 'militari', 'militia', 'miller', 'million', 'million american', 'million dollar', 'million peopl', 'mind', 'minimum', 'minist', 'minist theresa', 'ministri', 'ministri said', 'minnesota', 'minor', 'minut', 'mirror', 'miss', 'missil', 'mission', 'missouri', 'mistak', 'mitch', 'mitch mcconnel', 'mitt', 'mitt romney', 'mix', 'mobil', 'mock', 'model', 'moder', 'modern', 'mogul', 'moham', 'mom', 'moment', 'monday', 'money', 'monitor', 'month', 'month ago', 'moor', 'moral', 'morn', 'moscow', 'mosqu', 'mostli', 'mother', 'motion', 'motiv', 'mount', 'mountain', 'mouth', 'movement', 'movi', 'mr', 'mr clinton', 'mr obama', 'mr trump', 'ms', 'msnbc', 'multipl', 'murder', 'music', 'muslim', 'mutual', 'mysteri', 'na', 'nanci', 'narr', 'narrow', 'nation', 'nation committe', 'nation convent', 'nation secur', 'nationalist', 'nationwid', 'nativ', 'nato', 'natur', 'navi', 'nazi', 'nbc', 'near', 'nearbi', 'nearli', 'necessari', 'necessarili', 'need', 'neg', 'negoti', 'neighbor', 'neighborhood', 'net', 'network', 'neutral', 'nevada', 'new', 'new hampshir', 'new jersey', 'new presid', 'new york', 'newli', 'news', 'news 21st', 'news agenc', 'news confer', 'news media', 'news report', 'newspap', 'nice', 'night', 'nobodi', 'nomin', 'nomine', 'nomine donald', 'nonprofit', 'normal', 'north', 'north carolina', 'north korea', 'north korean', 'northern', 'notabl', 'note', 'noth', 'notic', 'notion', 'notori', 'nov', 'nov elect', 'novemb', 'novemb 2016', 'nuclear', 'nuclear weapon', 'number', 'numer', 'obama', 'obama administr', 'obama said', 'obamacar', 'object', 'oblig', 'observ', 'obsess', 'obstruct', 'obtain', 'obviou', 'obvious', 'occas', 'occasion', 'occup', 'occupi', 'occur', 'oct', 'octob', 'odd', 'offend', 'offens', 'offer', 'offic', 'offic said', 'offici', 'offici said', 'offici say', 'offici told', 'oh', 'ohio', 'oil', 'ok', 'okay', 'old', 'older', 'ongo', 'onlin', 'open', 'openli', 'oper', 'opinion', 'opinion poll', 'oppon', 'opportun', 'oppos', 'opposit', 'oppress', 'option', 'orang', 'order', 'ordinari', 'oregon', 'organ', 'origin', 'orlando', 'oust', 'outcom', 'outlet', 'outlin', 'outrag', 'outright', 'outsid', 'oval', 'oval offic', 'overal', 'overcom', 'overhaul', 'overse', 'oversea', 'oversight', 'overturn', 'overwhelm', 'overwhelmingli', 'owe', 'owner', 'pace', 'pacif', 'pack', 'packag', 'pact', 'page', 'paid', 'pain', 'paint', 'pair', 'pakistan', 'palestinian', 'panel', 'paper', 'paragraph', 'parent', 'pari', 'park', 'parliament', 'parliamentari', 'parti', 'parti leader', 'partial', 'particip', 'particular', 'particularli', 'partisan', 'partli', 'partner', 'partnership', 'pass', 'passag', 'passeng', 'passion', 'past', 'past year', 'path', 'patient', 'patrick', 'patriot', 'patrol', 'pattern', 'paul', 'paul ryan', 'pay', 'payment', 'peac', 'pen', 'penalti', 'penc', 'pend', 'peninsula', 'pennsylvania', 'pentagon', 'peopl', 'peopl kill', 'peopl live', 'peopl said', 'peopl vote', 'peopl want', 'perceiv', 'percent', 'percentag', 'percept', 'perfect', 'perfectli', 'perform', 'perhap', 'period', 'perman', 'permiss', 'permit', 'persecut', 'persist', 'person', 'personnel', 'perspect', 'persuad', 'peter', 'petit', 'phase', 'philadelphia', 'phone', 'photo', 'photograph', 'phrase', 'physic', 'pick', 'pictur', 'piec', 'pipelin', 'place', 'plan', 'plane', 'planet', 'plant', 'platform', 'play', 'player', 'plead', 'pleas', 'pledg', 'plenti', 'plot', 'plu', 'pm', 'pocket', 'podesta', 'point', 'poison', 'polic', 'polic depart', 'polic offic', 'polic said', 'polici', 'polit', 'polit parti', 'politician', 'politico', 'poll', 'pool', 'poor', 'pop', 'popul', 'popular', 'populist', 'port', 'portion', 'portray', 'pose', 'posit', 'possess', 'possibl', 'post', 'potenti', 'potu', 'pound', 'pour', 'poverti', 'power', 'practic', 'prais', 'pray', 'prayer', 'preced', 'precis', 'predecessor', 'predict', 'prefer', 'premium', 'prepar', 'presenc', 'present', 'preserv', 'presid', 'presid barack', 'presid bashar', 'presid clinton', 'presid donald', 'presid georg', 'presid obama', 'presid said', 'presid trump', 'presid unit', 'presid vladimir', 'presidentelect', 'presidentelect donald', 'presidenti', 'presidenti campaign', 'presidenti candid', 'presidenti elect', 'presidenti nomine', 'presidenti race', 'press', 'press confer', 'press secretari', 'pressur', 'presum', 'presumpt', 'pretend', 'pretti', 'prevent', 'previou', 'previous', 'price', 'pride', 'primari', 'primarili', 'prime', 'prime minist', 'princip', 'principl', 'print', 'prior', 'prioriti', 'prison', 'privaci', 'privat', 'privat email', 'privileg', 'prize', 'probabl', 'probe', 'problem', 'procedur', 'proceed', 'process', 'produc', 'product', 'profession', 'professor', 'profil', 'profit', 'program', 'progress', 'prohibit', 'project', 'promin', 'promis', 'promot', 'prompt', 'proof', 'propaganda', 'proper', 'properli', 'properti', 'propos', 'prosecut', 'prosecutor', 'prospect', 'prosper', 'protect', 'protest', 'proud', 'prove', 'proven', 'provid', 'provinc', 'provis', 'provoc', 'provok', 'psycholog', 'public', 'publicli', 'publish', 'pull', 'punch', 'pundit', 'punish', 'purchas', 'pure', 'purpos', 'pursu', 'push', 'putin', 'pyongyang', 'qaeda', 'qualifi', 'qualiti', 'quarter', 'queen', 'question', 'quick', 'quickli', 'quiet', 'quietli', 'quit', 'quot', 'race', 'racial', 'racism', 'racist', 'radic', 'radio', 'rage', 'raid', 'rail', 'rain', 'rais', 'rais question', 'ralli', 'ran', 'rang', 'rank', 'rant', 'rape', 'rapid', 'rapidli', 'rapist', 'rare', 'rate', 'reach', 'react', 'reaction', 'read', 'reader', 'readi', 'reagan', 'real', 'real estat', 'realdonaldtrump', 'realiti', 'realiz', 'realli', 'reason', 'reassur', 'rebel', 'rebuild', 'recal', 'receiv', 'recent', 'recent month', 'recent week', 'recent year', 'recess', 'recogn', 'recognit', 'recommend', 'record', 'recount', 'recov', 'recruit', 'red', 'reduc', 'reduct', 'reelect', 'refer', 'referendum', 'reflect', 'reform', 'refuge', 'refus', 'regard', 'regardless', 'regim', 'region', 'regist', 'regret', 'regul', 'regular', 'regularli', 'regulatori', 'reinforc', 'reiter', 'reject', 'rel', 'relat', 'relationship', 'releas', 'relev', 'reli', 'reliabl', 'relief', 'religi', 'religion', 'reluct', 'remain', 'remark', 'rememb', 'remind', 'remot', 'remov', 'renew', 'rent', 'reopen', 'rep', 'repeal', 'repeat', 'repeatedli', 'replac', 'repli', 'report', 'report said', 'reportedli', 'repres', 'republ', 'republican', 'republican candid', 'republican democrat', 'republican lawmak', 'republican leader', 'republican nation', 'republican nomine', 'republican parti', 'republican presid', 'republican presidenti', 'republican senat', 'reput', 'request', 'request comment', 'requir', 'rescu', 'research', 'reserv', 'resid', 'resign', 'resist', 'resolut', 'resolv', 'resort', 'resourc', 'respect', 'respond', 'respond request', 'respons', 'rest', 'restaur', 'restor', 'restrict', 'result', 'resum', 'retain', 'retali', 'retir', 'retreat', 'return', 'reuter', 'reuter presid', 'reuter republican', 'reveal', 'revel', 'revenu', 'revers', 'review', 'revis', 'reviv', 'revolut', 'revolutionari', 'reward', 'rex', 'rex tillerson', 'rhetor', 'rich', 'richard', 'rick', 'rid', 'ride', 'ridicul', 'rifl', 'rig', 'right', 'right group', 'rightw', 'ring', 'riot', 'rip', 'rise', 'risk', 'rival', 'river', 'road', 'rob', 'robert', 'rock', 'roger', 'role', 'roll', 'romney', 'ron', 'ronald', 'room', 'root', 'rose', 'roughli', 'round', 'rout', 'routin', 'row', 'royal', 'rubio', 'ruin', 'rule', 'rule law', 'rumor', 'run', 'run presid', 'rural', 'rush', 'russia', 'russian', 'russian govern', 'russian presid', 'ryan', 'sad', 'safe', 'safeti', 'said', 'said ad', 'said believ', 'said email', 'said friday', 'said hope', 'said interview', 'said mani', 'said monday', 'said mr', 'said peopl', 'said plan', 'said presid', 'said refer', 'said said', 'said statement', 'said sunday', 'said think', 'said thursday', 'said time', 'said trump', 'said tuesday', 'said twitter', 'said want', 'said wednesday', 'said week', 'salari', 'sale', 'san', 'san francisco', 'sanction', 'sander', 'sarah', 'sat', 'satisfi', 'saturday', 'saudi', 'saudi arabia', 'save', 'saw', 'say', 'say trump', 'say want', 'scale', 'scandal', 'scare', 'scenario', 'scene', 'schedul', 'scheme', 'school', 'schumer', 'scienc', 'scientif', 'scientist', 'scope', 'score', 'scott', 'scrap', 'scream', 'screen', 'screen captur', 'screenshot', 'script', 'scrutini', 'sea', 'seal', 'sean', 'sean spicer', 'search', 'season', 'seat', 'second', 'secret', 'secretari', 'secretari state', 'section', 'sector', 'secur', 'secur advis', 'secur council', 'secur forc', 'seek', 'seemingli', 'seen', 'segment', 'seiz', 'select', 'sell', 'sen', 'senat', 'senat democrat', 'senat john', 'senat major', 'senat republican', 'send', 'senior', 'senior offici', 'sens', 'sensit', 'sent', 'sentenc', 'sentiment', 'separ', 'sept', 'septemb', 'seri', 'seriou', 'serv', 'server', 'servic', 'session', 'set', 'settl', 'settlement', 'seven', 'sever', 'sever year', 'sex', 'sexual', 'sexual assault', 'shadow', 'shake', 'shame', 'shape', 'share', 'sharp', 'sharpli', 'shed', 'shelter', 'sheriff', 'shi', 'shield', 'shift', 'ship', 'shock', 'shoot', 'shop', 'short', 'shortli', 'shot', 'shouldn', 'shouldnt', 'shout', 'shown', 'shut', 'sick', 'sight', 'sign', 'signal', 'signatur', 'signific', 'significantli', 'silenc', 'silent', 'silver', 'similar', 'simpl', 'simpli', 'sing', 'singer', 'singl', 'sink', 'sister', 'sit', 'site', 'situat', 'size', 'skeptic', 'skill', 'skin', 'sky', 'slam', 'slash', 'sleep', 'slightli', 'slip', 'slogan', 'slow', 'slowli', 'small', 'smaller', 'smart', 'smile', 'smith', 'smoke', 'socal', 'social', 'social media', 'socialist', 'societi', 'sold', 'soldier', 'sole', 'solid', 'solut', 'solv', 'somebodi', 'someon', 'someth', 'sometim', 'somewhat', 'son', 'song', 'soon', 'soro', 'sorri', 'sort', 'sought', 'soul', 'sound', 'sourc', 'sourc said', 'south', 'south carolina', 'south korea', 'southeast', 'southern', 'sovereignti', 'soviet', 'space', 'spain', 'spanish', 'spark', 'speak', 'speaker', 'speaker paul', 'special', 'special counsel', 'specif', 'specul', 'speech', 'speed', 'spend', 'spent', 'spi', 'spicer', 'spin', 'spirit', 'split', 'spoke', 'spoken', 'spokesman', 'spokesman said', 'spokesperson', 'spokeswoman', 'sponsor', 'sport', 'spot', 'spread', 'spring', 'squar', 'st', 'stabil', 'stabl', 'staff', 'staffer', 'stage', 'stake', 'stall', 'stanc', 'stand', 'standard', 'star', 'start', 'state', 'state depart', 'state govern', 'state rex', 'state said', 'state senat', 'state trump', 'statement', 'statement said', 'station', 'statist', 'statu', 'stay', 'steal', 'stem', 'step', 'stephen', 'steve', 'steven', 'stick', 'stir', 'stock', 'stolen', 'stone', 'stood', 'stop', 'store', 'stori', 'storm', 'straight', 'strain', 'strang', 'strateg', 'strategi', 'strategist', 'stream', 'street', 'street journal', 'strength', 'strengthen', 'stress', 'stretch', 'strike', 'string', 'strip', 'strong', 'stronger', 'strongli', 'struck', 'structur', 'struggl', 'stuck', 'student', 'studi', 'stuff', 'stun', 'stupid', 'style', 'su', 'subject', 'submit', 'subscrib', 'subscrib becom', 'subsequ', 'subsidi', 'substanti', 'succeed', 'success', 'successor', 'sudden', 'suddenli', 'sue', 'suffer', 'suffici', 'suggest', 'suicid', 'suit', 'sum', 'summer', 'summit', 'sun', 'sunday', 'sunni', 'super', 'suppli', 'support', 'support trump', 'suppos', 'supposedli', 'suppress', 'suprem', 'suprem court', 'supremacist', 'sure', 'surfac', 'surg', 'surpris', 'surround', 'surveil', 'survey', 'surviv', 'susan', 'suspect', 'suspend', 'suspici', 'suspicion', 'sustain', 'sweep', 'swing', 'switch', 'sworn', 'symbol', 'syria', 'syrian', 'tabl', 'tackl', 'tactic', 'tag', 'taken', 'talent', 'talk', 'tank', 'tap', 'tape', 'target', 'task', 'taught', 'tax', 'tax cut', 'taxpay', 'tea', 'teach', 'teacher', 'team', 'tear', 'tech', 'technic', 'technolog', 'ted', 'ted cruz', 'teenag', 'tehran', 'telephon', 'televis', 'tell', 'temporari', 'temporarili', 'tend', 'tension', 'tenur', 'term', 'termin', 'terribl', 'terrifi', 'territori', 'terror', 'terrorist', 'terrorist attack', 'test', 'testifi', 'testimoni', 'texa', 'text', 'thank', 'theater', 'theme', 'theori', 'theresa', 'theyr', 'theyv', 'thing', 'think', 'think tank', 'thoma', 'thought', 'thousand', 'thousand peopl', 'threat', 'threaten', 'threw', 'throw', 'thrown', 'thu', 'thursday', 'ticket', 'tie', 'tight', 'tighten', 'tillerson', 'tim', 'time', 'time report', 'timeswashington', 'tini', 'tip', 'tire', 'titl', 'today', 'togeth', 'told', 'told news', 'told report', 'told reuter', 'toler', 'toll', 'tom', 'tomorrow', 'tone', 'tonight', 'took', 'took offic', 'took place', 'tool', 'topic', 'tortur', 'total', 'touch', 'tough', 'tougher', 'tour', 'tourist', 'tower', 'town', 'track', 'trade', 'trade agreement', 'trade deal', 'tradit', 'traffic', 'tragedi', 'trail', 'train', 'transcript', 'transfer', 'transform', 'transgend', 'transit', 'transit team', 'translat', 'transpar', 'transport', 'trap', 'trash', 'travel', 'treasuri', 'treat', 'treati', 'treatment', 'tree', 'tremend', 'trend', 'tri', 'tri make', 'trial', 'trigger', 'trillion', 'trip', 'troop', 'troubl', 'truck', 'true', 'truli', 'trump', 'trump administr', 'trump campaign', 'trump elect', 'trump make', 'trump new', 'trump plan', 'trump presid', 'trump promis', 'trump ralli', 'trump realdonaldtrump', 'trump republican', 'trump said', 'trump say', 'trump support', 'trump told', 'trump took', 'trump tower', 'trump tweet', 'trump victori', 'trump want', 'trump white', 'trump win', 'trump won', 'trust', 'truth', 'tuesday', 'tune', 'turkey', 'turkish', 'turn', 'tv', 'tweet', 'twice', 'twist', 'twitter', 'twitter account', 'type', 'typic', 'ugli', 'uk', 'ukrain', 'ultim', 'unabl', 'unaccept', 'unanim', 'uncertainti', 'unclear', 'unconstitut', 'uncov', 'undermin', 'underscor', 'understand', 'understood', 'undocu', 'unemploy', 'unfair', 'unfold', 'unfortun', 'uniform', 'union', 'uniqu', 'unit', 'unit nation', 'unit state', 'uniti', 'univers', 'unknown', 'unleash', 'unless', 'unlik', 'unpreced', 'unusu', 'unveil', 'upcom', 'updat', 'upper', 'upset', 'urban', 'urg', 'urgent', 'usa', 'use', 'use privat', 'user', 'usual', 'util', 'vacat', 'valid', 'valley', 'valu', 'van', 'varieti', 'variou', 'vast', 've', 'vehicl', 'ventur', 'verifi', 'vermont', 'version', 'vet', 'veteran', 'veto', 'vice', 'vice presid', 'victim', 'victori', 'video', 'video screen', 'vietnam', 'view', 'viewer', 'villag', 'violat', 'violenc', 'violent', 'viral', 'virginia', 'virtual', 'visa', 'visibl', 'vision', 'visit', 'visitor', 'vital', 'vladimir', 'vladimir putin', 'vocal', 'voic', 'volunt', 'vote', 'vote trump', 'voter', 'vow', 'vulner', 'wage', 'wait', 'wake', 'walk', 'wall', 'wall street', 'want', 'want know', 'want make', 'war', 'warm', 'warn', 'warrant', 'warren', 'washington', 'washington dc', 'washington post', 'washington reuter', 'wasn', 'wasnt', 'wast', 'watch', 'watchdog', 'water', 'wave', 'way', 'weak', 'weaken', 'wealth', 'wealthi', 'weapon', 'wear', 'weather', 'web', 'websit', 'wed', 'wednesday', 'week', 'week ago', 'weekend', 'weekli', 'weigh', 'weight', 'welcom', 'welfar', 'went', 'west', 'western', 'weve', 'whatev', 'whenev', 'whine', 'white', 'white hous', 'white supremacist', 'wide', 'widespread', 'wife', 'wikileak', 'wild', 'william', 'win', 'win elect', 'wind', 'window', 'wing', 'winner', 'winter', 'wire', 'wire say', 'wisconsin', 'wish', 'wit', 'withdraw', 'woman', 'women', 'won', 'wonder', 'wont', 'word', 'work', 'work hard', 'work togeth', 'worker', 'world', 'world war', 'worldwid', 'worri', 'wors', 'worst', 'worth', 'wouldn', 'wouldnt', 'wound', 'wow', 'wrap', 'write', 'writer', 'written', 'wrong', 'wrongdo', 'wrote', 'xi', 'xi jinp', 'ye', 'yeah', 'year', 'year ago', 'year later', 'year old', 'year said', 'yell', 'yemen', 'yesterday', 'york', 'york citi', 'york reuter', 'york time', 'york timeswashington', 'youll', 'young', 'young peopl', 'younger', 'youth', 'youtub', 'youv', 'zero', 'zone']\n"
     ]
    }
   ],
   "source": [
    "tfidf_vectorizer = TfidfVectorizer(stop_words='english', ngram_range=(1,2), min_df=0.01)\n",
    "tfidf_vectorizer.fit(X_train_text)\n",
    "list1 = list(tfidf_vectorizer.get_feature_names_out())\n",
    "print(list(tfidf_vectorizer.get_feature_names_out()))"
   ]
  },
  {
   "cell_type": "code",
   "execution_count": null,
   "metadata": {},
   "outputs": [],
   "source": [
    "tfidf_vectorizer = TfidfVectorizer(stop_words='english', ngram_range=(1,2), min_df=0.00)\n",
    "tfidf_vectorizer.fit(X_train_text)\n",
    "list2 = list(tfidf_vectorizer.get_feature_names_out())"
   ]
  },
  {
   "cell_type": "code",
   "execution_count": 27,
   "metadata": {},
   "outputs": [
    {
     "name": "stdout",
     "output_type": "stream",
     "text": [
      "4536928\n",
      "['courtney ct', 'campaign barr', 'iraq militia', 'space sanction', 'coalit esquerra', 'remain messag', 'subsid support', 'best wednesday', 'union manag', 'трудности получении', 'charact mr', 'peopl render', 'veteran problem', 'полки конечно', 'aka stan', 'relat council', 'previous nonpartisan', 'librarian historian', 'inform exoner', 'market million', 'manufactur capac', 'unless door', 'carri signatur', 'batshit craze', 'stagger 85', 'conversationsnytim convers', 'inform perspectivebi', 'interview heredwyan', 'talon', 'write thorough', 'lunchth problem', 'respect arm', 'state univis', 'ago modi', 'audiencemckinnon agre', '1000000000000000 debt', 'realist partner', 'switzerland recent', 'propos virtual', 'got ashcan', 'come option', 'world nuke', 'yard plagu', 'visit mommi', 'afoot pass', 'die foundat', 'frank sharri', 'justic hate', 'postmodern swept', 'oligarchi desir', 'clinton novic', 'relat section', 'carli fiorinafox', 'advoc terrorist', 'ban saudiown', 'throw batch', 'ial', 'httpswwwyoutubecomwatchvhee143betu8it make', 'firearm ap', 'sometim diverg', 'floating', 'repres snapshot', 'partfeatur imag', 'een enorm', 'year governor', 'report bitly2pgnnam', 'parent alert', 'rudi best', 'defendantsit attorney', 'overrul ministeri', 'viii 316', 'plot good', 'halfwit douchecano', 'stateddown militari', '14th trump', 'afghanistan shabab', 'seyfarth shaw', 'new decis', 'affect fraction', 'brzezinski caution', 'fullscal victori', 'payer bailout', 'soar prow', '36 libel', 'great compar', 'true assist', 'instancerememb', 'asid doctrin', 'barron mr', 'pentagon caution', 'fee defend', 'saw request', 'chinaback region', 'backup backup', 'rs100', 'live employe', 'elsewher money', 'mohanti rahul', 'rag mont', 'mexico indianapoli', 'intern air', 'deal deliv', 'distanc fdp', 'outstretch tall', 'boat mani', 'vegan remind', 'commerc treasuryread', 'cancel hardli', 'chicken privaci', 'congress american', 'denomin debt', 'turkey david', 'away ethic', 'extorsionado', 'singer perhap', 'dedic pit', 'rant someon', 'area theyll', 'lawlerth 43yearold', 'disput oppos', 'bern perhap', '2017a special', 'cautious record', 'make believ', 'atlanta video', 'civilian ga', 'militari 1999', 'children formal', 'unprosecut grand', 'sale oshkosh', 'legitimaci make', 'grown campaign', 'product emerg', 'hotel announc', 'said postal', 'recordingam', 'thank usrussian', 'environ structur', 'gormley snap', 'leav bibl', 'crybabi hate', 'partisan issuefeatur', 'occur age', 'episod madam', 'concret implic', 'machin coat', 'thatu2009', 'european muslim', 'enclav south', 'tough oper', 'downward film', 'french elect', 'britain newli', 'libertarian opposit', 'guysent treasuri', 'duelre know', 'rc135 spi', '34 time', 'distribut restrict', 'screenshot cours', 'case ansel', 'extremist oregon', 'как именно', 'stop ride', '3797 earth', 'economist brace', 'branch gener', 'fuck know', 'area spokeswoman', 'houston vote', 'servic left', 'reuter need', 'trendyamerica', 'bolton chuckl', 'tresvant group', 'gone miss', 'uncheck destroy', 'tradit success', 'afar liber', 'republican incorrect', 'built kenyan', 'blowout flood', 'region lose', 'manuel freestyl', 'senat came', 'gospel mark', 'plan loud', 'lectur eichenwald', 'exploit voter', 'resourc lewi', 'esteem prime', 'islam threaten', 'place fish', 'exclusivo foco', 'individu cognit', 'trend week', 'cia prep', 'enter kirkuk', 'longfractur', 'spoken group', 'tongu crazi', 'petraeu corker', 'timeswashington food', 'appeal tariff', 'claim hire', 'rule tangl', 'upnot exactli', 'motorbik weather', 'came haunt', 'idrach', 'tank churn', 'corporateback', 'havoc said', 'incid mehan', 'oil conglomer', 'candid opposit', 'nanci koehn', 'refus workhttpstcoobmcph2nta', 'day access', 'inquiri alleg', 'dakota mean', 'media tone', 'armor combat', 'morn concess', 'sent jeb', 'han broderick', 'listhost cours', 'compar breast', 'piso en', 'warner content', 'throw 389', 'globespan violenc', 'brainin', 'gave jordan', 'debat deliv', 'progress militari', 'relat outcom', 'funhous reckless', 'custodi involv', 'result behalf', 'narromor happen', 'american rc135', 'paul confid', 'year temporari', 'fulldearest', 'problem speak', 'grab headlin', 'jeb turn', 'hear alleg', 'sens nervous', 'trump presidencyfeatur', 'conservat cerebellum', 'report toppl', 'contribut 150', 'khz similar', 'love forev', 'terrac resid', 'vr medic', 'moyer best', 'xi reaffirm', 'windsor mainstream', 'catwalk creat', 'emerg secur', 'miner fossil', 'tenur improv', 'terwillig', 'termin case', 'secret santa', 'dossiergubarev su', 'hail indian', 'eager consid', 'file john', 'evil sort', 'promis sharif', 'bordersh said', 'heirsdonald', 'rhetor militari', 'note fax', 'post channel', 'happen degre', 'news gina', 'corker start', 'agent saw', 'truck isis', 'maryerin casal', 'man son', 'overshadow democrat', 'foundat trailer', 'size thumb', 'zone matter', 'pollscom', 'product consult', 'misogynist onlin', 'safe factcheck', 'plan lure', 'kiri', 'diazepam penhillari', 'death went', 'virginia wore', 'control saturday', 'spent compani', 'attent baha', 'ignor offensivetrump', 'attack septemb', 'verstößt seien', 'imagemad', 'trump privacywhich', 'audienc actual', 'misconductantitrump celebr', 'differ geniu', 'wasn lock', 'vote ossoff', 'vulner soar', 'polici specialinterest', 'flew debaltsevo', 'brotherhood aren', 'instead jobth', 'lebanon took', 'wade establish', 'bruce field', 'staff hay', 'rhetor like', 'shouldn didn', 'white ethnost', 'ad abolish', 'power mass', 'carter presid', 'wednesday shapiro', '2008 temporari', 'fair competitor', 'texa chicken', 'tweet brussel', 'sin believ', 'year drill', 'backstorymr', 'martin death', 'consid mundanethi', 'neglig lead', 'plan mass', 'submarin armi', 'sach obtain', 'support nuclear', 'marriag town', 'bag synthet', 'accord statement', 'opinion behalf', 'kiedi support', 'suffer homeless', 'creat leftist', 'quot gene', 'presid wesleyan', 'gun clear', 'floor sit', 'confirm trump', 'locat titusvil', 'republican vocifer', '30yearold say', 'peac northern', 'palin wasn', 'quot lenin', 'area afghanistan', 'coverag theyr', 'violenc nois', 'handl aftermath', 'departur slow', 'wade longrun', 'alcala act', 'worsen fight', 'fan prevent', 'buy conceal', 'chairwoman subcommitte', 'farc new', 'war covert', 'peac illus', 'seed feed', 'outset statement', 'presid sell', 'split ya', 'norman south', 'corpor regim', 'ail cultur', 'meant sarcasm', 'told itv', 'die continuum', 'reagan cold', 'hanniti sourc', 'homework greater', 'tv past', 'stage mind', 'avenu far', 'said nod', 'caccariellomah', 'job wont', 'solut aim', 'rig pictwittercom9itdyjwahl', 'intervent opposit', 'silli sex', 'word lynch', 'acquiesc usl', 'ballroom balloon', 'breed backer', 'offici hazim', 'allow air', 'come infowar', 'slice green', 'ah daze', 'injustic follow', 'specif feder', 'york stand', 'admit fun', 'baghdad hope', 'jihadist territori', 'snippet facebook', 'star preoscar', 'ankl reach', 'level socialist', 'pinki ring', 'premium midlevel', 'counti allegedli', 'rule say', 'higher frankli', 'indefinit refuge', 'figur perhap', 'announc twitterth', 'north maungdaw', 'shot rim', 'atlant drill', 'saturday cavali', 'sought easier', 'noth uncomfort', 'muslim comic', 'chanc prepar', 'garlic ginger', 'view brash', 'ambival support', 'indianaborn district', 'conduc amelior', 'bizarr laugh', 'man soon', 'head judg', 'pictwittercomfsubavdr06', 'state abid', '19 adnan', 'program dialysi', 'current socal', 'employ religi', 'themselvesrich', 'bicyclist treat', 'kosti manib', 'kind astronomi', 'chief edgardo', 'physician new', 'dozen medic', 'gener newt', 'demand antithesi', 'said object', 'fleet 350', 'hide willingli', 'underground comrad', 'read prais', 'mandelblit legal', 'instead intens', 'prize previous', 'campaign syrian', 'kuchkarov', 'heltonuninterrupt', 'joseph anto', 'recommend read', 'trumppolitico', 'histori denver', 'pledg slap', 'assault confront', 'svt claim', 'reviv consult', 'endors statesmccrori', 'day paradenew', 'toy busi', 'revel northstar', 'crimesin juli', 'graduat make', 'nation divers', 'kurt wrobel', 'languag cameroon', 'seriou tackl', 'equival game', 'distort deserv', 'live someth', '1990 harder', 'elabor ceasefir', 'pose monk', 'idiosyncrat factor', 'potenti love', 'complement ryan', 'resourc qualiti', 'right ii', 'spiritu blue', 'spoke actual', 'trump portrait', 'counterinsurg mission', 'come import', 'renew billion', 'slam loom', 'veteran advoc', 'fck hell', 'parkstreet kentparkstreet', 'present2071', 'recent north', 'grew center', 'law sept', 'know matteo', 'disdain process', 'sourcen throw', 'buri rghtwing', 'control use', 'cooper cut', 'villavicenciobogota', 'write clash', '622 million', 'rankandfil lawmak', 'democrat consider', 'dome sentinel', 'murphi chrismurphyct', 'donor travel', 'conced difficult', 'douchebaggey cruz', 'emerg day', 'scale battl', 'stock entail', 'partisan lead', 'domin remark', 'pursu principl', 'hail bless', 'intodayin week', 'task want', 'kalala arriv', 'crockpot cranberri', 'clearanc applic', 'tribe radic', 'life bigot', 'pictwittercommgno4hczzq', 'stori retir', '2016obama talk', 'current use', '100000 obama', 'exchang pro', 'reuter blockad', 'river catch', '200 aircraft', 'secur bureau', 'multicolor mosh', 'registr preregistr', 'agre allow', 'pictwittercomdiq8lk8ypx', 'reuter wang', 'clash opposit', 'mire monthslong', 'alon graffitiscar', 'strategi opinion', 'disastr silli', 'unabl like', 'democrat ultim', 'violenc sweden', 'francisco hundr', 'frighten exhilar', 'harar govern', 'transgend classmat', 'laurel wreath', 'rivera gop', 'aid depend', 'walk boot', 'street fail', 'offens potenti', 'resourc surveil', 'opt hike', 'street monument', 'cftc use', 'differ produc', 'know precis', 'assum elsa', 'park url', 'yaver', 'islamophobia cite', 'suit fail', 'holgat said', 'mismo la', 'messag wors', 'opposit prove', 'avail transpar', 'crowdpac', 'monitor case', 'induc spoof', 'northeastern dominican', 'total unverifi', 'إن محكمة', 'reddit earlier', 'tower store', 'commission gil', 'ayani goe', 'view clever', 'gasolin drive', 'donetsk eastern', 'mideighti', 'rethink feloni', 'selmayr kept', 'said statementsourc', 'intellig purg', 'establish mission', 'signatur drive', 'famili fine', 'bitly1ppdeh2 republican', 'discret use', 'display kra', 'drop afghanistan', '14 2017donald', 'fortifi 30', 'glare fact', 'manningadam', 'twice 12th', 'uniqu suffer', 'interview cliven', 'passag larg', 'pylori', 'relev substanti', 'rememb past', 'cleveland respect', 'flame fabric', 'seven jobprotect', 'began help', 'demonis muslim', 'warfar sanction', 'anoth disclosur', 'law poland', 'нет труд', 'normal home', 'mettl battl', 'vital gobetween', 'finger white', 'highqual person', 'council 47', 'successor worth', 'califfato', 'relationship marriag', 'isi tri', 'oftentim said', 'life walk', 'style rap', 'teacher scott', 'lap look', 'wing histori', 'heat ambient', 'pretti wife', 'assur monday', 'softbal religi', 'duti rais', 'sink blatant', 'undergo corbyn', 'pictur million', 'meal wheat', 'appear surfac', 'caught kimmel', 'exmi6 spi', 'plane sit', 'prevail let', 'spoke good', 'wherebi', 'crímene la', 'american disapprov', 'gradient', 'dead sport', 'mode raqqa', '2014 600', 'confirm director', 'immigr skill', 'draft member', 'membership post', 'russian investigationon', 'week ladi', 'converg idea', 'httphumansarefreecom201611putinbeginsbanningclintoncabalfromhtml', 'polic mobil', 'defens state', 'juli reiskin', 'cybercrim charg', 'health greatli', 'impli intellig', 'match deal', 'graveyard empir', 'school meet', 'gone bipartisan', 'speech open', 'logan friday', 'news manag', 'shut hold', 'clinic psychologist', 'referendum step', 'tend volatil', 'tumbeni', 'cruz state', 'ms shalala', 'life throttl', 'travel sacramento', 'll grant', 'parti jose', 'ground mayb', 'otool american', 'commend heroic', 'gang suspect', 'bridgef die', 'apperancebi', 'prosecutor convict', 'stir martyrdom', 'spokeswoman flown', 'circuit dissent', 'kick shin', 'orina encima', 'ввода поездов', 'school hofstadt', 'aclu motion', 'paid virtual', 'hold year', 'contest hous', 'km 193051', 'sign hottest', 'soil nobl', 'thief night', 'petraeu resign', 'aid camp', 'phoni nbc', 'congressman cio', 'navegador', 'thing al', 'pennsylvania cover', 'reuter fouryearold', 'tpr', 'cinnamon ingest', 'pen mike', '2012 bayonn', 'accus infosi', 'своих интересов', 'work 200', 'need 92', 'statement hed', 'eventu threw', 'confid lundqvist', 'million lire', 'list principl', 'monthzhirinovski', 'injur miss', 'minut maga', '35year counterterror', 'pitch busi', 'assail krink', 'continuedin', 'male motel', 'togeth huh', 'ernst susan', 'era written', 'launch shell', 'interview advoc', '1997 complic', '20 institut', 'bystand suspect', 'born alan', 'agerel declin', 'turkey tremend', '68 disabl', 'answersinde', 'glanc controversi', 'offer mix', 'httphumansarefreecom201611electromagneticcontrolgridsdivisionhtml', 'iowa main', 'horror solidifi', 'ridicul mostli', 'aviv time', 'younger custom', 'martian popul', 'appl comment', 'import catalyst', 'eye simpl', 'foundat affili', 'grifter world', 'resist blame', 'issu nice', 'volunt eastern', 'ross make', 'trial best', 'shape bodi', 'surveil thursday', 'stricter way', 'castroth', 'festiv dream', 'intel laboratori', 'histori request', 'gener electionshillari', 'administr 87', 'confer march', 'demograph run', 'sure man', 'agreement mid2019', 'criminal que', 'learn activist', 'kessler check', 'swan 2008', 'refuge arm', 'ad assang', 'dunham given', 'group wellheel', 'especi kandahar', 'cliff relev', 'accept behaviour', 'климата палеопочв', 'lolita island', 'mount niitaka', 'bring symmetri', 'affect unrest', 'judg feel', 'react erdogan', 'forg grand', 'dold bipartisan', 'serv connect', 'catalonia institut', 'live band', 'activist guid', 'vast implicationsvot', 'construct healthcar', 'honest appeal', 'crab dangl', 'bathroom opposit', 'mood day', 'thing notmyvicepresidentelect', 'terrorist barch', 'husband endur', '75000 annual', 'air victori', 'develop austin', '2016 lufthansa', 'atrio neoliber', 'internationalist billionair', 'reaction indic', 'devis comprehens', 'newsweek ope', 'night daycaus', 'known sissi', 'reportsbutl refus', 'describ agenc', 'veselniskaya', 'neck friend', 'focu 52', 'lack pipelin', 'note treati', 'record penguin', 'run cabalfund', 'water qualiti', 'comisión tien', 'shoot portland', 'worri unit', 'quest prosecut', 'slate financi', 'raider thirti', 'blatantli corrupt', 'bronco question', 'readi locat', 'lawsuit march', '2015 comment', 'collect republicanaffili', 'tent hammock', 'tone encount', 'comput bank', 'bestonetx', 'focu defeat', 'paramilitari base', 'xi premier', 'weiner crotch', 'close despit', 'norquist secret', 'sober news', 'bu racist', 'firstyear oper', 'ruin emerg', 'bring similar', 'michael novak', 'grandmoth onion', 'best busi', 'trump feb', 'plot claim', 'divid paus', 'consequ state', 'program educ', 'ruler said', 'soldier illeg', 'establish oxygen', 'unabl consid', 'duke denounc', 'hollow righteous', 'bloc uk', 'fish paw', 'child captiv', 'debt construct', 'punish presidenti', 'wont power', 'steer disillus', 'divers cat', 'divis tribun', 'sakr member', 'alarm possibl', 'reagan 40ft', 'written british', 'ideal polit', 'ted campaign', 'check compli', 'report nativeamerican', 'buddhist respect', 'skeel', 'effect distress', 'pope lose', 'associ essa', 'inherit lrrk2', 'finish pipelin', 'concern blm', 'hous holiday', 'access someth', 'enlistforh pictwittercoms9dmkszizt', 'yuzu', 'ss meant', 'say offer', 'zoo decis', 'defin vector', 'academia institut', 'volunt date', 'swg poll', 'subject pm', 'broadway fake', 'fm account', 'risk actuari', 'slap msnbc', 'antwerp 11am', 'merril ad', 'bomb destroy', 'fatsham 1990sfeatur', 'took cremat', 'privileg unlik', 'throw marijuana', 'report saturday', 'learn handl', 'near marea', 'que ganó', 'team augusta', 'gen jack', 'realiz guy', 'transphobia apolog', 'approv charg', 'dirti star', 'win unpreced', 'decentr concept', 'artyp rifl', 'worthwhil consult', 'societi describ', 'constitut stage', 'заниматься подготовкой', 'restrict defeat', 'ralli southern', '13 2017ryan', 'know mind', 'forc good', 'rob gray', 'save recess', 'chino hill', 'kick attorney', 'sé', 'appear accept', 'recruit rate', 'postelect antitrump', 'gema enthält', 'breitbartsan diego', 'say conclus', 'trickl wasp', 'attack draitser', 'bald dr', 'student oppos', 'past judici', 'texa mississippi', 'designio', 'syria premier', 'harney countyken', 'flown univers', 'million author', 'procur met', 'nearli experi', '20 yearold', '750000 2119', 'ralli quarter', 'physic smaller', 'away phnom', 'action clad', 'rape haley', 'tweet maggi', 'legal solut', 'fail beer', 'qatar impress', 'prosper energi']\n"
     ]
    }
   ],
   "source": [
    "unique = set(list2) - set(list1)\n",
    "print(len(list(unique)))\n",
    "print(list(unique)[:1000])"
   ]
  },
  {
   "cell_type": "code",
   "execution_count": 123,
   "metadata": {},
   "outputs": [
    {
     "name": "stdout",
     "output_type": "stream",
     "text": [
      "134\n",
      "['2016', 'accord', 'act', 'ad', 'administr', 'allow', 'america', 'american', 'anoth', 'appear', 'ask', 'attack', 'becom', 'believ', 'campaign', 'case', 'chang', 'citi', 'claim', 'clinton', 'close', 'come', 'comment', 'continu', 'countri', 'critic', 'day', 'democrat', 'donald', 'donald trump', 'elect', 'end', 'everi', 'face', 'fact', 'feder', 'follow', 'forc', 'gener', 'good', 'govern', 'group', 'happen', 'help', 'hillari', 'hillari clinton', 'hous', 'imag', 'includ', 'issu', 'know', 'law', 'lead', 'leader', 'live', 'long', 'look', 'major', 'make', 'mani', 'mean', 'media', 'meet', 'member', 'million', 'month', 'nation', 'need', 'new', 'new york', 'news', 'number', 'obama', 'offic', 'offici', 'order', 'parti', 'peopl', 'person', 'place', 'plan', 'point', 'polici', 'polit', 'possibl', 'post', 'power', 'presid', 'presidenti', 'public', 'question', 'realli', 'recent', 'report', 'repres', 'republican', 'respons', 'reuter', 'right', 'run', 'said', 'say', 'secur', 'senat', 'sever', 'start', 'state', 'statement', 'support', 'talk', 'thing', 'think', 'time', 'told', 'took', 'tri', 'trump', 'tuesday', 'turn', 'unit', 'unit state', 'use', 'video', 'vote', 'want', 'washington', 'way', 'week', 'white', 'white hous', 'work', 'world', 'year', 'york']\n"
     ]
    }
   ],
   "source": [
    "tfidf_vectorizer = TfidfVectorizer(stop_words='english', ngram_range=(1,2), min_df=0.15)\n",
    "tfidf_vectorizer.fit(X_train_text)\n",
    "list3 = list(tfidf_vectorizer.get_feature_names_out())\n",
    "print(len(list3))\n",
    "print(list3)"
   ]
  },
  {
   "cell_type": "markdown",
   "metadata": {},
   "source": [
    "# Feature Selection Plots"
   ]
  },
  {
   "cell_type": "markdown",
   "metadata": {},
   "source": [
    "## Countvectorizer"
   ]
  },
  {
   "cell_type": "code",
   "execution_count": 120,
   "metadata": {},
   "outputs": [
    {
     "data": {
      "image/png": "[encoded data removed]",
      "text/plain": [
       "<Figure size 640x480 with 1 Axes>"
      ]
     },
     "metadata": {},
     "output_type": "display_data"
    }
   ],
   "source": [
    "# countvectorizer\n",
    "plt.plot(countvectorizer_numfeatures, countvectorizer_f1score, label = \"f1score\", marker='x')\n",
    "# plt.plot(countvectorizer_numfeatures, countvectorizer_precision, label = \"precision\", marker='o')\n",
    "# plt.plot(countvectorizer_numfeatures, countvectorizer_recall, label = \"recall\", marker='^')\n",
    "plt.xscale('log')\n",
    "plt.title('CountVectorizer F1 score v.s. No. of features (log scale)')\n",
    "plt.xlabel('Number of features')\n",
    "plt.ylabel('Scores')\n",
    "plt.legend()\n",
    "plt.show()"
   ]
  },
  {
   "cell_type": "code",
   "execution_count": 119,
   "metadata": {},
   "outputs": [
    {
     "data": {
      "image/png": "[encoded data removed]",
      "text/plain": [
       "<Figure size 640x480 with 1 Axes>"
      ]
     },
     "metadata": {},
     "output_type": "display_data"
    }
   ],
   "source": [
    "plt.plot(countvectorizer_numfeatures[1:], countvectorizer_f1score[1:], label = \"f1score\", marker='x')\n",
    "# plt.plot(countvectorizer_numfeatures[1:], countvectorizer_precision[1:], label = \"precision\", marker='o')\n",
    "# plt.plot(countvectorizer_numfeatures[1:], countvectorizer_recall[1:], label = \"recall\", marker='^')\n",
    "plt.title('CountVectorizer F1 score v.s. No. of features')\n",
    "plt.xlabel('Number of features')\n",
    "plt.ylabel('Scores')\n",
    "plt.legend()\n",
    "plt.show()"
   ]
  },
  {
   "cell_type": "markdown",
   "metadata": {},
   "source": [
    "## TFIDF"
   ]
  },
  {
   "cell_type": "code",
   "execution_count": 121,
   "metadata": {},
   "outputs": [
    {
     "data": {
      "image/png": "[encoded data removed]",
      "text/plain": [
       "<Figure size 640x480 with 1 Axes>"
      ]
     },
     "metadata": {},
     "output_type": "display_data"
    }
   ],
   "source": [
    "# TFIDF\n",
    "plt.plot(tfidf_numfeatures, tfidf_f1score, label = \"f1score\", marker='x')\n",
    "# plt.plot(tfidf_numfeatures, tfidf_precision, label = \"precision\", marker='o')\n",
    "# plt.plot(tfidf_numfeatures, tfidf_recall, label = \"recall\", marker='^')\n",
    "plt.xscale('log')\n",
    "plt.title('TFIDF F1 score v.s. No. of features (log scale)')\n",
    "plt.xlabel('Number of features')\n",
    "plt.ylabel('Scores')\n",
    "plt.legend()\n",
    "plt.show()"
   ]
  },
  {
   "cell_type": "code",
   "execution_count": 122,
   "metadata": {},
   "outputs": [
    {
     "data": {
      "image/png": "[encoded data removed]",
      "text/plain": [
       "<Figure size 640x480 with 1 Axes>"
      ]
     },
     "metadata": {},
     "output_type": "display_data"
    }
   ],
   "source": [
    "plt.plot(tfidf_numfeatures[1:], tfidf_f1score[1:], label = \"f1score\", marker='x')\n",
    "# plt.plot(tfidf_numfeatures[1:], tfidf_precision[1:], label = \"precision\", marker='o')\n",
    "# plt.plot(tfidf_numfeatures[1:], tfidf_recall[1:], label = \"recall\", marker='^')\n",
    "plt.title('TFIDF F1 score v.s. No. of features')\n",
    "plt.xlabel('Number of features')\n",
    "plt.ylabel('Scores')\n",
    "plt.legend()\n",
    "plt.show()"
   ]
  },
  {
   "cell_type": "markdown",
   "metadata": {},
   "source": [
    "# TruncatedSVD\n",
    "\n",
    "Explanation for reference: https://vitalv.github.io/projects/doc-clustering-topic-modeling.html"
   ]
  },
  {
   "cell_type": "code",
   "execution_count": null,
   "metadata": {},
   "outputs": [],
   "source": [
    "# Program to find the optimal number of components for Truncated SVD\n",
    "n_comp = [1500] # 4,10,15,20,50,100,150,200,500,700,800,900,1000,1500,2000,2500,3000,3500 list containing different values of components\n",
    "explained = [] # explained variance ratio for each component of Truncated SVD\n",
    "for x in n_comp:\n",
    "    svd = TruncatedSVD(n_components=x)\n",
    "    svd.fit(X_train)\n",
    "    explained.append(svd.explained_variance_ratio_.sum())\n",
    "    print(\"Number of components = %r and explained variance = %r\"%(x,svd.explained_variance_ratio_.sum()))\n",
    "plt.plot(n_comp, explained)\n",
    "plt.xlabel('Number of components')\n",
    "plt.ylabel(\"Explained Variance\")\n",
    "plt.title(\"Plot of Number of components v/s explained variance\")\n",
    "plt.show()\n",
    "\n",
    "# svd = TruncatedSVD(n_components=5, n_iter=7, random_state=424)\n",
    "# svd.fit(X_train)\n",
    "\n",
    "# print(svd.explained_variance_ratio_)"
   ]
  },
  {
   "cell_type": "code",
   "execution_count": null,
   "metadata": {},
   "outputs": [],
   "source": [
    "truncatedSVD = TruncatedSVD(n_components=1000)\n",
    "X_truncated = truncatedSVD.fit_transform(X_train)\n",
    "\n",
    "X_test_truncated = truncatedSVD.fit_transform(X_test)"
   ]
  },
  {
   "cell_type": "code",
   "execution_count": null,
   "metadata": {},
   "outputs": [],
   "source": [
    "naive_bayes_clf.fit(X_truncated, y_train)\n",
    "\n",
    "y_pred = naive_bayes_clf.predict(X_test_truncated)\n",
    "print(classification_report(y_test, y_pred))"
   ]
  },
  {
   "cell_type": "markdown",
   "metadata": {},
   "source": [
    "# Feature Selection for Additional Features"
   ]
  },
  {
   "cell_type": "markdown",
   "metadata": {},
   "source": [
    "## Re-evaluating performance of Naive Bayes after adding new features"
   ]
  },
  {
   "cell_type": "code",
   "execution_count": 55,
   "metadata": {},
   "outputs": [
    {
     "name": "stdout",
     "output_type": "stream",
     "text": [
      "              precision    recall  f1-score   support\n",
      "\n",
      "           0       0.96      0.85      0.91      6361\n",
      "           1       0.87      0.97      0.92      6659\n",
      "\n",
      "    accuracy                           0.91     13020\n",
      "   macro avg       0.92      0.91      0.91     13020\n",
      "weighted avg       0.92      0.91      0.91     13020\n",
      "\n"
     ]
    }
   ],
   "source": [
    "naive_bayes_clf.fit(X_train, y_train)\n",
    "\n",
    "y_pred = naive_bayes_clf.predict(X_val)\n",
    "print(classification_report(y_val, y_pred))"
   ]
  }
 ],
 "metadata": {
  "interpreter": {
   "hash": "729bae39908f34aae3ae4cd67793570f1853d7623135d20860991de8be7ba981"
  },
  "kernelspec": {
   "display_name": "Python 3.9.7 64-bit ('tensorflow': conda)",
   "name": "python3"
  },
  "language_info": {
   "codemirror_mode": {
    "name": "ipython",
    "version": 3
   },
   "file_extension": ".py",
   "mimetype": "text/x-python",
   "name": "python",
   "nbconvert_exporter": "python",
   "pygments_lexer": "ipython3",
   "version": "3.9.7"
  },
  "orig_nbformat": 4
 },
 "nbformat": 4,
 "nbformat_minor": 2
}
