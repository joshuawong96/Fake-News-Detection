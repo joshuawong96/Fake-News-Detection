{
 "cells": [
  {
   "cell_type": "code",
   "execution_count": 26,
   "source": [
    "# Packages for data \r\n",
    "import pandas as pd\r\n",
    "import numpy as np\r\n",
    "import pickle\r\n",
    "\r\n",
    "# Packages for machine learning modelling\r\n",
    "from sklearn.model_selection import train_test_split\r\n",
    "from sklearn.feature_extraction.text import CountVectorizer, TfidfVectorizer\r\n",
    "from sklearn.naive_bayes import BernoulliNB\r\n",
    "\r\n",
    "from sklearn.metrics import classification_report,confusion_matrix, ConfusionMatrixDisplay, accuracy_score\r\n",
    "# precision_score, recall_score, f1_score\r\n",
    "\r\n",
    "# Packages for visualisation \r\n",
    "import matplotlib.pyplot as plt\r\n",
    "\r\n",
    "# Packages for MLP\r\n",
    "import nltk\r\n"
   ],
   "outputs": [],
   "metadata": {}
  },
  {
   "cell_type": "markdown",
   "source": [
    "# Train-test-split"
   ],
   "metadata": {}
  },
  {
   "cell_type": "code",
   "execution_count": 27,
   "source": [
    "true_data = pd.read_csv(\"../Data/true_clean_data.csv\", index_col=0)\r\n",
    "fake_data = pd.read_csv(\"../Data/fake_clean_data.csv\", index_col=0)"
   ],
   "outputs": [],
   "metadata": {}
  },
  {
   "cell_type": "code",
   "execution_count": 28,
   "source": [
    "true_X = true_data[\"text_preprocessed\"].values\r\n",
    "true_y = true_data[\"class_label\"].values\r\n",
    "\r\n",
    "fake_X = fake_data[\"text_preprocessed\"].values\r\n",
    "fake_y = fake_data[\"class_label\"].values"
   ],
   "outputs": [],
   "metadata": {}
  },
  {
   "cell_type": "code",
   "execution_count": 29,
   "source": [
    "# Splitting true and fake data into training and test subsets\r\n",
    "true_X_train, true_X_test, true_y_train, true_y_test = train_test_split(true_X, true_y, test_size = 0.2, random_state=99)\r\n",
    "fake_X_train, fake_X_test, fake_y_train, fake_y_test = train_test_split(fake_X, fake_y, test_size = 0.2, random_state=99)\r\n",
    "\r\n",
    "# Splitting training data into train and validation subsets\r\n",
    "true_X_train, true_X_val, true_y_train, true_y_val = train_test_split(true_X_train, true_y_train, test_size = 0.2, random_state=99)\r\n",
    "fake_X_train, fake_X_val, fake_y_train, fake_y_val = train_test_split(fake_X_train, fake_y_train, test_size = 0.2, random_state=99)"
   ],
   "outputs": [],
   "metadata": {}
  },
  {
   "cell_type": "code",
   "execution_count": 30,
   "source": [
    "# Text \r\n",
    "X_train_text = np.concatenate((true_X_train,fake_X_train))\r\n",
    "X_val_text = np.concatenate((true_X_val, fake_X_val))\r\n",
    "X_test_text = np.concatenate((true_X_test, fake_X_test))\r\n",
    "\r\n",
    "# Labels\r\n",
    "y_train = np.concatenate((true_y_train, fake_y_train))\r\n",
    "y_val = np.concatenate((true_y_val, fake_y_val))\r\n",
    "y_test = np.concatenate((true_y_test, fake_y_test))"
   ],
   "outputs": [],
   "metadata": {}
  },
  {
   "cell_type": "code",
   "execution_count": 31,
   "source": [
    "print(true_data.shape[0] + fake_data.shape[0])\r\n",
    "print(len(X_train_text) + len(X_val_text) + len(X_test_text))"
   ],
   "outputs": [
    {
     "output_type": "stream",
     "name": "stdout",
     "text": [
      "44898\n",
      "44898\n"
     ]
    }
   ],
   "metadata": {}
  },
  {
   "cell_type": "markdown",
   "source": [
    "# Creating the Base Model using Naive Bayes\r\n",
    "\r\n",
    "## Using CountVectorizer with Bag of Words, Unigrams"
   ],
   "metadata": {}
  },
  {
   "cell_type": "code",
   "execution_count": 32,
   "source": [
    "vectorizer = CountVectorizer(stop_words='english', ngram_range=(1,1))\r\n",
    "vectorizer.fit(X_train_text)\r\n",
    "\r\n",
    "X_train = vectorizer.transform(X_train_text)\r\n",
    "X_val = vectorizer.transform(X_val_text)\r\n",
    "X_test = vectorizer.transform(X_test_text)"
   ],
   "outputs": [],
   "metadata": {}
  },
  {
   "cell_type": "code",
   "execution_count": 33,
   "source": [
    "# Sparse vector of frequency of each word appearing in a text article\r\n",
    "print(X_train)"
   ],
   "outputs": [
    {
     "output_type": "stream",
     "name": "stdout",
     "text": [
      "  (0, 1020)\t1\n",
      "  (0, 1267)\t1\n",
      "  (0, 2929)\t1\n",
      "  (0, 3406)\t1\n",
      "  (0, 6442)\t1\n",
      "  (0, 6663)\t1\n",
      "  (0, 6789)\t1\n",
      "  (0, 10164)\t1\n",
      "  (0, 11894)\t1\n",
      "  (0, 11979)\t1\n",
      "  (0, 13184)\t1\n",
      "  (0, 14018)\t1\n",
      "  (0, 14352)\t1\n",
      "  (0, 17093)\t1\n",
      "  (0, 19614)\t1\n",
      "  (0, 20249)\t1\n",
      "  (0, 20911)\t2\n",
      "  (0, 21401)\t2\n",
      "  (0, 21930)\t1\n",
      "  (0, 22659)\t2\n",
      "  (0, 23359)\t3\n",
      "  (0, 23376)\t1\n",
      "  (0, 26317)\t2\n",
      "  (0, 28545)\t4\n",
      "  (0, 29933)\t1\n",
      "  :\t:\n",
      "  (28732, 168212)\t1\n",
      "  (28732, 170249)\t1\n",
      "  (28732, 170567)\t1\n",
      "  (28732, 170803)\t1\n",
      "  (28732, 173947)\t2\n",
      "  (28732, 174291)\t1\n",
      "  (28732, 174384)\t2\n",
      "  (28732, 174624)\t1\n",
      "  (28732, 175075)\t2\n",
      "  (28732, 175145)\t1\n",
      "  (28732, 175393)\t1\n",
      "  (28732, 175490)\t1\n",
      "  (28732, 175940)\t1\n",
      "  (28732, 176175)\t1\n",
      "  (28732, 178226)\t1\n",
      "  (28732, 178340)\t1\n",
      "  (28732, 178750)\t1\n",
      "  (28732, 178789)\t1\n",
      "  (28732, 178935)\t1\n",
      "  (28732, 178980)\t1\n",
      "  (28732, 179709)\t2\n",
      "  (28732, 179869)\t1\n",
      "  (28732, 180841)\t1\n",
      "  (28732, 181109)\t1\n",
      "  (28732, 181342)\t1\n"
     ]
    }
   ],
   "metadata": {}
  },
  {
   "cell_type": "code",
   "execution_count": 34,
   "source": [
    "naive_bayes_clf = BernoulliNB()\r\n",
    "naive_bayes_clf.fit(X_train, y_train)"
   ],
   "outputs": [
    {
     "output_type": "execute_result",
     "data": {
      "text/plain": [
       "BernoulliNB()"
      ]
     },
     "metadata": {},
     "execution_count": 34
    }
   ],
   "metadata": {}
  },
  {
   "cell_type": "code",
   "execution_count": 35,
   "source": [
    "y_val_pred = naive_bayes_clf.predict(X_val)\r\n",
    "# accuracy_score(y_val, y_val_pred)\r\n",
    "print(classification_report(y_val, y_val_pred))"
   ],
   "outputs": [
    {
     "output_type": "stream",
     "name": "stdout",
     "text": [
      "              precision    recall  f1-score   support\n",
      "\n",
      "           0       0.96      0.98      0.97      3427\n",
      "           1       0.98      0.96      0.97      3757\n",
      "\n",
      "    accuracy                           0.97      7184\n",
      "   macro avg       0.97      0.97      0.97      7184\n",
      "weighted avg       0.97      0.97      0.97      7184\n",
      "\n"
     ]
    }
   ],
   "metadata": {}
  },
  {
   "cell_type": "code",
   "execution_count": 36,
   "source": [
    "y_test_pred = naive_bayes_clf.predict(X_test)\r\n",
    "print(classification_report(y_test, y_test_pred))"
   ],
   "outputs": [
    {
     "output_type": "stream",
     "name": "stdout",
     "text": [
      "              precision    recall  f1-score   support\n",
      "\n",
      "           0       0.96      0.98      0.97      4284\n",
      "           1       0.99      0.97      0.98      4697\n",
      "\n",
      "    accuracy                           0.98      8981\n",
      "   macro avg       0.98      0.98      0.98      8981\n",
      "weighted avg       0.98      0.98      0.98      8981\n",
      "\n"
     ]
    }
   ],
   "metadata": {}
  },
  {
   "cell_type": "markdown",
   "source": [
    "## Using CountVectorizer with Bag of Words, Unigrams + Bigrams"
   ],
   "metadata": {}
  },
  {
   "cell_type": "code",
   "execution_count": 37,
   "source": [
    "vectorizer2 = CountVectorizer(stop_words='english', ngram_range=(1,2))\r\n",
    "vectorizer2.fit(X_train_text)\r\n",
    "\r\n",
    "X_train = vectorizer2.transform(X_train_text)\r\n",
    "X_val = vectorizer2.transform(X_val_text)\r\n",
    "X_test = vectorizer2.transform(X_test_text)"
   ],
   "outputs": [],
   "metadata": {}
  },
  {
   "cell_type": "code",
   "execution_count": 38,
   "source": [
    "# Validation Data\r\n",
    "naive_bayes_clf.fit(X_train, y_train)\r\n",
    "\r\n",
    "y_val_pred2 = naive_bayes_clf.predict(X_val)\r\n",
    "print(classification_report(y_val, y_val_pred2))"
   ],
   "outputs": [
    {
     "output_type": "stream",
     "name": "stdout",
     "text": [
      "              precision    recall  f1-score   support\n",
      "\n",
      "           0       0.98      0.99      0.98      3427\n",
      "           1       0.99      0.98      0.98      3757\n",
      "\n",
      "    accuracy                           0.98      7184\n",
      "   macro avg       0.98      0.98      0.98      7184\n",
      "weighted avg       0.98      0.98      0.98      7184\n",
      "\n"
     ]
    }
   ],
   "metadata": {}
  },
  {
   "cell_type": "code",
   "execution_count": 39,
   "source": [
    "# Test Data\r\n",
    "naive_bayes_clf.fit(X_train, y_train)\r\n",
    "\r\n",
    "y_test_pred2 = naive_bayes_clf.predict(X_test)\r\n",
    "print(classification_report(y_test, y_test_pred2))"
   ],
   "outputs": [
    {
     "output_type": "stream",
     "name": "stdout",
     "text": [
      "              precision    recall  f1-score   support\n",
      "\n",
      "           0       0.98      0.99      0.98      4284\n",
      "           1       0.99      0.98      0.98      4697\n",
      "\n",
      "    accuracy                           0.98      8981\n",
      "   macro avg       0.98      0.98      0.98      8981\n",
      "weighted avg       0.98      0.98      0.98      8981\n",
      "\n"
     ]
    }
   ],
   "metadata": {}
  },
  {
   "cell_type": "markdown",
   "source": [
    "## Using CountVectorizer with Bag of Words, Bigrams Only"
   ],
   "metadata": {}
  },
  {
   "cell_type": "code",
   "execution_count": 40,
   "source": [
    "vectorizer3 = CountVectorizer(stop_words='english', ngram_range=(2,2))\r\n",
    "vectorizer3.fit(X_train_text)\r\n",
    "\r\n",
    "X_train = vectorizer3.transform(X_train_text)\r\n",
    "X_val = vectorizer3.transform(X_val_text)\r\n",
    "X_test = vectorizer3.transform(X_test_text)"
   ],
   "outputs": [],
   "metadata": {}
  },
  {
   "cell_type": "code",
   "execution_count": 41,
   "source": [
    "# Validation Data\r\n",
    "naive_bayes_clf.fit(X_train, y_train)\r\n",
    "\r\n",
    "y_val_pred3 = naive_bayes_clf.predict(X_val)\r\n",
    "print(classification_report(y_val, y_val_pred3))"
   ],
   "outputs": [
    {
     "output_type": "stream",
     "name": "stdout",
     "text": [
      "              precision    recall  f1-score   support\n",
      "\n",
      "           0       0.98      0.98      0.98      3427\n",
      "           1       0.99      0.98      0.98      3757\n",
      "\n",
      "    accuracy                           0.98      7184\n",
      "   macro avg       0.98      0.98      0.98      7184\n",
      "weighted avg       0.98      0.98      0.98      7184\n",
      "\n"
     ]
    }
   ],
   "metadata": {}
  },
  {
   "cell_type": "code",
   "execution_count": 42,
   "source": [
    "# Test Data\r\n",
    "naive_bayes_clf.fit(X_train, y_train)\r\n",
    "\r\n",
    "y_test_pred3 = naive_bayes_clf.predict(X_test)\r\n",
    "print(classification_report(y_test, y_test_pred3))"
   ],
   "outputs": [
    {
     "output_type": "stream",
     "name": "stdout",
     "text": [
      "              precision    recall  f1-score   support\n",
      "\n",
      "           0       0.98      0.99      0.98      4284\n",
      "           1       0.99      0.98      0.99      4697\n",
      "\n",
      "    accuracy                           0.99      8981\n",
      "   macro avg       0.99      0.99      0.99      8981\n",
      "weighted avg       0.99      0.99      0.99      8981\n",
      "\n"
     ]
    }
   ],
   "metadata": {}
  },
  {
   "cell_type": "markdown",
   "source": [
    "## Using Tf-Idf and Unigrams"
   ],
   "metadata": {}
  },
  {
   "cell_type": "code",
   "execution_count": 43,
   "source": [
    "tfidf_params = {'unigram':(1,1), 'unigram and bigram': (1,2), 'bigram':(2,2)}\r\n",
    "\r\n",
    "for ngram, values in tfidf_params.items():\r\n",
    "    tfidf_vectorizer = TfidfVectorizer(analyzer='word', stop_words='english', ngram_range=values)\r\n",
    "    tfidf_vectorizer.fit(X_train_text)\r\n",
    "\r\n",
    "    X_train = tfidf_vectorizer.transform(X_train_text)\r\n",
    "    X_val = tfidf_vectorizer.transform(X_val_text)\r\n",
    "    X_test = tfidf_vectorizer.transform(X_test_text)\r\n",
    "\r\n",
    "    naive_bayes_clf = BernoulliNB()\r\n",
    "    print(f\"Model with {ngram}\")\r\n",
    "    naive_bayes_clf.fit(X_train, y_train)\r\n",
    "\r\n",
    "    # Validation Data\r\n",
    "    print(\"Testing using validation data:\")    \r\n",
    "    y_val_pred = naive_bayes_clf.predict(X_val)\r\n",
    "    print(classification_report(y_val, y_val_pred))\r\n",
    "    print(\"------------------------------------------\")\r\n",
    "\r\n",
    "    # Test Data\r\n",
    "    print(\"Testing using test data:\")\r\n",
    "    y_test_pred = naive_bayes_clf.predict(X_test)\r\n",
    "    print(classification_report(y_test, y_test_pred))\r\n",
    "    print(\"------------------------------------------\")\r\n",
    "    print(\"------------------------------------------\")"
   ],
   "outputs": [
    {
     "output_type": "stream",
     "name": "stdout",
     "text": [
      "Model with unigram\n",
      "Testing using validation data:\n",
      "              precision    recall  f1-score   support\n",
      "\n",
      "           0       0.96      0.98      0.97      3427\n",
      "           1       0.98      0.96      0.97      3757\n",
      "\n",
      "    accuracy                           0.97      7184\n",
      "   macro avg       0.97      0.97      0.97      7184\n",
      "weighted avg       0.97      0.97      0.97      7184\n",
      "\n",
      "------------------------------------------\n",
      "Testing using test data:\n",
      "              precision    recall  f1-score   support\n",
      "\n",
      "           0       0.96      0.98      0.97      4284\n",
      "           1       0.99      0.97      0.98      4697\n",
      "\n",
      "    accuracy                           0.98      8981\n",
      "   macro avg       0.98      0.98      0.98      8981\n",
      "weighted avg       0.98      0.98      0.98      8981\n",
      "\n",
      "------------------------------------------\n",
      "------------------------------------------\n",
      "Model with unigram and bigram\n",
      "Testing using validation data:\n",
      "              precision    recall  f1-score   support\n",
      "\n",
      "           0       0.98      0.99      0.98      3427\n",
      "           1       0.99      0.98      0.98      3757\n",
      "\n",
      "    accuracy                           0.98      7184\n",
      "   macro avg       0.98      0.98      0.98      7184\n",
      "weighted avg       0.98      0.98      0.98      7184\n",
      "\n",
      "------------------------------------------\n",
      "Testing using test data:\n",
      "              precision    recall  f1-score   support\n",
      "\n",
      "           0       0.98      0.99      0.98      4284\n",
      "           1       0.99      0.98      0.98      4697\n",
      "\n",
      "    accuracy                           0.98      8981\n",
      "   macro avg       0.98      0.98      0.98      8981\n",
      "weighted avg       0.98      0.98      0.98      8981\n",
      "\n",
      "------------------------------------------\n",
      "------------------------------------------\n",
      "Model with bigram\n",
      "Testing using validation data:\n",
      "              precision    recall  f1-score   support\n",
      "\n",
      "           0       0.98      0.98      0.98      3427\n",
      "           1       0.99      0.98      0.98      3757\n",
      "\n",
      "    accuracy                           0.98      7184\n",
      "   macro avg       0.98      0.98      0.98      7184\n",
      "weighted avg       0.98      0.98      0.98      7184\n",
      "\n",
      "------------------------------------------\n",
      "Testing using test data:\n",
      "              precision    recall  f1-score   support\n",
      "\n",
      "           0       0.98      0.99      0.98      4284\n",
      "           1       0.99      0.98      0.99      4697\n",
      "\n",
      "    accuracy                           0.99      8981\n",
      "   macro avg       0.99      0.99      0.99      8981\n",
      "weighted avg       0.99      0.99      0.99      8981\n",
      "\n",
      "------------------------------------------\n",
      "------------------------------------------\n"
     ]
    }
   ],
   "metadata": {}
  },
  {
   "cell_type": "code",
   "execution_count": 45,
   "source": [
    "# Ignore first\r\n",
    "\r\n",
    "# best_config = {\r\n",
    "#     # 'Max features': 0, \r\n",
    "#     'Best model': None,\r\n",
    "#     'Accuracy': 0, \r\n",
    "#     'Precision': 0, \r\n",
    "#     'Recall': 0, \r\n",
    "#     'F1': 0\r\n",
    "# }\r\n",
    "\r\n",
    "# # for n in range(500, 7000, 50):\r\n",
    "# vectorizer = CountVectorizer(max_features=1650, max_df=0.15) # max_features=500, min_df=0.01\r\n",
    "# vectorizer.fit(sentences)\r\n",
    "# X_train = vectorizer.transform(sentences)\r\n",
    "\r\n",
    "# validation_X_test = vectorizer.transform(validation_sentences)\r\n",
    "\r\n",
    "# for model_name in models_dict:\r\n",
    "#     model = models_dict[model_name]\r\n",
    "#     model.fit(X_train, y)\r\n",
    "#     predictions = model.predict(validation_X_test)\r\n",
    "\r\n",
    "#     acc = accuracy_score(validation_y,predictions)  # always true label first, then your predicted labels!\r\n",
    "#     precision = precision_score(validation_y,predictions) \r\n",
    "#     recall = recall_score(validation_y,predictions) \r\n",
    "#     f1 = f1_score(validation_y,predictions)\r\n",
    "\r\n",
    "#     if f1 > best_config['F1']:\r\n",
    "#         best_config['Best model'] = model_name\r\n",
    "#         best_config['Accuracy'] = round(acc, 3)\r\n",
    "#         best_config['Precision'] = round(precision, 3)\r\n",
    "#         best_config['Recall'] = round(recall, 3)\r\n",
    "#         best_config['F1'] = round(f1, 3)\r\n",
    "\r\n",
    "# for k, v in best_config.items():\r\n",
    "#     print(f'{k}: {v}')"
   ],
   "outputs": [],
   "metadata": {}
  }
 ],
 "metadata": {
  "orig_nbformat": 4,
  "language_info": {
   "name": "python",
   "version": "3.7.3",
   "mimetype": "text/x-python",
   "codemirror_mode": {
    "name": "ipython",
    "version": 3
   },
   "pygments_lexer": "ipython3",
   "nbconvert_exporter": "python",
   "file_extension": ".py"
  },
  "kernelspec": {
   "name": "python3",
   "display_name": "Python 3.7.3 64-bit ('base': conda)"
  },
  "interpreter": {
   "hash": "5f292722d6d50c2426abae6fd15a85386b49c5393ec98f1c35f79e4e4dd7448b"
  }
 },
 "nbformat": 4,
 "nbformat_minor": 2
}