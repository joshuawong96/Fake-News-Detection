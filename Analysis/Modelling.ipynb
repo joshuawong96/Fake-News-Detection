{
 "cells": [
  {
   "cell_type": "code",
   "execution_count": 2,
   "metadata": {},
   "outputs": [],
   "source": [
    "# Packages for data \n",
    "import pandas as pd\n",
    "import numpy as np\n",
    "import pickle\n",
    "from collections import Counter\n",
    "\n",
    "# Packages for machine learning modelling\n",
    "from sklearn.model_selection import train_test_split\n",
    "from sklearn.feature_extraction.text import CountVectorizer, TfidfVectorizer\n",
    "from sklearn.naive_bayes import BernoulliNB\n",
    "\n",
    "from sklearn.metrics import classification_report,confusion_matrix, ConfusionMatrixDisplay, accuracy_score\n",
    "# precision_score, recall_score, f1_score\n",
    "\n",
    "# Packages for visualisation \n",
    "import matplotlib.pyplot as plt\n",
    "\n",
    "# Packages for MLP\n",
    "import nltk\n"
   ]
  },
  {
   "cell_type": "markdown",
   "metadata": {},
   "source": [
    "# Reading the data"
   ]
  },
  {
   "cell_type": "code",
   "execution_count": 3,
   "metadata": {},
   "outputs": [],
   "source": [
    "train_data = pd.read_csv(\"../Data/train_data.csv\")\n",
    "val_data = pd.read_csv(\"../Data/validation_data.csv\")\n",
    "test_data = pd.read_csv(\"../Data/test_data.csv\")"
   ]
  },
  {
   "cell_type": "code",
   "execution_count": 6,
   "metadata": {},
   "outputs": [],
   "source": [
    "X_train_text = train_data[\"text_preprocessed\"].values\n",
    "y_train = train_data[\"class_label\"].values\n",
    "\n",
    "X_val_text = val_data[\"text_preprocessed\"].values\n",
    "y_val = val_data[\"class_label\"].values\n",
    "\n",
    "X_test_text = test_data[\"text_preprocessed\"].values\n",
    "y_test = test_data[\"class_label\"].values"
   ]
  },
  {
   "cell_type": "markdown",
   "metadata": {},
   "source": [
    "# Creating the Base Model using Naive Bayes\n",
    "\n",
    "## Using CountVectorizer with Bag of Words, Unigrams"
   ]
  },
  {
   "cell_type": "code",
   "execution_count": 7,
   "metadata": {},
   "outputs": [],
   "source": [
    "vectorizer = CountVectorizer(stop_words='english', ngram_range=(1,1))\n",
    "vectorizer.fit(X_train_text)\n",
    "\n",
    "X_train = vectorizer.transform(X_train_text)\n",
    "X_val = vectorizer.transform(X_val_text)\n",
    "X_test = vectorizer.transform(X_test_text)"
   ]
  },
  {
   "cell_type": "code",
   "execution_count": 8,
   "metadata": {},
   "outputs": [
    {
     "name": "stdout",
     "output_type": "stream",
     "text": [
      "number of features used: 238266\n"
     ]
    }
   ],
   "source": [
    "print(\"number of features used:\", len(vectorizer.get_feature_names()))"
   ]
  },
  {
   "cell_type": "code",
   "execution_count": 9,
   "metadata": {},
   "outputs": [
    {
     "name": "stdout",
     "output_type": "stream",
     "text": [
      "  (0, 516)\t1\n",
      "  (0, 1922)\t1\n",
      "  (0, 2029)\t1\n",
      "  (0, 4715)\t1\n",
      "  (0, 5598)\t1\n",
      "  (0, 6839)\t1\n",
      "  (0, 7282)\t1\n",
      "  (0, 7488)\t1\n",
      "  (0, 7630)\t1\n",
      "  (0, 7783)\t1\n",
      "  (0, 8151)\t1\n",
      "  (0, 8253)\t1\n",
      "  (0, 9085)\t1\n",
      "  (0, 9332)\t1\n",
      "  (0, 9881)\t1\n",
      "  (0, 11762)\t1\n",
      "  (0, 14195)\t1\n",
      "  (0, 14350)\t1\n",
      "  (0, 14626)\t1\n",
      "  (0, 15044)\t1\n",
      "  (0, 15420)\t1\n",
      "  (0, 16070)\t1\n",
      "  (0, 16649)\t1\n",
      "  (0, 16853)\t2\n",
      "  (0, 16959)\t1\n",
      "  :\t:\n",
      "  (39059, 207643)\t1\n",
      "  (39059, 207675)\t1\n",
      "  (39059, 207722)\t8\n",
      "  (39059, 209919)\t1\n",
      "  (39059, 211547)\t1\n",
      "  (39059, 212398)\t1\n",
      "  (39059, 213163)\t1\n",
      "  (39059, 213646)\t1\n",
      "  (39059, 213724)\t3\n",
      "  (39059, 213905)\t1\n",
      "  (39059, 214143)\t1\n",
      "  (39059, 214295)\t1\n",
      "  (39059, 214663)\t2\n",
      "  (39059, 216315)\t1\n",
      "  (39059, 217267)\t1\n",
      "  (39059, 217354)\t1\n",
      "  (39059, 217846)\t1\n",
      "  (39059, 217891)\t1\n",
      "  (39059, 218513)\t1\n",
      "  (39059, 218862)\t1\n",
      "  (39059, 218944)\t1\n",
      "  (39059, 219049)\t1\n",
      "  (39059, 219173)\t1\n",
      "  (39059, 219210)\t1\n",
      "  (39059, 220668)\t1\n"
     ]
    }
   ],
   "source": [
    "# Sparse vector of frequency of each word appearing in a text article\n",
    "print(X_train)"
   ]
  },
  {
   "cell_type": "code",
   "execution_count": 10,
   "metadata": {},
   "outputs": [
    {
     "data": {
      "text/plain": [
       "BernoulliNB()"
      ]
     },
     "execution_count": 10,
     "metadata": {},
     "output_type": "execute_result"
    }
   ],
   "source": [
    "naive_bayes_clf = BernoulliNB()\n",
    "naive_bayes_clf.fit(X_train, y_train)"
   ]
  },
  {
   "cell_type": "code",
   "execution_count": 11,
   "metadata": {},
   "outputs": [
    {
     "name": "stdout",
     "output_type": "stream",
     "text": [
      "              precision    recall  f1-score   support\n",
      "\n",
      "           0       0.89      0.90      0.90      6361\n",
      "           1       0.90      0.89      0.90      6659\n",
      "\n",
      "    accuracy                           0.90     13020\n",
      "   macro avg       0.90      0.90      0.90     13020\n",
      "weighted avg       0.90      0.90      0.90     13020\n",
      "\n"
     ]
    }
   ],
   "source": [
    "y_val_pred = naive_bayes_clf.predict(X_val)\n",
    "# accuracy_score(y_val, y_val_pred)\n",
    "print(classification_report(y_val, y_val_pred))"
   ]
  },
  {
   "cell_type": "code",
   "execution_count": 12,
   "metadata": {},
   "outputs": [
    {
     "name": "stdout",
     "output_type": "stream",
     "text": [
      "              precision    recall  f1-score   support\n",
      "\n",
      "           0       0.90      0.90      0.90      6361\n",
      "           1       0.90      0.91      0.91      6660\n",
      "\n",
      "    accuracy                           0.90     13021\n",
      "   macro avg       0.90      0.90      0.90     13021\n",
      "weighted avg       0.90      0.90      0.90     13021\n",
      "\n"
     ]
    }
   ],
   "source": [
    "y_test_pred = naive_bayes_clf.predict(X_test)\n",
    "print(classification_report(y_test, y_test_pred))"
   ]
  },
  {
   "cell_type": "markdown",
   "metadata": {},
   "source": [
    "## Using CountVectorizer with Bag of Words, Unigrams + Bigrams"
   ]
  },
  {
   "cell_type": "code",
   "execution_count": 13,
   "metadata": {},
   "outputs": [],
   "source": [
    "vectorizer2 = CountVectorizer(stop_words='english', ngram_range=(1,2))\n",
    "vectorizer2.fit(X_train_text)\n",
    "\n",
    "X_train = vectorizer2.transform(X_train_text)\n",
    "X_val = vectorizer2.transform(X_val_text)\n",
    "X_test = vectorizer2.transform(X_test_text)"
   ]
  },
  {
   "cell_type": "code",
   "execution_count": 14,
   "metadata": {},
   "outputs": [
    {
     "name": "stdout",
     "output_type": "stream",
     "text": [
      "              precision    recall  f1-score   support\n",
      "\n",
      "           0       0.95      0.88      0.91      6361\n",
      "           1       0.89      0.96      0.92      6659\n",
      "\n",
      "    accuracy                           0.92     13020\n",
      "   macro avg       0.92      0.92      0.92     13020\n",
      "weighted avg       0.92      0.92      0.92     13020\n",
      "\n"
     ]
    }
   ],
   "source": [
    "# Validation Data\n",
    "naive_bayes_clf.fit(X_train, y_train)\n",
    "\n",
    "y_val_pred2 = naive_bayes_clf.predict(X_val)\n",
    "print(classification_report(y_val, y_val_pred2))"
   ]
  },
  {
   "cell_type": "code",
   "execution_count": 15,
   "metadata": {},
   "outputs": [
    {
     "name": "stdout",
     "output_type": "stream",
     "text": [
      "              precision    recall  f1-score   support\n",
      "\n",
      "           0       0.96      0.87      0.91      6361\n",
      "           1       0.89      0.96      0.92      6660\n",
      "\n",
      "    accuracy                           0.92     13021\n",
      "   macro avg       0.92      0.92      0.92     13021\n",
      "weighted avg       0.92      0.92      0.92     13021\n",
      "\n"
     ]
    }
   ],
   "source": [
    "# Test Data\n",
    "naive_bayes_clf.fit(X_train, y_train)\n",
    "\n",
    "y_test_pred2 = naive_bayes_clf.predict(X_test)\n",
    "print(classification_report(y_test, y_test_pred2))"
   ]
  },
  {
   "cell_type": "markdown",
   "metadata": {},
   "source": [
    "## Using CountVectorizer with Bag of Words, Bigrams Only"
   ]
  },
  {
   "cell_type": "code",
   "execution_count": null,
   "metadata": {},
   "outputs": [],
   "source": [
    "vectorizer3 = CountVectorizer(stop_words='english', ngram_range=(2,2))\n",
    "vectorizer3.fit(X_train_text)\n",
    "\n",
    "X_train = vectorizer3.transform(X_train_text)\n",
    "X_val = vectorizer3.transform(X_val_text)\n",
    "X_test = vectorizer3.transform(X_test_text)"
   ]
  },
  {
   "cell_type": "code",
   "execution_count": 16,
   "metadata": {},
   "outputs": [
    {
     "name": "stdout",
     "output_type": "stream",
     "text": [
      "              precision    recall  f1-score   support\n",
      "\n",
      "           0       0.95      0.88      0.91      6361\n",
      "           1       0.89      0.96      0.92      6659\n",
      "\n",
      "    accuracy                           0.92     13020\n",
      "   macro avg       0.92      0.92      0.92     13020\n",
      "weighted avg       0.92      0.92      0.92     13020\n",
      "\n"
     ]
    }
   ],
   "source": [
    "# Validation Data\n",
    "naive_bayes_clf.fit(X_train, y_train)\n",
    "\n",
    "y_val_pred3 = naive_bayes_clf.predict(X_val)\n",
    "print(classification_report(y_val, y_val_pred3))"
   ]
  },
  {
   "cell_type": "code",
   "execution_count": 17,
   "metadata": {},
   "outputs": [
    {
     "name": "stdout",
     "output_type": "stream",
     "text": [
      "              precision    recall  f1-score   support\n",
      "\n",
      "           0       0.96      0.87      0.91      6361\n",
      "           1       0.89      0.96      0.92      6660\n",
      "\n",
      "    accuracy                           0.92     13021\n",
      "   macro avg       0.92      0.92      0.92     13021\n",
      "weighted avg       0.92      0.92      0.92     13021\n",
      "\n"
     ]
    }
   ],
   "source": [
    "# Test Data\n",
    "naive_bayes_clf.fit(X_train, y_train)\n",
    "\n",
    "y_test_pred3 = naive_bayes_clf.predict(X_test)\n",
    "print(classification_report(y_test, y_test_pred3))"
   ]
  },
  {
   "cell_type": "markdown",
   "metadata": {},
   "source": [
    "## Using Tf-Idf and Unigrams"
   ]
  },
  {
   "cell_type": "code",
   "execution_count": 18,
   "metadata": {},
   "outputs": [
    {
     "name": "stdout",
     "output_type": "stream",
     "text": [
      "Model with unigram\n",
      "Testing using validation data:\n",
      "              precision    recall  f1-score   support\n",
      "\n",
      "           0       0.89      0.90      0.90      6361\n",
      "           1       0.90      0.89      0.90      6659\n",
      "\n",
      "    accuracy                           0.90     13020\n",
      "   macro avg       0.90      0.90      0.90     13020\n",
      "weighted avg       0.90      0.90      0.90     13020\n",
      "\n",
      "------------------------------------------\n",
      "Testing using test data:\n",
      "              precision    recall  f1-score   support\n",
      "\n",
      "           0       0.90      0.90      0.90      6361\n",
      "           1       0.90      0.91      0.91      6660\n",
      "\n",
      "    accuracy                           0.90     13021\n",
      "   macro avg       0.90      0.90      0.90     13021\n",
      "weighted avg       0.90      0.90      0.90     13021\n",
      "\n",
      "------------------------------------------\n",
      "------------------------------------------\n",
      "Model with unigram and bigram\n",
      "Testing using validation data:\n",
      "              precision    recall  f1-score   support\n",
      "\n",
      "           0       0.95      0.88      0.91      6361\n",
      "           1       0.89      0.96      0.92      6659\n",
      "\n",
      "    accuracy                           0.92     13020\n",
      "   macro avg       0.92      0.92      0.92     13020\n",
      "weighted avg       0.92      0.92      0.92     13020\n",
      "\n",
      "------------------------------------------\n",
      "Testing using test data:\n",
      "              precision    recall  f1-score   support\n",
      "\n",
      "           0       0.96      0.87      0.91      6361\n",
      "           1       0.89      0.96      0.92      6660\n",
      "\n",
      "    accuracy                           0.92     13021\n",
      "   macro avg       0.92      0.92      0.92     13021\n",
      "weighted avg       0.92      0.92      0.92     13021\n",
      "\n",
      "------------------------------------------\n",
      "------------------------------------------\n",
      "Model with bigram\n",
      "Testing using validation data:\n",
      "              precision    recall  f1-score   support\n",
      "\n",
      "           0       0.96      0.85      0.91      6361\n",
      "           1       0.87      0.97      0.92      6659\n",
      "\n",
      "    accuracy                           0.91     13020\n",
      "   macro avg       0.92      0.91      0.91     13020\n",
      "weighted avg       0.92      0.91      0.91     13020\n",
      "\n",
      "------------------------------------------\n",
      "Testing using test data:\n",
      "              precision    recall  f1-score   support\n",
      "\n",
      "           0       0.96      0.84      0.90      6361\n",
      "           1       0.87      0.97      0.92      6660\n",
      "\n",
      "    accuracy                           0.91     13021\n",
      "   macro avg       0.92      0.91      0.91     13021\n",
      "weighted avg       0.91      0.91      0.91     13021\n",
      "\n",
      "------------------------------------------\n",
      "------------------------------------------\n"
     ]
    }
   ],
   "source": [
    "tfidf_params = {'unigram':(1,1), 'unigram and bigram': (1,2), 'bigram':(2,2)}\n",
    "\n",
    "for ngram, values in tfidf_params.items():\n",
    "    tfidf_vectorizer = TfidfVectorizer(analyzer='word', stop_words='english', ngram_range=values)\n",
    "    tfidf_vectorizer.fit(X_train_text)\n",
    "\n",
    "    X_train = tfidf_vectorizer.transform(X_train_text)\n",
    "    X_val = tfidf_vectorizer.transform(X_val_text)\n",
    "    X_test = tfidf_vectorizer.transform(X_test_text)\n",
    "\n",
    "    naive_bayes_clf = BernoulliNB()\n",
    "    print(f\"Model with {ngram}\")\n",
    "    naive_bayes_clf.fit(X_train, y_train)\n",
    "\n",
    "    # Validation Data\n",
    "    print(\"Testing using validation data:\")    \n",
    "    y_val_pred = naive_bayes_clf.predict(X_val)\n",
    "    print(classification_report(y_val, y_val_pred))\n",
    "    print(\"------------------------------------------\")\n",
    "\n",
    "    # Test Data\n",
    "    print(\"Testing using test data:\")\n",
    "    y_test_pred = naive_bayes_clf.predict(X_test)\n",
    "    print(classification_report(y_test, y_test_pred))\n",
    "    print(\"------------------------------------------\")\n",
    "    print(\"------------------------------------------\")"
   ]
  },
  {
   "cell_type": "code",
   "execution_count": 19,
   "metadata": {},
   "outputs": [],
   "source": [
    "# Ignore first\n",
    "\n",
    "# best_config = {\n",
    "#     # 'Max features': 0, \n",
    "#     'Best model': None,\n",
    "#     'Accuracy': 0, \n",
    "#     'Precision': 0, \n",
    "#     'Recall': 0, \n",
    "#     'F1': 0\n",
    "# }\n",
    "\n",
    "# # for n in range(500, 7000, 50):\n",
    "# vectorizer = CountVectorizer(max_features=1650, max_df=0.15) # max_features=500, min_df=0.01\n",
    "# vectorizer.fit(sentences)\n",
    "# X_train = vectorizer.transform(sentences)\n",
    "\n",
    "# validation_X_test = vectorizer.transform(validation_sentences)\n",
    "\n",
    "# for model_name in models_dict:\n",
    "#     model = models_dict[model_name]\n",
    "#     model.fit(X_train, y)\n",
    "#     predictions = model.predict(validation_X_test)\n",
    "\n",
    "#     acc = accuracy_score(validation_y,predictions)  # always true label first, then your predicted labels!\n",
    "#     precision = precision_score(validation_y,predictions) \n",
    "#     recall = recall_score(validation_y,predictions) \n",
    "#     f1 = f1_score(validation_y,predictions)\n",
    "\n",
    "#     if f1 > best_config['F1']:\n",
    "#         best_config['Best model'] = model_name\n",
    "#         best_config['Accuracy'] = round(acc, 3)\n",
    "#         best_config['Precision'] = round(precision, 3)\n",
    "#         best_config['Recall'] = round(recall, 3)\n",
    "#         best_config['F1'] = round(f1, 3)\n",
    "\n",
    "# for k, v in best_config.items():\n",
    "#     print(f'{k}: {v}')"
   ]
  }
 ],
 "metadata": {
  "interpreter": {
   "hash": "5f292722d6d50c2426abae6fd15a85386b49c5393ec98f1c35f79e4e4dd7448b"
  },
  "kernelspec": {
   "display_name": "Python 3.7.3 64-bit ('base': conda)",
   "name": "python3"
  },
  "language_info": {
   "codemirror_mode": {
    "name": "ipython",
    "version": 3
   },
   "file_extension": ".py",
   "mimetype": "text/x-python",
   "name": "python",
   "nbconvert_exporter": "python",
   "pygments_lexer": "ipython3",
   "version": "3.7.3"
  },
  "orig_nbformat": 4
 },
 "nbformat": 4,
 "nbformat_minor": 2
}
