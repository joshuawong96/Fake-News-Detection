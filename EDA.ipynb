{
 "cells": [
  {
   "cell_type": "markdown",
   "source": [
    "# Imports"
   ],
   "metadata": {}
  },
  {
   "cell_type": "code",
   "execution_count": null,
   "source": [
    "import os\r\n",
    "import pandas as pd\r\n",
    "import numpy as np\r\n",
    "import sklearn\r\n",
    "\r\n",
    "from sklearn.feature_extraction.text import TfidfVectorizer\r\n",
    "\r\n",
    "import nltk\r\n",
    "# nltk.download('stopwords')\r\n",
    "# nltk.download('wordnet')\r\n",
    "# nltk.download('punkt')\r\n",
    "from nltk.corpus import stopwords\r\n",
    "from nltk.tokenize import word_tokenize\r\n",
    "from nltk.stem import PorterStemmer\r\n",
    "from nltk.stem import WordNetLemmatizer\r\n",
    "import string\r\n",
    "from wordcloud import WordCloud, STOPWORDS\r\n",
    "\r\n",
    "# import plotly.express as px\r\n",
    "import matplotlib.pyplot as plt"
   ],
   "outputs": [],
   "metadata": {}
  },
  {
   "cell_type": "markdown",
   "source": [
    "# Preprocessing"
   ],
   "metadata": {}
  },
  {
   "cell_type": "markdown",
   "source": [
    "## Loading datasets"
   ],
   "metadata": {}
  },
  {
   "cell_type": "code",
   "execution_count": null,
   "source": [
    "# path = '/Users/joshuawong/Desktop/dataset_1'\r\n",
    "path = 'C:/Users/user/Documents/GitHub/Fake-News-Detection/dataset_1' #lingjia\r\n",
    "\r\n",
    "os.chdir(path)\r\n",
    "os.listdir()"
   ],
   "outputs": [],
   "metadata": {}
  },
  {
   "cell_type": "code",
   "execution_count": null,
   "source": [
    "# Reading CSV files\r\n",
    "fake = pd.read_csv('Fake.csv')\r\n",
    "true = pd.read_csv('True.csv')\r\n",
    "\r\n",
    "# Defing new column with class label\r\n",
    "fake['class_label'] = 'Fake'\r\n",
    "true['class_label'] = 'True'\r\n",
    "\r\n",
    "# Combining datasets\r\n",
    "df = pd.concat([true, fake], ignore_index=True)\r\n",
    "df"
   ],
   "outputs": [],
   "metadata": {}
  },
  {
   "cell_type": "code",
   "execution_count": null,
   "source": [
    "# Combine title and text columns\r\n",
    "df['text'] = df['title'] + ' ' + df['text']\r\n",
    "\r\n",
    "# Drop date and title columns\r\n",
    "df = df.drop(columns=['date', 'title'])\r\n",
    "df"
   ],
   "outputs": [],
   "metadata": {}
  },
  {
   "cell_type": "markdown",
   "source": [
    "## Preprocessing for Wordclouds"
   ],
   "metadata": {}
  },
  {
   "cell_type": "code",
   "execution_count": null,
   "source": [
    "# Testing preprocessing function for wordclouds, which require a string as input\r\n",
    "text = df['text'][0] # Declare sample text for preprocessing from df\r\n",
    "print(text+'\\n\\n') # Uncomment to see original text\r\n",
    "remove_punctuations = ''.join([word for word in text if word not in string.punctuation and word not in ['“', '”', '’', '‘']])\r\n",
    "lowercase = remove_punctuations.lower()\r\n",
    "tokenize = word_tokenize(lowercase)\r\n",
    "stopwords_removed = [word for word in tokenize if word not in STOPWORDS]\r\n",
    "# stemmed = [PorterStemmer().stem(word) for word in stopwords_removed] # Not sure if we need to stem here for the wordclouds\r\n",
    "lemmatized = [WordNetLemmatizer().lemmatize(word) for word in stopwords_removed]\r\n",
    "preprocessed_text = \" \".join(stopwords_removed) # Join back all tokenized words into a string\r\n",
    "preprocessed_text # Once satisfied, make into function"
   ],
   "outputs": [],
   "metadata": {}
  },
  {
   "cell_type": "code",
   "execution_count": null,
   "source": [
    "def preprocess(text):\r\n",
    "    remove_punctuations = ''.join([word for word in text if word not in string.punctuation and word not in ['“', '”', '’', '‘']])\r\n",
    "    lowercase = remove_punctuations.lower()\r\n",
    "    tokenized = word_tokenize(lowercase)\r\n",
    "    stopwords_removed = [word for word in tokenized if word not in STOPWORDS]\r\n",
    "    lemmatized = [WordNetLemmatizer().lemmatize(word) for word in stopwords_removed]\r\n",
    "    preprocessed_text = \" \".join(stopwords_removed)\r\n",
    "    return preprocessed_text\r\n",
    "\r\n",
    "# Apply function to text column and create new column for use later with wordclouds\r\n",
    "df['text_preprocessed'] = df['text'].apply(preprocess)"
   ],
   "outputs": [],
   "metadata": {}
  },
  {
   "cell_type": "markdown",
   "source": [
    "## Word embedding model"
   ],
   "metadata": {}
  },
  {
   "cell_type": "code",
   "execution_count": null,
   "source": [
    "vectorizer = TfidfVectorizer()"
   ],
   "outputs": [],
   "metadata": {}
  },
  {
   "cell_type": "code",
   "execution_count": null,
   "source": [
    "fdist = nltk.FreqDist(haze)"
   ],
   "outputs": [],
   "metadata": {}
  },
  {
   "cell_type": "code",
   "execution_count": null,
   "source": [
    "\r\n",
    "\r\n",
    "vectors = vectorizer.fit_transform([documentA, documentB])\r\n",
    "feature_names = vectorizer.get_feature_names()\r\n",
    "dense = vectors.todense()\r\n",
    "denselist = dense.tolist()\r\n",
    "df = pd.DataFrame(denselist, columns=feature_names)"
   ],
   "outputs": [],
   "metadata": {}
  },
  {
   "cell_type": "markdown",
   "source": [
    "# EDA"
   ],
   "metadata": {}
  },
  {
   "cell_type": "markdown",
   "source": [
    "## Class distribution"
   ],
   "metadata": {}
  },
  {
   "cell_type": "code",
   "execution_count": null,
   "source": [
    "x = df['class_label'].unique()\r\n",
    "y = df['class_label'].value_counts().values\r\n",
    "\r\n",
    "def add_labels(x,y):\r\n",
    "    for i in range(len(x)):\r\n",
    "        plt.text(i,y[i]+500,y[i], ha='center') # Second element - adjust space above bar to plot the label\r\n",
    "\r\n",
    "fig = plt.figure()\r\n",
    "plt.ylim([0, 26000]) # Set y-axis limits\r\n",
    "plt.bar(x,y, color={'blue', 'red'})\r\n",
    "plt.title('Class distribution')\r\n",
    "plt.xlabel('Class Labels')\r\n",
    "plt.ylabel('Frequency')\r\n",
    "add_labels(x,y)\r\n",
    "plt.show()\r\n",
    "\r\n",
    "# plt.savefig('images/class_distribution.png')\r\n"
   ],
   "outputs": [],
   "metadata": {}
  },
  {
   "cell_type": "markdown",
   "source": [
    "## Subjects distribution"
   ],
   "metadata": {}
  },
  {
   "cell_type": "code",
   "execution_count": null,
   "source": [
    "x = df['subject'].unique()\r\n",
    "y = df['subject'].value_counts().values\r\n",
    "\r\n",
    "def add_labels(x,y):\r\n",
    "    for i in range(len(x)):\r\n",
    "        plt.text(i,y[i]+300,y[i], ha='center') # Second element - adjust space above bar to plot the label\r\n",
    "\r\n",
    "plt.figure()\r\n",
    "plt.ylim([0, 12500]) # Set y-axis limits\r\n",
    "plt.bar(x,y)\r\n",
    "plt.xticks(rotation=70)\r\n",
    "plt.title('Subjects distribution')\r\n",
    "plt.xlabel('Subjects')\r\n",
    "plt.ylabel('Frequency')\r\n",
    "add_labels(x,y)\r\n",
    "plt.show()\r\n",
    "\r\n",
    "# plt.savefig('images/category_counts.png')"
   ],
   "outputs": [],
   "metadata": {}
  },
  {
   "cell_type": "markdown",
   "source": [
    "# Wordclouds"
   ],
   "metadata": {}
  },
  {
   "cell_type": "code",
   "execution_count": null,
   "source": [
    "# Defining stopwords\r\n",
    "stopwords_list = list(set(stopwords.words('english') + list(STOPWORDS))) # combine NLTK stopwords and wordcloud STOPWORDS\r\n",
    "stopwords_list[:10] # Show some examples of stopwords"
   ],
   "outputs": [],
   "metadata": {}
  },
  {
   "cell_type": "markdown",
   "source": [
    "## All words"
   ],
   "metadata": {}
  },
  {
   "cell_type": "code",
   "execution_count": null,
   "source": [
    "# Create wordcloud string to pass into wordcloud\r\n",
    "wordcloud_string1 = \"\"\r\n",
    "for text in df['text_preprocessed']:\r\n",
    "    wordcloud_string1 += text\r\n",
    "\r\n",
    "wordcloud_string[:500] # Show output string"
   ],
   "outputs": [],
   "metadata": {}
  },
  {
   "cell_type": "code",
   "execution_count": null,
   "source": [
    "fdist = nltk.FreqDist(wordcloud_string1.split(' '))\r\n",
    "most_common = fdist.most_common(22)"
   ],
   "outputs": [],
   "metadata": {}
  },
  {
   "cell_type": "code",
   "execution_count": null,
   "source": [
    "most_common"
   ],
   "outputs": [],
   "metadata": {}
  },
  {
   "cell_type": "code",
   "execution_count": null,
   "source": [
    "# Define wordcloud\r\n",
    "cloud = WordCloud(background_color='white', stopwords = stopwords_list, width=2000, height=1000).generate(wordcloud_string)\r\n",
    "\r\n",
    "# Plot\r\n",
    "plt.imshow(cloud, interpolation='bilinear')\r\n",
    "plt.axis(\"off\")\r\n",
    "plt.show()\r\n",
    "\r\n",
    "# Saving file\r\n",
    "cloud.to_file('images2/wordcloud_all.png')"
   ],
   "outputs": [],
   "metadata": {}
  },
  {
   "cell_type": "markdown",
   "source": [
    "## Fake only"
   ],
   "metadata": {}
  },
  {
   "cell_type": "code",
   "execution_count": null,
   "source": [
    "# Create wordcloud string to pass into wordcloud\r\n",
    "wordcloud_string2 = \"\"\r\n",
    "for text in df['text_preprocessed'][df['class_label']=='Fake']:\r\n",
    "    wordcloud_string2 += text"
   ],
   "outputs": [],
   "metadata": {}
  },
  {
   "cell_type": "code",
   "execution_count": null,
   "source": [
    "# Define wordcloud\r\n",
    "cloud = WordCloud(background_color='white', stopwords = stopwords_list, width=2000, height=1000).generate(wordcloud_string)\r\n",
    "\r\n",
    "# Plot\r\n",
    "plt.imshow(cloud, interpolation='bilinear')\r\n",
    "plt.axis(\"off\")\r\n",
    "plt.show()\r\n",
    "\r\n",
    "# Saving file\r\n",
    "cloud.to_file('images2/wordcloud_fake.png')"
   ],
   "outputs": [],
   "metadata": {}
  },
  {
   "cell_type": "markdown",
   "source": [
    "## True only"
   ],
   "metadata": {}
  },
  {
   "cell_type": "code",
   "execution_count": null,
   "source": [
    "# Create wordcloud string to pass into wordcloud\r\n",
    "wordcloud_string3 = \"\"\r\n",
    "for text in df['text_preprocessed'][df['class_label']=='True']:\r\n",
    "    wordcloud_string3 += text"
   ],
   "outputs": [],
   "metadata": {}
  },
  {
   "cell_type": "code",
   "execution_count": null,
   "source": [
    "# Define wordcloud\r\n",
    "cloud = WordCloud(background_color='white', stopwords = stopwords_list, width=2000, height=1000).generate(wordcloud_string)\r\n",
    "\r\n",
    "# Plot\r\n",
    "plt.imshow(cloud, interpolation='bilinear')\r\n",
    "plt.axis(\"off\")\r\n",
    "plt.show()\r\n",
    "\r\n",
    "# Saving file\r\n",
    "cloud.to_file('images2/wordcloud_true.png')"
   ],
   "outputs": [],
   "metadata": {}
  },
  {
   "cell_type": "markdown",
   "source": [
    "# Sentiment Analysis"
   ],
   "metadata": {}
  },
  {
   "cell_type": "markdown",
   "source": [
    "## Using VADER"
   ],
   "metadata": {}
  },
  {
   "cell_type": "code",
   "execution_count": null,
   "source": [
    "from nltk.sentiment.vader import SentimentIntensityAnalyzer\r\n",
    "sid = SentimentIntensityAnalyzer()"
   ],
   "outputs": [],
   "metadata": {}
  },
  {
   "cell_type": "code",
   "execution_count": null,
   "source": [
    "df.head()"
   ],
   "outputs": [],
   "metadata": {}
  },
  {
   "cell_type": "code",
   "execution_count": null,
   "source": [
    "df['scores'] = df['text_preprocessed'].apply(lambda text_preprocessed: sid.polarity_scores(text_preprocessed))\r\n"
   ],
   "outputs": [],
   "metadata": {}
  },
  {
   "cell_type": "code",
   "execution_count": null,
   "source": [
    "df['vader_compound'] = df['scores'].apply(lambda score_dict: score_dict['compound'])\r\n",
    "\r\n",
    "df"
   ],
   "outputs": [],
   "metadata": {}
  },
  {
   "cell_type": "markdown",
   "source": [
    "## Using TextBlob"
   ],
   "metadata": {}
  },
  {
   "cell_type": "code",
   "execution_count": null,
   "source": [
    "from textblob import TextBlob"
   ],
   "outputs": [],
   "metadata": {}
  },
  {
   "cell_type": "code",
   "execution_count": null,
   "source": [
    "def getSubjectivity(text):\r\n",
    "    return TextBlob(text).sentiment.subjectivity\r\n",
    "\r\n",
    "def getSentiment(polarity):\r\n",
    "    if polarity > 0:\r\n",
    "        return 'pos'\r\n",
    "    elif polarity == 0:\r\n",
    "        return 'neu'\r\n",
    "    else:\r\n",
    "        return 'neg'\r\n",
    "\r\n",
    "def getPolarity(text):\r\n",
    "    return TextBlob(text).sentiment.polarity"
   ],
   "outputs": [],
   "metadata": {}
  },
  {
   "cell_type": "code",
   "execution_count": null,
   "source": [
    "df['textblob_polarity'] = df['text_preprocessed'].apply(getPolarity)\r\n",
    "df['textblob_sentiment']= df['textblob_polarity'].apply(getSentiment)\r\n",
    "df['textblob_subjectivity'] = df['text_preprocessed'].apply(getSubjectivity)"
   ],
   "outputs": [],
   "metadata": {}
  },
  {
   "cell_type": "code",
   "execution_count": 44,
   "source": [
    "df"
   ],
   "outputs": [
    {
     "output_type": "execute_result",
     "data": {
      "text/html": [
       "<div>\n",
       "<style scoped>\n",
       "    .dataframe tbody tr th:only-of-type {\n",
       "        vertical-align: middle;\n",
       "    }\n",
       "\n",
       "    .dataframe tbody tr th {\n",
       "        vertical-align: top;\n",
       "    }\n",
       "\n",
       "    .dataframe thead th {\n",
       "        text-align: right;\n",
       "    }\n",
       "</style>\n",
       "<table border=\"1\" class=\"dataframe\">\n",
       "  <thead>\n",
       "    <tr style=\"text-align: right;\">\n",
       "      <th></th>\n",
       "      <th>text</th>\n",
       "      <th>subject</th>\n",
       "      <th>class_label</th>\n",
       "      <th>text_preprocessed</th>\n",
       "      <th>scores</th>\n",
       "      <th>vader_compound</th>\n",
       "      <th>textblob_polarity</th>\n",
       "      <th>textblob_sentiment</th>\n",
       "      <th>textblob_subjectivity</th>\n",
       "    </tr>\n",
       "  </thead>\n",
       "  <tbody>\n",
       "    <tr>\n",
       "      <th>0</th>\n",
       "      <td>As U.S. budget fight looms, Republicans flip t...</td>\n",
       "      <td>politicsNews</td>\n",
       "      <td>True</td>\n",
       "      <td>us budget fight looms republicans flip fiscal ...</td>\n",
       "      <td>{'neg': 0.072, 'neu': 0.801, 'pos': 0.127, 'co...</td>\n",
       "      <td>0.9790</td>\n",
       "      <td>0.036979</td>\n",
       "      <td>pos</td>\n",
       "      <td>0.403438</td>\n",
       "    </tr>\n",
       "    <tr>\n",
       "      <th>1</th>\n",
       "      <td>U.S. military to accept transgender recruits o...</td>\n",
       "      <td>politicsNews</td>\n",
       "      <td>True</td>\n",
       "      <td>us military accept transgender recruits monday...</td>\n",
       "      <td>{'neg': 0.089, 'neu': 0.753, 'pos': 0.158, 'co...</td>\n",
       "      <td>0.9661</td>\n",
       "      <td>0.106638</td>\n",
       "      <td>pos</td>\n",
       "      <td>0.290224</td>\n",
       "    </tr>\n",
       "    <tr>\n",
       "      <th>2</th>\n",
       "      <td>Senior U.S. Republican senator: 'Let Mr. Muell...</td>\n",
       "      <td>politicsNews</td>\n",
       "      <td>True</td>\n",
       "      <td>senior us republican senator let mr mueller jo...</td>\n",
       "      <td>{'neg': 0.071, 'neu': 0.839, 'pos': 0.09, 'com...</td>\n",
       "      <td>0.5719</td>\n",
       "      <td>0.129766</td>\n",
       "      <td>pos</td>\n",
       "      <td>0.311252</td>\n",
       "    </tr>\n",
       "    <tr>\n",
       "      <th>3</th>\n",
       "      <td>FBI Russia probe helped by Australian diplomat...</td>\n",
       "      <td>politicsNews</td>\n",
       "      <td>True</td>\n",
       "      <td>fbi russia probe helped australian diplomat ti...</td>\n",
       "      <td>{'neg': 0.096, 'neu': 0.81, 'pos': 0.093, 'com...</td>\n",
       "      <td>-0.1761</td>\n",
       "      <td>0.029358</td>\n",
       "      <td>pos</td>\n",
       "      <td>0.267688</td>\n",
       "    </tr>\n",
       "    <tr>\n",
       "      <th>4</th>\n",
       "      <td>Trump wants Postal Service to charge 'much mor...</td>\n",
       "      <td>politicsNews</td>\n",
       "      <td>True</td>\n",
       "      <td>trump wants postal service charge much amazon ...</td>\n",
       "      <td>{'neg': 0.083, 'neu': 0.79, 'pos': 0.127, 'com...</td>\n",
       "      <td>0.9633</td>\n",
       "      <td>0.036082</td>\n",
       "      <td>pos</td>\n",
       "      <td>0.356738</td>\n",
       "    </tr>\n",
       "    <tr>\n",
       "      <th>...</th>\n",
       "      <td>...</td>\n",
       "      <td>...</td>\n",
       "      <td>...</td>\n",
       "      <td>...</td>\n",
       "      <td>...</td>\n",
       "      <td>...</td>\n",
       "      <td>...</td>\n",
       "      <td>...</td>\n",
       "      <td>...</td>\n",
       "    </tr>\n",
       "    <tr>\n",
       "      <th>44893</th>\n",
       "      <td>McPain: John McCain Furious That Iran Treated ...</td>\n",
       "      <td>Middle-east</td>\n",
       "      <td>Fake</td>\n",
       "      <td>mcpain john mccain furious iran treated us sai...</td>\n",
       "      <td>{'neg': 0.158, 'neu': 0.678, 'pos': 0.163, 'co...</td>\n",
       "      <td>0.2495</td>\n",
       "      <td>0.022300</td>\n",
       "      <td>pos</td>\n",
       "      <td>0.456461</td>\n",
       "    </tr>\n",
       "    <tr>\n",
       "      <th>44894</th>\n",
       "      <td>JUSTICE? Yahoo Settles E-mail Privacy Class-ac...</td>\n",
       "      <td>Middle-east</td>\n",
       "      <td>Fake</td>\n",
       "      <td>justice yahoo settles email privacy classactio...</td>\n",
       "      <td>{'neg': 0.09, 'neu': 0.754, 'pos': 0.155, 'com...</td>\n",
       "      <td>0.9260</td>\n",
       "      <td>0.086667</td>\n",
       "      <td>pos</td>\n",
       "      <td>0.486667</td>\n",
       "    </tr>\n",
       "    <tr>\n",
       "      <th>44895</th>\n",
       "      <td>Sunnistan: US and Allied ‘Safe Zone’ Plan to T...</td>\n",
       "      <td>Middle-east</td>\n",
       "      <td>Fake</td>\n",
       "      <td>sunnistan us allied safe zone plan take territ...</td>\n",
       "      <td>{'neg': 0.156, 'neu': 0.71, 'pos': 0.135, 'com...</td>\n",
       "      <td>-0.9979</td>\n",
       "      <td>0.062158</td>\n",
       "      <td>pos</td>\n",
       "      <td>0.394354</td>\n",
       "    </tr>\n",
       "    <tr>\n",
       "      <th>44896</th>\n",
       "      <td>How to Blow $700 Million: Al Jazeera America F...</td>\n",
       "      <td>Middle-east</td>\n",
       "      <td>Fake</td>\n",
       "      <td>blow 700 million al jazeera america finally ca...</td>\n",
       "      <td>{'neg': 0.085, 'neu': 0.802, 'pos': 0.114, 'co...</td>\n",
       "      <td>0.8555</td>\n",
       "      <td>0.100000</td>\n",
       "      <td>pos</td>\n",
       "      <td>0.418640</td>\n",
       "    </tr>\n",
       "    <tr>\n",
       "      <th>44897</th>\n",
       "      <td>10 U.S. Navy Sailors Held by Iranian Military ...</td>\n",
       "      <td>Middle-east</td>\n",
       "      <td>Fake</td>\n",
       "      <td>10 us navy sailors held iranian military – sig...</td>\n",
       "      <td>{'neg': 0.173, 'neu': 0.756, 'pos': 0.07, 'com...</td>\n",
       "      <td>-0.9962</td>\n",
       "      <td>0.008749</td>\n",
       "      <td>pos</td>\n",
       "      <td>0.379685</td>\n",
       "    </tr>\n",
       "  </tbody>\n",
       "</table>\n",
       "<p>44898 rows × 9 columns</p>\n",
       "</div>"
      ],
      "text/plain": [
       "                                                    text       subject  \\\n",
       "0      As U.S. budget fight looms, Republicans flip t...  politicsNews   \n",
       "1      U.S. military to accept transgender recruits o...  politicsNews   \n",
       "2      Senior U.S. Republican senator: 'Let Mr. Muell...  politicsNews   \n",
       "3      FBI Russia probe helped by Australian diplomat...  politicsNews   \n",
       "4      Trump wants Postal Service to charge 'much mor...  politicsNews   \n",
       "...                                                  ...           ...   \n",
       "44893  McPain: John McCain Furious That Iran Treated ...   Middle-east   \n",
       "44894  JUSTICE? Yahoo Settles E-mail Privacy Class-ac...   Middle-east   \n",
       "44895  Sunnistan: US and Allied ‘Safe Zone’ Plan to T...   Middle-east   \n",
       "44896  How to Blow $700 Million: Al Jazeera America F...   Middle-east   \n",
       "44897  10 U.S. Navy Sailors Held by Iranian Military ...   Middle-east   \n",
       "\n",
       "      class_label                                  text_preprocessed  \\\n",
       "0            True  us budget fight looms republicans flip fiscal ...   \n",
       "1            True  us military accept transgender recruits monday...   \n",
       "2            True  senior us republican senator let mr mueller jo...   \n",
       "3            True  fbi russia probe helped australian diplomat ti...   \n",
       "4            True  trump wants postal service charge much amazon ...   \n",
       "...           ...                                                ...   \n",
       "44893        Fake  mcpain john mccain furious iran treated us sai...   \n",
       "44894        Fake  justice yahoo settles email privacy classactio...   \n",
       "44895        Fake  sunnistan us allied safe zone plan take territ...   \n",
       "44896        Fake  blow 700 million al jazeera america finally ca...   \n",
       "44897        Fake  10 us navy sailors held iranian military – sig...   \n",
       "\n",
       "                                                  scores  vader_compound  \\\n",
       "0      {'neg': 0.072, 'neu': 0.801, 'pos': 0.127, 'co...          0.9790   \n",
       "1      {'neg': 0.089, 'neu': 0.753, 'pos': 0.158, 'co...          0.9661   \n",
       "2      {'neg': 0.071, 'neu': 0.839, 'pos': 0.09, 'com...          0.5719   \n",
       "3      {'neg': 0.096, 'neu': 0.81, 'pos': 0.093, 'com...         -0.1761   \n",
       "4      {'neg': 0.083, 'neu': 0.79, 'pos': 0.127, 'com...          0.9633   \n",
       "...                                                  ...             ...   \n",
       "44893  {'neg': 0.158, 'neu': 0.678, 'pos': 0.163, 'co...          0.2495   \n",
       "44894  {'neg': 0.09, 'neu': 0.754, 'pos': 0.155, 'com...          0.9260   \n",
       "44895  {'neg': 0.156, 'neu': 0.71, 'pos': 0.135, 'com...         -0.9979   \n",
       "44896  {'neg': 0.085, 'neu': 0.802, 'pos': 0.114, 'co...          0.8555   \n",
       "44897  {'neg': 0.173, 'neu': 0.756, 'pos': 0.07, 'com...         -0.9962   \n",
       "\n",
       "       textblob_polarity textblob_sentiment  textblob_subjectivity  \n",
       "0               0.036979                pos               0.403438  \n",
       "1               0.106638                pos               0.290224  \n",
       "2               0.129766                pos               0.311252  \n",
       "3               0.029358                pos               0.267688  \n",
       "4               0.036082                pos               0.356738  \n",
       "...                  ...                ...                    ...  \n",
       "44893           0.022300                pos               0.456461  \n",
       "44894           0.086667                pos               0.486667  \n",
       "44895           0.062158                pos               0.394354  \n",
       "44896           0.100000                pos               0.418640  \n",
       "44897           0.008749                pos               0.379685  \n",
       "\n",
       "[44898 rows x 9 columns]"
      ]
     },
     "metadata": {},
     "execution_count": 44
    }
   ],
   "metadata": {}
  },
  {
   "cell_type": "markdown",
   "source": [
    "## Plotting counts of Sentiment\r\n",
    "### For True Articles"
   ],
   "metadata": {}
  },
  {
   "cell_type": "code",
   "execution_count": 51,
   "source": [
    "x = df[df['class_label']=='True']['textblob_sentiment'].unique()\r\n",
    "y = df[df['class_label']=='True']['textblob_sentiment'].value_counts().values\r\n",
    "\r\n",
    "def add_labels(x,y):\r\n",
    "    for i in range(len(x)):\r\n",
    "        plt.text(i,y[i]+200,y[i], ha='center') # Second element - adjust space above bar to plot the label\r\n",
    "\r\n",
    "plt.figure()\r\n",
    "plt.ylim([0, 16000]) # Set y-axis limits\r\n",
    "plt.bar(x,y)\r\n",
    "plt.xticks(rotation=70)\r\n",
    "plt.title('Sentiment Distribution for True articles')\r\n",
    "plt.xlabel('Sentiment')\r\n",
    "plt.ylabel('Frequency')\r\n",
    "add_labels(x,y)\r\n",
    "plt.show()"
   ],
   "outputs": [
    {
     "output_type": "display_data",
     "data": {
      "image/png": "[encoded data removed]",
      "text/plain": [
       "<Figure size 432x288 with 1 Axes>"
      ]
     },
     "metadata": {
      "needs_background": "light"
     }
    }
   ],
   "metadata": {}
  },
  {
   "cell_type": "markdown",
   "source": [
    "### For Fake Articles"
   ],
   "metadata": {}
  },
  {
   "cell_type": "code",
   "execution_count": 52,
   "source": [
    "x = df[df['class_label']=='Fake']['textblob_sentiment'].unique()\r\n",
    "y = df[df['class_label']=='Fake']['textblob_sentiment'].value_counts().values\r\n",
    "\r\n",
    "def add_labels(x,y):\r\n",
    "    for i in range(len(x)):\r\n",
    "        plt.text(i,y[i]+200,y[i], ha='center') # Second element - adjust space above bar to plot the label\r\n",
    "\r\n",
    "plt.figure()\r\n",
    "plt.ylim([0, 17000]) # Set y-axis limits\r\n",
    "plt.bar(x,y)\r\n",
    "plt.xticks(rotation=70)\r\n",
    "plt.title('Sentiment Distribution for Fake articles')\r\n",
    "plt.xlabel('Sentiment')\r\n",
    "plt.ylabel('Frequency')\r\n",
    "add_labels(x,y)\r\n",
    "plt.show()"
   ],
   "outputs": [
    {
     "output_type": "display_data",
     "data": {
      "image/png": "[encoded data removed]",
      "text/plain": [
       "<Figure size 432x288 with 1 Axes>"
      ]
     },
     "metadata": {
      "needs_background": "light"
     }
    }
   ],
   "metadata": {}
  },
  {
   "cell_type": "markdown",
   "source": [
    "## Subjectivity Distribution\r\n",
    "### For True articles"
   ],
   "metadata": {}
  },
  {
   "cell_type": "code",
   "execution_count": null,
   "source": [
    "x = df[df['class_label']=='True']['textblob_subjectivity'].unique()\r\n",
    "y = df[df['class_label']=='True']['textblob_subjectivity'].value_counts().values\r\n",
    "\r\n",
    "def add_labels(x,y):\r\n",
    "    for i in range(len(x)):\r\n",
    "        plt.text(i,y[i]+200,y[i], ha='center') # Second element - adjust space above bar to plot the label\r\n",
    "\r\n",
    "plt.figure()\r\n",
    "plt.ylim([0, 16000]) # Set y-axis limits\r\n",
    "plt.bar(x,y)\r\n",
    "plt.xticks(rotation=70)\r\n",
    "plt.title('Subjectivity Distribution for True articles')\r\n",
    "plt.xlabel('Sentiment')\r\n",
    "plt.ylabel('Frequency')\r\n",
    "add_labels(x,y)\r\n",
    "plt.show()"
   ],
   "outputs": [],
   "metadata": {}
  },
  {
   "cell_type": "code",
   "execution_count": 67,
   "source": [
    "true_subjectivity_hist = df[df['class_label']=='True'].hist(column='textblob_subjectivity')\r\n",
    "plt.title('Subjectivity Distribution for True articles')\r\n",
    "plt.xlabel('Subjectivity')\r\n",
    "plt.ylabel('Count')\r\n",
    "plt.savefig('../images/sentiment analysis/subjectivity_distribution_true_articles.png')"
   ],
   "outputs": [
    {
     "output_type": "display_data",
     "data": {
      "image/png": "[encoded data removed]",
      "text/plain": [
       "<Figure size 432x288 with 1 Axes>"
      ]
     },
     "metadata": {
      "needs_background": "light"
     }
    }
   ],
   "metadata": {}
  },
  {
   "cell_type": "code",
   "execution_count": 68,
   "source": [
    "fake_subjectivity_hist = df[df['class_label']=='Fake'].hist(column='textblob_subjectivity')\r\n",
    "plt.title('Subjectivity Distribution for Fake articles')\r\n",
    "plt.xlabel('Subjectivity')\r\n",
    "plt.ylabel('Count')\r\n",
    "plt.savefig('../images/sentiment analysis/subjectivity_distribution_fake_articles.png')"
   ],
   "outputs": [
    {
     "output_type": "display_data",
     "data": {
      "image/png": "[encoded data removed]",
      "text/plain": [
       "<Figure size 432x288 with 1 Axes>"
      ]
     },
     "metadata": {
      "needs_background": "light"
     }
    }
   ],
   "metadata": {}
  },
  {
   "cell_type": "code",
   "execution_count": 46,
   "source": [
    "true_vader_polarity_hist = df[df['class_label']=='True'].hist(column='vader_compound')\r\n",
    "plt.title('VADER Sentiment Polarity Distribution for True articles')\r\n",
    "plt.xlabel('Sentiment Polarity')\r\n",
    "plt.ylabel('Count')"
   ],
   "outputs": [
    {
     "output_type": "execute_result",
     "data": {
      "text/plain": [
       "Text(0, 0.5, 'Count')"
      ]
     },
     "metadata": {},
     "execution_count": 46
    },
    {
     "output_type": "display_data",
     "data": {
      "image/png": "[encoded data removed]",
      "text/plain": [
       "<Figure size 432x288 with 1 Axes>"
      ]
     },
     "metadata": {
      "needs_background": "light"
     }
    }
   ],
   "metadata": {}
  },
  {
   "cell_type": "code",
   "execution_count": 47,
   "source": [
    "fake_vader_polarity_hist = df[df['class_label']=='Fake'].hist(column='vader_compound')\r\n",
    "plt.title('VADER Sentiment Polarity Distribution for Fake articles')\r\n",
    "plt.xlabel('Sentiment Polarity')\r\n",
    "plt.ylabel('Count')"
   ],
   "outputs": [
    {
     "output_type": "execute_result",
     "data": {
      "text/plain": [
       "Text(0, 0.5, 'Count')"
      ]
     },
     "metadata": {},
     "execution_count": 47
    },
    {
     "output_type": "display_data",
     "data": {
      "image/png": "[encoded data removed]",
      "text/plain": [
       "<Figure size 432x288 with 1 Axes>"
      ]
     },
     "metadata": {
      "needs_background": "light"
     }
    }
   ],
   "metadata": {}
  },
  {
   "cell_type": "code",
   "execution_count": 48,
   "source": [
    "true_texblob_polarity_hist = df[df['class_label']=='True'].hist(column='textblob_polarity')\r\n",
    "plt.title('Textblob Sentiment Polarity Distribution for True articles')\r\n",
    "plt.xlabel('Sentiment Polarity')\r\n",
    "plt.ylabel('Count')"
   ],
   "outputs": [
    {
     "output_type": "execute_result",
     "data": {
      "text/plain": [
       "Text(0, 0.5, 'Count')"
      ]
     },
     "metadata": {},
     "execution_count": 48
    },
    {
     "output_type": "display_data",
     "data": {
      "image/png": "[encoded data removed]",
      "text/plain": [
       "<Figure size 432x288 with 1 Axes>"
      ]
     },
     "metadata": {
      "needs_background": "light"
     }
    }
   ],
   "metadata": {}
  },
  {
   "cell_type": "code",
   "execution_count": 50,
   "source": [
    "fake_textblob_polarity_hist = df[df['class_label']=='Fake'].hist(column='textblob_polarity')\r\n",
    "plt.title('VADER Sentiment Polarity Distribution for Fake articles')\r\n",
    "plt.xlabel('Sentiment Polarity')\r\n",
    "plt.ylabel('Count')"
   ],
   "outputs": [
    {
     "output_type": "execute_result",
     "data": {
      "text/plain": [
       "Text(0, 0.5, 'Count')"
      ]
     },
     "metadata": {},
     "execution_count": 50
    },
    {
     "output_type": "display_data",
     "data": {
      "image/png": "[encoded data removed]",
      "text/plain": [
       "<Figure size 432x288 with 1 Axes>"
      ]
     },
     "metadata": {
      "needs_background": "light"
     }
    }
   ],
   "metadata": {}
  }
 ],
 "metadata": {
  "orig_nbformat": 4,
  "language_info": {
   "name": "python",
   "version": "3.7.3",
   "mimetype": "text/x-python",
   "codemirror_mode": {
    "name": "ipython",
    "version": 3
   },
   "pygments_lexer": "ipython3",
   "nbconvert_exporter": "python",
   "file_extension": ".py"
  },
  "kernelspec": {
   "name": "python3",
   "display_name": "Python 3.7.3 64-bit ('base': conda)"
  },
  "interpreter": {
   "hash": "5f292722d6d50c2426abae6fd15a85386b49c5393ec98f1c35f79e4e4dd7448b"
  }
 },
 "nbformat": 4,
 "nbformat_minor": 2
}